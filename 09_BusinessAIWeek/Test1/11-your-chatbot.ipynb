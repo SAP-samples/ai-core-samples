{
 "cells": [
  {
   "cell_type": "markdown",
   "metadata": {},
   "source": [
    "# Now it's your turn!\n",
    "Build your own chatbot similar to [10-chatbot-with-memory.ipynb](10-chatbot-with-memory.ipynb) with what you have learned! Combine what you have learned in [08-orchestration-service.ipynb](08-orchestration-service.ipynb) and/or [09-orchestration-service-grounding.ipynb](09-orchestration-service-grounding.ipynb) and build a chatbot that can answer SAP specific questions or filter out personal data or hate speech."
   ]
  },
  {
   "cell_type": "code",
   "execution_count": null,
   "metadata": {},
   "outputs": [],
   "source": [
    "import init_env\n",
    "import variables\n",
    "\n",
    "init_env.set_environment_variables()"
   ]
  },
  {
   "cell_type": "code",
   "execution_count": null,
   "metadata": {},
   "outputs": [],
   "source": [
    "# TODO Your code can start here!"
   ]
  },
  {
   "cell_type": "markdown",
   "metadata": {},
   "source": [
    "Well done! You have completed the CodeJam! If you still have time check out the optional [AI Agents exercise](12-ai-agents.ipynb)!"
   ]
  }
 ],
 "metadata": {
  "language_info": {
   "name": "python"
  }
 },
 "nbformat": 4,
 "nbformat_minor": 2
}
