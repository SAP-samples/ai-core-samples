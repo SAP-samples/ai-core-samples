{
 "cells": [
  {
   "cell_type": "markdown",
   "metadata": {},
   "source": [
    "# Store Embeddings for a Retrieval Augmented Generation (RAG) Use Case\n",
    "\n",
    "RAG is especially useful for question-answering use cases that involve large amounts of unstructured documents containing important information. \n",
    "\n",
    "Let’s implement a RAG use case so that the next time you ask about the [orchestration service](https://help.sap.com/doc/generative-ai-hub-sdk/CLOUD/en-US/_reference/orchestration-service.html), you get the correct response! To achieve this, you need to vectorize our context documents. You can find the documents to vectorize and store as embeddings in SAP HANA Cloud Vector Engine in the `documents` directory.\n",
    "\n",
    "## LangChain\n",
    "\n",
    "The Generative AI Hub Python SDK is compatible with the [LangChain](https://python.langchain.com/v0.1/docs/get_started/introduction) library. LangChain is a tool for building applications that utilize large language models, such as GPT models. It is valuable because it helps manage and connect different models, tools, and data, simplifying the process of creating complex AI workflows."
   ]
  },
  {
   "cell_type": "code",
   "execution_count": 1,
   "metadata": {},
   "outputs": [
    {
     "name": "stdout",
     "output_type": "stream",
     "text": [
      "https://anuragv2-39wjy902.authentication.eu10.hana.ondemand.com/oauth/token\n",
      "sb-adcd4907-f1a7-462d-ba8e-646390ee4185!b398425|aicore!b540\n",
      "107d3e9b-9a41-4b30-9b24-a091a45956cd$VmYxjzammFm50xkj1O37HmzgX3maoNrwfrlm99qUhi0=\n",
      "https://api.ai.prod.eu-central-1.aws.ml.hana.ondemand.com/v2\n",
      "llm-deployed\n"
     ]
    }
   ],
   "source": [
    "import json\n",
    "import os\n",
    "from ai_core_sdk.ai_core_v2_client import AICoreV2Client\n",
    "# Inline credentials\n",
    "with open('creds.json') as f:\n",
    "    credCF = json.load(f)\n",
    " \n",
    "# Set environment variables\n",
    "def set_environment_vars(credCF):\n",
    "    env_vars = {\n",
    "        'AICORE_AUTH_URL': credCF['url'] + '/oauth/token',\n",
    "        'AICORE_CLIENT_ID': credCF['clientid'],\n",
    "        'AICORE_CLIENT_SECRET': credCF['clientsecret'],\n",
    "        'AICORE_BASE_URL': credCF[\"serviceurls\"][\"AI_API_URL\"] + \"/v2\",\n",
    "        'AICORE_RESOURCE_GROUP': \"llm-deployed\"\n",
    "    }\n",
    " \n",
    "    for key, value in env_vars.items():\n",
    "        os.environ[key] = value\n",
    "        print(value)\n",
    " \n",
    "# Create AI Core client instance\n",
    "def create_ai_core_client(credCF):\n",
    "    set_environment_vars(credCF)  # Ensure environment variables are set\n",
    "    return AICoreV2Client(\n",
    "        base_url=os.environ['AICORE_BASE_URL'],\n",
    "        auth_url=os.environ['AICORE_AUTH_URL'],\n",
    "        client_id=os.environ['AICORE_CLIENT_ID'],\n",
    "        client_secret=os.environ['AICORE_CLIENT_SECRET'],\n",
    "        resource_group=os.environ['AICORE_RESOURCE_GROUP']\n",
    "    )\n",
    " \n",
    "ai_core_client = create_ai_core_client(credCF)"
   ]
  },
  {
   "cell_type": "code",
   "execution_count": 5,
   "metadata": {},
   "outputs": [
    {
     "name": "stdout",
     "output_type": "stream",
     "text": [
      "Name: generative-ai-hub-sdk\n",
      "Version: 4.4.3\n",
      "Summary: generative AI hub SDK\n",
      "Home-page: https://www.sap.com/\n",
      "Author: SAP SE\n",
      "Author-email: \n",
      "License: SAP DEVELOPER LICENSE AGREEMENT\n",
      "Location: C:\\Users\\C5385222\\AppData\\Local\\anaconda3\\Lib\\site-packages\n",
      "Requires: ai-core-sdk, click, dacite, httpx, openai, overloading, packaging, pydantic\n",
      "Required-by: \n"
     ]
    }
   ],
   "source": [
    "!pip show generative-ai-hub-sdk"
   ]
  },
  {
   "cell_type": "code",
   "execution_count": null,
   "metadata": {},
   "outputs": [
    {
     "name": "stdout",
     "output_type": "stream",
     "text": [
      "Requirement already satisfied: generative-ai-hub-sdk[all] in c:\\users\\c5385222\\appdata\\local\\anaconda3\\lib\\site-packages (4.4.3)\n",
      "Requirement already satisfied: click>=8.1.7 in c:\\users\\c5385222\\appdata\\local\\anaconda3\\lib\\site-packages (from generative-ai-hub-sdk[all]) (8.1.7)\n",
      "Requirement already satisfied: dacite>=1.8.1 in c:\\users\\c5385222\\appdata\\local\\anaconda3\\lib\\site-packages (from generative-ai-hub-sdk[all]) (1.9.2)\n",
      "Requirement already satisfied: httpx>=0.27.0 in c:\\users\\c5385222\\appdata\\local\\anaconda3\\lib\\site-packages (from generative-ai-hub-sdk[all]) (0.27.0)\n",
      "Requirement already satisfied: ai-core-sdk>=2.5.7 in c:\\users\\c5385222\\appdata\\local\\anaconda3\\lib\\site-packages (from generative-ai-hub-sdk[all]) (2.5.7)\n",
      "Requirement already satisfied: overloading==0.5.0 in c:\\users\\c5385222\\appdata\\local\\anaconda3\\lib\\site-packages (from generative-ai-hub-sdk[all]) (0.5.0)\n",
      "Requirement already satisfied: pydantic==2.9.2 in c:\\users\\c5385222\\appdata\\local\\anaconda3\\lib\\site-packages (from generative-ai-hub-sdk[all]) (2.9.2)\n",
      "Requirement already satisfied: openai>=1.56.0 in c:\\users\\c5385222\\appdata\\local\\anaconda3\\lib\\site-packages (from generative-ai-hub-sdk[all]) (1.70.0)\n",
      "Requirement already satisfied: packaging>=23.2 in c:\\users\\c5385222\\appdata\\local\\anaconda3\\lib\\site-packages (from generative-ai-hub-sdk[all]) (24.1)\n",
      "Requirement already satisfied: langchain~=0.3.0 in c:\\users\\c5385222\\appdata\\local\\anaconda3\\lib\\site-packages (from generative-ai-hub-sdk[all]) (0.3.18)\n",
      "Requirement already satisfied: langchain-openai>=0.2.14 in c:\\users\\c5385222\\appdata\\local\\anaconda3\\lib\\site-packages (from generative-ai-hub-sdk[all]) (0.3.12)\n",
      "Requirement already satisfied: langchain-community~=0.3.0 in c:\\users\\c5385222\\appdata\\local\\anaconda3\\lib\\site-packages (from generative-ai-hub-sdk[all]) (0.3.17)\n",
      "Requirement already satisfied: langchain-aws==0.2.1 in c:\\users\\c5385222\\appdata\\local\\anaconda3\\lib\\site-packages (from generative-ai-hub-sdk[all]) (0.2.1)\n",
      "Requirement already satisfied: google-cloud-aiplatform==1.61.0 in c:\\users\\c5385222\\appdata\\local\\anaconda3\\lib\\site-packages (from generative-ai-hub-sdk[all]) (1.61.0)\n",
      "Requirement already satisfied: langchain-google-vertexai==2.0.1 in c:\\users\\c5385222\\appdata\\local\\anaconda3\\lib\\site-packages (from generative-ai-hub-sdk[all]) (2.0.1)\n",
      "Requirement already satisfied: boto3==1.35.27 in c:\\users\\c5385222\\appdata\\local\\anaconda3\\lib\\site-packages (from generative-ai-hub-sdk[all]) (1.35.27)\n",
      "Requirement already satisfied: botocore<1.36.0,>=1.35.27 in c:\\users\\c5385222\\appdata\\local\\anaconda3\\lib\\site-packages (from boto3==1.35.27->generative-ai-hub-sdk[all]) (1.35.99)\n",
      "Requirement already satisfied: jmespath<2.0.0,>=0.7.1 in c:\\users\\c5385222\\appdata\\local\\anaconda3\\lib\\site-packages (from boto3==1.35.27->generative-ai-hub-sdk[all]) (1.0.1)\n",
      "Requirement already satisfied: s3transfer<0.11.0,>=0.10.0 in c:\\users\\c5385222\\appdata\\local\\anaconda3\\lib\\site-packages (from boto3==1.35.27->generative-ai-hub-sdk[all]) (0.10.4)\n",
      "Requirement already satisfied: google-api-core!=2.0.*,!=2.1.*,!=2.2.*,!=2.3.*,!=2.4.*,!=2.5.*,!=2.6.*,!=2.7.*,<3.0.0dev,>=1.34.1 in c:\\users\\c5385222\\appdata\\local\\anaconda3\\lib\\site-packages (from google-api-core[grpc]!=2.0.*,!=2.1.*,!=2.2.*,!=2.3.*,!=2.4.*,!=2.5.*,!=2.6.*,!=2.7.*,<3.0.0dev,>=1.34.1->google-cloud-aiplatform==1.61.0->generative-ai-hub-sdk[all]) (2.24.2)\n",
      "Requirement already satisfied: google-auth<3.0.0dev,>=2.14.1 in c:\\users\\c5385222\\appdata\\local\\anaconda3\\lib\\site-packages (from google-cloud-aiplatform==1.61.0->generative-ai-hub-sdk[all]) (2.38.0)\n",
      "Requirement already satisfied: proto-plus<2.0.0dev,>=1.22.3 in c:\\users\\c5385222\\appdata\\local\\anaconda3\\lib\\site-packages (from google-cloud-aiplatform==1.61.0->generative-ai-hub-sdk[all]) (1.26.1)\n",
      "Requirement already satisfied: protobuf!=4.21.0,!=4.21.1,!=4.21.2,!=4.21.3,!=4.21.4,!=4.21.5,<6.0.0dev,>=3.20.2 in c:\\users\\c5385222\\appdata\\local\\anaconda3\\lib\\site-packages (from google-cloud-aiplatform==1.61.0->generative-ai-hub-sdk[all]) (5.29.4)\n",
      "Requirement already satisfied: google-cloud-storage<3.0.0dev,>=1.32.0 in c:\\users\\c5385222\\appdata\\local\\anaconda3\\lib\\site-packages (from google-cloud-aiplatform==1.61.0->generative-ai-hub-sdk[all]) (2.19.0)\n",
      "Requirement already satisfied: google-cloud-bigquery!=3.20.0,<4.0.0dev,>=1.15.0 in c:\\users\\c5385222\\appdata\\local\\anaconda3\\lib\\site-packages (from google-cloud-aiplatform==1.61.0->generative-ai-hub-sdk[all]) (3.30.0)\n",
      "Requirement already satisfied: google-cloud-resource-manager<3.0.0dev,>=1.3.3 in c:\\users\\c5385222\\appdata\\local\\anaconda3\\lib\\site-packages (from google-cloud-aiplatform==1.61.0->generative-ai-hub-sdk[all]) (1.14.2)\n",
      "Requirement already satisfied: shapely<3.0.0dev in c:\\users\\c5385222\\appdata\\local\\anaconda3\\lib\\site-packages (from google-cloud-aiplatform==1.61.0->generative-ai-hub-sdk[all]) (2.0.7)\n",
      "Requirement already satisfied: docstring-parser<1 in c:\\users\\c5385222\\appdata\\local\\anaconda3\\lib\\site-packages (from google-cloud-aiplatform==1.61.0->generative-ai-hub-sdk[all]) (0.16)\n",
      "Requirement already satisfied: langchain-core<0.4,>=0.3.2 in c:\\users\\c5385222\\appdata\\local\\anaconda3\\lib\\site-packages (from langchain-aws==0.2.1->generative-ai-hub-sdk[all]) (0.3.51)\n",
      "Requirement already satisfied: numpy<2.0.0,>=1.26.0 in c:\\users\\c5385222\\appdata\\local\\anaconda3\\lib\\site-packages (from langchain-aws==0.2.1->generative-ai-hub-sdk[all]) (1.26.4)\n",
      "Requirement already satisfied: httpx-sse<0.5.0,>=0.4.0 in c:\\users\\c5385222\\appdata\\local\\anaconda3\\lib\\site-packages (from langchain-google-vertexai==2.0.1->generative-ai-hub-sdk[all]) (0.4.0)\n",
      "Requirement already satisfied: annotated-types>=0.6.0 in c:\\users\\c5385222\\appdata\\local\\anaconda3\\lib\\site-packages (from pydantic==2.9.2->generative-ai-hub-sdk[all]) (0.6.0)\n",
      "Requirement already satisfied: pydantic-core==2.23.4 in c:\\users\\c5385222\\appdata\\local\\anaconda3\\lib\\site-packages (from pydantic==2.9.2->generative-ai-hub-sdk[all]) (2.23.4)\n",
      "Requirement already satisfied: typing-extensions>=4.6.1 in c:\\users\\c5385222\\appdata\\local\\anaconda3\\lib\\site-packages (from pydantic==2.9.2->generative-ai-hub-sdk[all]) (4.11.0)\n",
      "Requirement already satisfied: ai-api-client-sdk==2.4.6 in c:\\users\\c5385222\\appdata\\local\\anaconda3\\lib\\site-packages (from ai-core-sdk>=2.5.7->generative-ai-hub-sdk[all]) (2.4.6)\n",
      "Requirement already satisfied: aenum~=3.1 in c:\\users\\c5385222\\appdata\\local\\anaconda3\\lib\\site-packages (from ai-api-client-sdk==2.4.6->ai-core-sdk>=2.5.7->generative-ai-hub-sdk[all]) (3.1.15)\n",
      "Requirement already satisfied: pyhumps~=3.0 in c:\\users\\c5385222\\appdata\\local\\anaconda3\\lib\\site-packages (from ai-api-client-sdk==2.4.6->ai-core-sdk>=2.5.7->generative-ai-hub-sdk[all]) (3.8.0)\n",
      "Requirement already satisfied: requests<3.0 in c:\\users\\c5385222\\appdata\\local\\anaconda3\\lib\\site-packages (from ai-api-client-sdk==2.4.6->ai-core-sdk>=2.5.7->generative-ai-hub-sdk[all]) (2.32.3)\n",
      "Requirement already satisfied: colorama in c:\\users\\c5385222\\appdata\\local\\anaconda3\\lib\\site-packages (from click>=8.1.7->generative-ai-hub-sdk[all]) (0.4.6)\n",
      "Requirement already satisfied: anyio in c:\\users\\c5385222\\appdata\\local\\anaconda3\\lib\\site-packages (from httpx>=0.27.0->generative-ai-hub-sdk[all]) (4.2.0)\n",
      "Requirement already satisfied: certifi in c:\\users\\c5385222\\appdata\\local\\anaconda3\\lib\\site-packages (from httpx>=0.27.0->generative-ai-hub-sdk[all]) (2024.8.30)\n",
      "Requirement already satisfied: httpcore==1.* in c:\\users\\c5385222\\appdata\\local\\anaconda3\\lib\\site-packages (from httpx>=0.27.0->generative-ai-hub-sdk[all]) (1.0.2)\n",
      "Requirement already satisfied: idna in c:\\users\\c5385222\\appdata\\local\\anaconda3\\lib\\site-packages (from httpx>=0.27.0->generative-ai-hub-sdk[all]) (3.7)\n",
      "Requirement already satisfied: sniffio in c:\\users\\c5385222\\appdata\\local\\anaconda3\\lib\\site-packages (from httpx>=0.27.0->generative-ai-hub-sdk[all]) (1.3.0)\n",
      "Requirement already satisfied: h11<0.15,>=0.13 in c:\\users\\c5385222\\appdata\\local\\anaconda3\\lib\\site-packages (from httpcore==1.*->httpx>=0.27.0->generative-ai-hub-sdk[all]) (0.14.0)\n",
      "Requirement already satisfied: langchain-text-splitters<1.0.0,>=0.3.6 in c:\\users\\c5385222\\appdata\\local\\anaconda3\\lib\\site-packages (from langchain~=0.3.0->generative-ai-hub-sdk[all]) (0.3.6)\n",
      "Requirement already satisfied: langsmith<0.4,>=0.1.17 in c:\\users\\c5385222\\appdata\\local\\anaconda3\\lib\\site-packages (from langchain~=0.3.0->generative-ai-hub-sdk[all]) (0.3.8)\n",
      "Requirement already satisfied: SQLAlchemy<3,>=1.4 in c:\\users\\c5385222\\appdata\\local\\anaconda3\\lib\\site-packages (from langchain~=0.3.0->generative-ai-hub-sdk[all]) (2.0.34)\n",
      "Requirement already satisfied: PyYAML>=5.3 in c:\\users\\c5385222\\appdata\\local\\anaconda3\\lib\\site-packages (from langchain~=0.3.0->generative-ai-hub-sdk[all]) (6.0.1)\n",
      "Requirement already satisfied: aiohttp<4.0.0,>=3.8.3 in c:\\users\\c5385222\\appdata\\local\\anaconda3\\lib\\site-packages (from langchain~=0.3.0->generative-ai-hub-sdk[all]) (3.10.5)\n",
      "Requirement already satisfied: tenacity!=8.4.0,<10,>=8.1.0 in c:\\users\\c5385222\\appdata\\local\\anaconda3\\lib\\site-packages (from langchain~=0.3.0->generative-ai-hub-sdk[all]) (8.2.3)\n",
      "Requirement already satisfied: dataclasses-json<0.7,>=0.5.7 in c:\\users\\c5385222\\appdata\\local\\anaconda3\\lib\\site-packages (from langchain-community~=0.3.0->generative-ai-hub-sdk[all]) (0.6.7)\n",
      "Requirement already satisfied: pydantic-settings<3.0.0,>=2.4.0 in c:\\users\\c5385222\\appdata\\local\\anaconda3\\lib\\site-packages (from langchain-community~=0.3.0->generative-ai-hub-sdk[all]) (2.7.1)\n",
      "Requirement already satisfied: tiktoken<1,>=0.7 in c:\\users\\c5385222\\appdata\\local\\anaconda3\\lib\\site-packages (from langchain-openai>=0.2.14->generative-ai-hub-sdk[all]) (0.9.0)\n",
      "Requirement already satisfied: distro<2,>=1.7.0 in c:\\users\\c5385222\\appdata\\local\\anaconda3\\lib\\site-packages (from openai>=1.56.0->generative-ai-hub-sdk[all]) (1.9.0)\n",
      "Requirement already satisfied: jiter<1,>=0.4.0 in c:\\users\\c5385222\\appdata\\local\\anaconda3\\lib\\site-packages (from openai>=1.56.0->generative-ai-hub-sdk[all]) (0.8.2)\n",
      "Requirement already satisfied: tqdm>4 in c:\\users\\c5385222\\appdata\\local\\anaconda3\\lib\\site-packages (from openai>=1.56.0->generative-ai-hub-sdk[all]) (4.66.5)\n",
      "Requirement already satisfied: aiohappyeyeballs>=2.3.0 in c:\\users\\c5385222\\appdata\\local\\anaconda3\\lib\\site-packages (from aiohttp<4.0.0,>=3.8.3->langchain~=0.3.0->generative-ai-hub-sdk[all]) (2.4.0)\n",
      "Requirement already satisfied: aiosignal>=1.1.2 in c:\\users\\c5385222\\appdata\\local\\anaconda3\\lib\\site-packages (from aiohttp<4.0.0,>=3.8.3->langchain~=0.3.0->generative-ai-hub-sdk[all]) (1.2.0)\n",
      "Requirement already satisfied: attrs>=17.3.0 in c:\\users\\c5385222\\appdata\\local\\anaconda3\\lib\\site-packages (from aiohttp<4.0.0,>=3.8.3->langchain~=0.3.0->generative-ai-hub-sdk[all]) (23.1.0)\n",
      "Requirement already satisfied: frozenlist>=1.1.1 in c:\\users\\c5385222\\appdata\\local\\anaconda3\\lib\\site-packages (from aiohttp<4.0.0,>=3.8.3->langchain~=0.3.0->generative-ai-hub-sdk[all]) (1.4.0)\n",
      "Requirement already satisfied: multidict<7.0,>=4.5 in c:\\users\\c5385222\\appdata\\local\\anaconda3\\lib\\site-packages (from aiohttp<4.0.0,>=3.8.3->langchain~=0.3.0->generative-ai-hub-sdk[all]) (6.0.4)\n",
      "Requirement already satisfied: yarl<2.0,>=1.0 in c:\\users\\c5385222\\appdata\\local\\anaconda3\\lib\\site-packages (from aiohttp<4.0.0,>=3.8.3->langchain~=0.3.0->generative-ai-hub-sdk[all]) (1.11.0)\n",
      "Requirement already satisfied: python-dateutil<3.0.0,>=2.1 in c:\\users\\c5385222\\appdata\\local\\anaconda3\\lib\\site-packages (from botocore<1.36.0,>=1.35.27->boto3==1.35.27->generative-ai-hub-sdk[all]) (2.9.0.post0)\n",
      "Requirement already satisfied: urllib3!=2.2.0,<3,>=1.25.4 in c:\\users\\c5385222\\appdata\\local\\anaconda3\\lib\\site-packages (from botocore<1.36.0,>=1.35.27->boto3==1.35.27->generative-ai-hub-sdk[all]) (2.2.3)\n",
      "Requirement already satisfied: marshmallow<4.0.0,>=3.18.0 in c:\\users\\c5385222\\appdata\\local\\anaconda3\\lib\\site-packages (from dataclasses-json<0.7,>=0.5.7->langchain-community~=0.3.0->generative-ai-hub-sdk[all]) (3.26.1)\n",
      "Requirement already satisfied: typing-inspect<1,>=0.4.0 in c:\\users\\c5385222\\appdata\\local\\anaconda3\\lib\\site-packages (from dataclasses-json<0.7,>=0.5.7->langchain-community~=0.3.0->generative-ai-hub-sdk[all]) (0.9.0)\n",
      "Requirement already satisfied: googleapis-common-protos<2.0.0,>=1.56.2 in c:\\users\\c5385222\\appdata\\local\\anaconda3\\lib\\site-packages (from google-api-core!=2.0.*,!=2.1.*,!=2.2.*,!=2.3.*,!=2.4.*,!=2.5.*,!=2.6.*,!=2.7.*,<3.0.0dev,>=1.34.1->google-api-core[grpc]!=2.0.*,!=2.1.*,!=2.2.*,!=2.3.*,!=2.4.*,!=2.5.*,!=2.6.*,!=2.7.*,<3.0.0dev,>=1.34.1->google-cloud-aiplatform==1.61.0->generative-ai-hub-sdk[all]) (1.69.2)\n",
      "Requirement already satisfied: grpcio<2.0dev,>=1.33.2 in c:\\users\\c5385222\\appdata\\local\\anaconda3\\lib\\site-packages (from google-api-core[grpc]!=2.0.*,!=2.1.*,!=2.2.*,!=2.3.*,!=2.4.*,!=2.5.*,!=2.6.*,!=2.7.*,<3.0.0dev,>=1.34.1->google-cloud-aiplatform==1.61.0->generative-ai-hub-sdk[all]) (1.71.0)\n",
      "Requirement already satisfied: grpcio-status<2.0.dev0,>=1.33.2 in c:\\users\\c5385222\\appdata\\local\\anaconda3\\lib\\site-packages (from google-api-core[grpc]!=2.0.*,!=2.1.*,!=2.2.*,!=2.3.*,!=2.4.*,!=2.5.*,!=2.6.*,!=2.7.*,<3.0.0dev,>=1.34.1->google-cloud-aiplatform==1.61.0->generative-ai-hub-sdk[all]) (1.71.0)\n",
      "Requirement already satisfied: cachetools<6.0,>=2.0.0 in c:\\users\\c5385222\\appdata\\local\\anaconda3\\lib\\site-packages (from google-auth<3.0.0dev,>=2.14.1->google-cloud-aiplatform==1.61.0->generative-ai-hub-sdk[all]) (5.3.3)\n",
      "Requirement already satisfied: pyasn1-modules>=0.2.1 in c:\\users\\c5385222\\appdata\\local\\anaconda3\\lib\\site-packages (from google-auth<3.0.0dev,>=2.14.1->google-cloud-aiplatform==1.61.0->generative-ai-hub-sdk[all]) (0.2.8)\n",
      "Requirement already satisfied: rsa<5,>=3.1.4 in c:\\users\\c5385222\\appdata\\local\\anaconda3\\lib\\site-packages (from google-auth<3.0.0dev,>=2.14.1->google-cloud-aiplatform==1.61.0->generative-ai-hub-sdk[all]) (4.9)\n",
      "Requirement already satisfied: google-cloud-core<3.0.0dev,>=2.4.1 in c:\\users\\c5385222\\appdata\\local\\anaconda3\\lib\\site-packages (from google-cloud-bigquery!=3.20.0,<4.0.0dev,>=1.15.0->google-cloud-aiplatform==1.61.0->generative-ai-hub-sdk[all]) (2.4.3)\n",
      "Requirement already satisfied: google-resumable-media<3.0dev,>=2.0.0 in c:\\users\\c5385222\\appdata\\local\\anaconda3\\lib\\site-packages (from google-cloud-bigquery!=3.20.0,<4.0.0dev,>=1.15.0->google-cloud-aiplatform==1.61.0->generative-ai-hub-sdk[all]) (2.7.2)\n",
      "Requirement already satisfied: grpc-google-iam-v1<1.0.0,>=0.14.0 in c:\\users\\c5385222\\appdata\\local\\anaconda3\\lib\\site-packages (from google-cloud-resource-manager<3.0.0dev,>=1.3.3->google-cloud-aiplatform==1.61.0->generative-ai-hub-sdk[all]) (0.14.2)\n",
      "Requirement already satisfied: google-crc32c<2.0dev,>=1.0 in c:\\users\\c5385222\\appdata\\local\\anaconda3\\lib\\site-packages (from google-cloud-storage<3.0.0dev,>=1.32.0->google-cloud-aiplatform==1.61.0->generative-ai-hub-sdk[all]) (1.7.0)\n",
      "Requirement already satisfied: jsonpatch<2.0,>=1.33 in c:\\users\\c5385222\\appdata\\local\\anaconda3\\lib\\site-packages (from langchain-core<0.4,>=0.3.2->langchain-aws==0.2.1->generative-ai-hub-sdk[all]) (1.33)\n",
      "Requirement already satisfied: orjson<4.0.0,>=3.9.14 in c:\\users\\c5385222\\appdata\\local\\anaconda3\\lib\\site-packages (from langsmith<0.4,>=0.1.17->langchain~=0.3.0->generative-ai-hub-sdk[all]) (3.10.15)\n",
      "Requirement already satisfied: requests-toolbelt<2.0.0,>=1.0.0 in c:\\users\\c5385222\\appdata\\local\\anaconda3\\lib\\site-packages (from langsmith<0.4,>=0.1.17->langchain~=0.3.0->generative-ai-hub-sdk[all]) (1.0.0)\n",
      "Requirement already satisfied: zstandard<0.24.0,>=0.23.0 in c:\\users\\c5385222\\appdata\\local\\anaconda3\\lib\\site-packages (from langsmith<0.4,>=0.1.17->langchain~=0.3.0->generative-ai-hub-sdk[all]) (0.23.0)\n",
      "Requirement already satisfied: python-dotenv>=0.21.0 in c:\\users\\c5385222\\appdata\\local\\anaconda3\\lib\\site-packages (from pydantic-settings<3.0.0,>=2.4.0->langchain-community~=0.3.0->generative-ai-hub-sdk[all]) (1.0.1)\n",
      "Requirement already satisfied: charset-normalizer<4,>=2 in c:\\users\\c5385222\\appdata\\local\\anaconda3\\lib\\site-packages (from requests<3.0->ai-api-client-sdk==2.4.6->ai-core-sdk>=2.5.7->generative-ai-hub-sdk[all]) (3.3.2)\n",
      "Requirement already satisfied: greenlet!=0.4.17 in c:\\users\\c5385222\\appdata\\local\\anaconda3\\lib\\site-packages (from SQLAlchemy<3,>=1.4->langchain~=0.3.0->generative-ai-hub-sdk[all]) (3.0.1)\n",
      "Requirement already satisfied: regex>=2022.1.18 in c:\\users\\c5385222\\appdata\\local\\anaconda3\\lib\\site-packages (from tiktoken<1,>=0.7->langchain-openai>=0.2.14->generative-ai-hub-sdk[all]) (2024.9.11)\n",
      "Requirement already satisfied: jsonpointer>=1.9 in c:\\users\\c5385222\\appdata\\local\\anaconda3\\lib\\site-packages (from jsonpatch<2.0,>=1.33->langchain-core<0.4,>=0.3.2->langchain-aws==0.2.1->generative-ai-hub-sdk[all]) (2.1)\n",
      "Requirement already satisfied: pyasn1<0.5.0,>=0.4.6 in c:\\users\\c5385222\\appdata\\local\\anaconda3\\lib\\site-packages (from pyasn1-modules>=0.2.1->google-auth<3.0.0dev,>=2.14.1->google-cloud-aiplatform==1.61.0->generative-ai-hub-sdk[all]) (0.4.8)\n",
      "Requirement already satisfied: six>=1.5 in c:\\users\\c5385222\\appdata\\local\\anaconda3\\lib\\site-packages (from python-dateutil<3.0.0,>=2.1->botocore<1.36.0,>=1.35.27->boto3==1.35.27->generative-ai-hub-sdk[all]) (1.16.0)\n",
      "Requirement already satisfied: mypy-extensions>=0.3.0 in c:\\users\\c5385222\\appdata\\local\\anaconda3\\lib\\site-packages (from typing-inspect<1,>=0.4.0->dataclasses-json<0.7,>=0.5.7->langchain-community~=0.3.0->generative-ai-hub-sdk[all]) (1.0.0)\n"
     ]
    }
   ],
   "source": [
    "!pip install \"generative-ai-hub-sdk[all]\""
   ]
  },
  {
   "cell_type": "code",
   "execution_count": 2,
   "metadata": {},
   "outputs": [],
   "source": [
    "from gen_ai_hub.proxy.core.proxy_clients import get_proxy_client\n",
    "from gen_ai_hub.proxy.langchain.init_models import init_embedding_model"
   ]
  },
  {
   "cell_type": "code",
   "execution_count": 3,
   "metadata": {},
   "outputs": [],
   "source": [
    "import warnings\n",
    "warnings.filterwarnings(\"ignore\", message=\"As the c extension\") #Avoid a warning message for \"RuntimeWarning: As the c extension couldn't be imported, `google-crc32c` is using a pure python implementation that is significantly slower. If possible, please configure a c build environment and compile the extension. warnings.warn(_SLOW_CRC32C_WARNING, RuntimeWarning)\"\n",
    "\n",
    "# OpenAIEmbeddings to create text embeddings\n",
    "from gen_ai_hub.proxy.langchain.openai import OpenAIEmbeddings\n",
    "\n",
    "# TextLoader to load documents\n",
    "from langchain_community.document_loaders import PyPDFDirectoryLoader\n",
    "\n",
    "# different TextSplitters to chunk documents into smaller text chunks\n",
    "from langchain_text_splitters import RecursiveCharacterTextSplitter\n",
    "\n",
    "# LangChain & HANA Vector Engine\n",
    "from langchain_community.vectorstores.hanavector import HanaDB"
   ]
  },
  {
   "cell_type": "markdown",
   "metadata": {},
   "source": [
    "👉 Change the `EMBEDDING_DEPLOYMENT_ID` in [variables.py](variables.py) to your deployment ID from exercise [01-explore-genai-hub](01-explore-genai-hub.md). For that go to **SAP AI Launchpad** application and navigate to **ML Operations** > **Deployments**.\n",
    "\n",
    "☝️ The `EMBEDDING_DEPLOYMENT_ID` is the embedding model that creates vector representations of your text e.g. **text-embedding-3-small**.\n",
    "\n",
    "👉 In [variables.py](variables.py) also set the `EMBEDDING_TABLE` to `\"EMBEDDINGS_CODEJAM_>add your name here<\"`, like `\"EMBEDDINGS_CODEJAM_NORA\"`.\n",
    "\n",
    "👉 In the root folder of the project create a [.user.ini](../.user.ini) file with the HANA login information provided by the instructor.\n",
    "```sh\n",
    "[hana]\n",
    "url=XXXXXX.hanacloud.ondemand.com\n",
    "user=XXXXXX\n",
    "passwd=XXXXXX\n",
    "port=443\n",
    "```"
   ]
  },
  {
   "cell_type": "code",
   "execution_count": 12,
   "metadata": {},
   "outputs": [],
   "source": [
    "EMBEDDING_DEPLOYMENT_ID = \"d7e7cd43afe2b169\""
   ]
  },
  {
   "cell_type": "code",
   "execution_count": 11,
   "metadata": {},
   "outputs": [],
   "source": [
    "def get_hana_connection():\n",
    "    conn = dbapi.connect(\n",
    "        address='ec41b786-96de-467b-9ff5-db725945f89c.hna0.prod-us10.hanacloud.ondemand.com',\n",
    "        port='443',\n",
    "        user='DBADMIN',\n",
    "        password='9hEW4UK86Fdt',\n",
    "        encrypt=True\n",
    "    )\n",
    "    return conn"
   ]
  },
  {
   "cell_type": "code",
   "execution_count": 8,
   "metadata": {},
   "outputs": [
    {
     "name": "stdout",
     "output_type": "stream",
     "text": [
      "Collecting hdbcli\n",
      "  Downloading hdbcli-2.24.24-cp36-abi3-win_amd64.whl.metadata (6.1 kB)\n",
      "Downloading hdbcli-2.24.24-cp36-abi3-win_amd64.whl (3.6 MB)\n",
      "   ---------------------------------------- 0.0/3.6 MB ? eta -:--:--\n",
      "   ----------------------- ---------------- 2.1/3.6 MB 29.1 MB/s eta 0:00:01\n",
      "   ---------------------------------------- 3.6/3.6 MB 10.7 MB/s eta 0:00:00\n",
      "Installing collected packages: hdbcli\n",
      "Successfully installed hdbcli-2.24.24\n"
     ]
    }
   ],
   "source": [
    "!pip install hdbcli"
   ]
  },
  {
   "cell_type": "code",
   "execution_count": 13,
   "metadata": {},
   "outputs": [],
   "source": [
    "from hdbcli import dbapi"
   ]
  },
  {
   "cell_type": "markdown",
   "metadata": {},
   "source": [
    "# Chunking of the documents\n",
    "\n",
    "Before you can create embeddings for your documents, you need to break them down into smaller text pieces, called \"`chunks`\". You will use the simplest chunking technique, which involves splitting the text based on character length and the separator `\"\\n\\n\"`, using the [Character Text Splitter](https://python.langchain.com/v0.1/docs/modules/data_connection/document_transformers/character_text_splitter/) from LangChain.\n",
    "\n",
    "## Character Text Splitter"
   ]
  },
  {
   "cell_type": "code",
   "execution_count": 15,
   "metadata": {},
   "outputs": [
    {
     "name": "stdout",
     "output_type": "stream",
     "text": [
      "Collecting pypdf\n",
      "  Downloading pypdf-5.4.0-py3-none-any.whl.metadata (7.3 kB)\n",
      "Downloading pypdf-5.4.0-py3-none-any.whl (302 kB)\n",
      "Installing collected packages: pypdf\n",
      "Successfully installed pypdf-5.4.0\n"
     ]
    }
   ],
   "source": [
    "!pip install pypdf"
   ]
  },
  {
   "cell_type": "code",
   "execution_count": 16,
   "metadata": {},
   "outputs": [
    {
     "name": "stdout",
     "output_type": "stream",
     "text": [
      "Number of document chunks: 59\n"
     ]
    }
   ],
   "source": [
    "\n",
    "# Load custom documents\n",
    "loader = PyPDFDirectoryLoader('documents/')\n",
    "documents = loader.load()\n",
    "text_splitter = RecursiveCharacterTextSplitter(chunk_size=500, chunk_overlap=50)\n",
    "texts = text_splitter.split_documents(documents)\n",
    "print(f\"Number of document chunks: {len(texts)}\")\n"
   ]
  },
  {
   "cell_type": "markdown",
   "metadata": {},
   "source": [
    "Now you can connect to your SAP HANA Cloud Vector Engine and store the embeddings for your text chunks."
   ]
  },
  {
   "cell_type": "code",
   "execution_count": 21,
   "metadata": {},
   "outputs": [
    {
     "name": "stdout",
     "output_type": "stream",
     "text": [
      "Table EMBEDDINGS_CODEJAM_Testing created in the SAP HANA database.\n"
     ]
    }
   ],
   "source": [
    "import importlib\n",
    "#variables = importlib.reload(variables)\n",
    "\n",
    "# DO NOT CHANGE THIS LINE BELOW - It is only to check whether you changed the table name in variables.py\n",
    "#assert variables.EMBEDDING_TABLE != 'EMBEDDINGS_CODEJAM_ADD_YOUR_NAME_HERE', 'EMBEDDING_TABLE name not changed in variables.py'\n",
    "\n",
    "# Create embeddings for custom documents\n",
    "embeddings = OpenAIEmbeddings(deployment_id=EMBEDDING_DEPLOYMENT_ID)\n",
    "\n",
    "db = HanaDB(\n",
    "    embedding=embeddings, connection=get_hana_connection(), table_name=\"EMBEDDINGS_CODEJAM_\"+\"Testing\"\n",
    ")\n",
    "\n",
    "# Delete already existing documents from the table\n",
    "db.delete(filter={})\n",
    "\n",
    "# add the loaded document chunks\n",
    "db.add_documents(texts)\n",
    "print(f\"Table {db.table_name} created in the SAP HANA database.\")"
   ]
  },
  {
   "cell_type": "markdown",
   "metadata": {},
   "source": [
    "## Check the embeddings in SAP HANA Cloud Vector Engine\n",
    "\n",
    "👉 Print the rows from your embedding table and scroll to the right to see the embeddings."
   ]
  },
  {
   "cell_type": "code",
   "execution_count": 24,
   "metadata": {},
   "outputs": [
    {
     "data": {
      "text/plain": [
       "{'VEC_TEXT': '/Examples/Orchestration Service\\nOrchestration Service\\nThis notebook demonstrates how to use the SDK to interact with the Orchestration\\nService, enabling the creation of AI-driven workflows by seamlessly integrating various\\nmodules, such as templating, large language models (LLMs), data masking and content\\nfiltering. By leveraging these modules, you can build complex, automated workflows that\\nenhance the capabilities of your AI solutions. For more details on configuring and using',\n",
       " 'VEC_META': {'producer': 'Skia/PDF m131',\n",
       "  'creator': 'Mozilla/5.0 (Macintosh; Intel Mac OS X 10_15_7) AppleWebKit/537.36 (KHTML, like Gecko) Chrome/131.0.0.0 Safari/537.36',\n",
       "  'creationdate': '2025-02-02T21:04:28+00:00',\n",
       "  'title': 'Orchestration Service | Generative AI hub SDK 4.1.1 documentation',\n",
       "  'moddate': '2025-02-02T21:04:28+00:00',\n",
       "  'source': 'documents\\\\Orchestration_Service_Generative_AI_hub_SDK.pdf',\n",
       "  'total_pages': 14,\n",
       "  'page': 0,\n",
       "  'page_label': '1'},\n",
       " 'VEC_VECTOR': '[-0.035093676,-0.0027178903,-0.029775612,0.003860443,-0.010629201,0.015898792,-0.012588852,0.0023162656,-0.016466606,-0.021410743,0.03204687,-0.00962514,-0.008634928,-0.009368931,-0.022463277,0.0028563815,0.015857246,-0.011958717,0.01577415,-0.021424592,-0.02966482,0.015718754,0.004480191,-0.006450229,0.00658872,0.004369398,0.014873957,-0.038085084,0.016785135,0.0027559754,0.02067674,-0.012505758,-0.037281837,-0.022920297,0.015649509,0.0027161592,0.0046602297,-0.0005660829,-0.0020964108,-0.0007768492,0.019651905,0.018613221,-0.0023733934,0.0041512745,-0.010469937,0.03357027,-0.030717352,-0.028224511,0.0031749113,-0.0012507489,0.019153336,0.030191086,-0.020579796,-0.0152894305,0.012983552,0.014887806,-0.01641121,0.015511017,0.037808105,-0.0284184,-0.009784405,0.011612489,-0.007838603,-0.024346758,-0.022906449,-0.011799452,-0.0065817954,0.017726876,0.008600305,-0.011813302,0.02679805,0.023792792,-0.032102264,-0.028612286,0.02570397,-0.028750777,-0.03168679,-0.0046221446,-0.0027905982,0.0030520004,0.0023006855,-0.01238804,0.010594578,0.045037344,0.017311404,0.021715423,-0.002219322,0.018696316,0.0019579197,-0.00540462,0.024623739,-0.010054463,0.007963246,0.010206803,-0.0008473932,0.009341233,-0.005629668,0.03204687,-0.006010519,-0.026770353,-0.0053976956,0.011439375,-0.040023964,-0.008316398,-0.05949583,-0.015801849,0.01720061,-0.007928623,0.024692984,0.020053528,-0.0125403805,0.029554026,-0.009715159,-0.039386902,-0.007859377,-0.006048604,0.0016246751,-0.019471865,-0.039525393,-0.0034016906,0.0026330643,0.049746048,0.015386375,-0.018100802,0.022920297,0.0025257338,0.021729274,-0.02855689,0.008136359,-0.013489045,0.03171449,-0.004397096,0.0083510205,-0.00013178306,-0.009112722,0.0072500156,-0.026936542,0.009244289,-0.030578861,0.010206803,0.0007123642,0.0109685045,0.0037669612,-0.0019458017,0.0015900524,0.009036552,0.016798986,0.005865103,-0.0034484314,0.0036457814,0.004092416,-0.028750777,-0.00138924,-0.00678607,0.009237365,0.007568545,0.01783767,0.020773683,-0.0152894305,-0.0037219515,-0.002331846,0.030661957,-0.00256555,-0.014347691,0.04212903,-0.007831679,0.019125639,0.00041655562,-0.01199334,0.011273186,0.0073954314,0.03423503,-0.02146614,0.012173379,0.011377054,-0.017491441,0.025122307,-0.029581726,-0.013502894,-0.01703442,0.019194884,0.00081277033,0.025773216,0.014278445,-0.025690122,-0.009742858,-0.0061490103,-0.0067375978,0.01893175,-0.0016039015,-0.026964242,0.03614621,0.0015891867,0.011501696,-0.6293041,-0.045979086,-0.00009759303,-0.023862038,0.02380664,0.0060035945,-0.008884212,0.0020548636,-0.007291563,0.022338634,-0.0012689258,-0.00015439607,-0.012104133,0.005958585,0.012256473,-0.025136156,0.013842198,-0.024734532,-0.017643781,0.007637791,-0.011757905,0.007679338,-0.020330511,-0.013205138,-0.0074577522,0.0010265661,0.017145213,0.012962778,0.0073123365,0.019859642,0.0054115443,-0.0077901315,0.013599838,0.013212062,0.041852046,0.01988734,-0.02793368,0.014472333,0.009888274,0.04041174,-0.007402356,-0.0002984053,0.021660028,0.005034156,0.012983552,0.007921698,0.02665956,-0.01562181,-0.019970434,-0.018114652,0.027545905,-0.0051657227,0.022490975,0.0020358209,-0.0038327447,0.004715626,0.024346758,-0.01214568,0.021244554,0.0033480253,-0.0007443903,0.010476861,-0.023958981,-0.008136359,-0.022657163,0.018225444,0.0016264063,-0.0009772287,-0.021563083,-0.032573134,0.035398357,0.020302814,0.009528196,-0.014389238,0.020926023,0.022823354,0.010248351,0.021909311,0.005726612,-0.0035523,0.020482851,0.0021189158,-0.0014541579,-0.028639985,-0.00013708467,0.016369663,-0.025814764,-0.0033687989,0.015954189,-0.0037288761,0.036700174,0.014112256,0.0015770688,-0.044400286,0.009050401,-0.008704173,0.0041166516,0.027310468,0.013627537,-0.00819868,0.010892334,0.011016977,0.014403087,0.008974231,0.042239822,0.0069384105,-0.027698245,0.012969703,0.022837203,-0.021812368,0.0060382173,-0.016452758,-0.018834807,0.016134227,0.01625887,-0.023889735,0.01120394,-0.012519606,0.02808602,-0.016341964,-0.012706569,-0.0067756833,0.014887806,-0.003394766,0.016355813,0.018710164,-0.0028892732,-0.037891198,0.004355549,-0.007824754,0.0012914307,-0.028529191,0.002470337,-0.0076447153,0.035786133,-0.00016164522,0.04307077,-0.005169185,0.01940262,-0.013094345,-0.018239293,-0.015788,0.016992873,-0.011515545,-0.0067722206,-0.0030156465,-0.024097472,-0.0014792593,-0.0072638644,0.0035869228,-0.00058079755,-0.022643315,-0.00024517273,0.012041812,0.011349356,-0.018045407,-0.007561621,-0.024845324,-0.0060070567,-0.02113376,-0.008600305,0.023751244,-0.027158128,0.009576668,-0.009514347,-0.00555696,-0.02429136,0.01735295,-0.03506598,-0.028695382,0.008904985,-0.016051132,-0.016605098,-0.004667154,0.006342898,-0.016466606,-0.03138211,0.007942472,0.04528663,-0.0037427254,-0.007443903,-0.013128968,-0.02650722,-0.02304494,0.034041144,0.0002549104,0.03742033,0.012845061,-0.0023976292,0.008870363,-0.028293757,0.01656355,0.010795391,0.019624205,-0.0013857778,0.012962778,-0.018280841,0.019485716,0.011564017,0.003701178,0.03393035,0.020233568,0.015261733,-0.010705371,-0.0082887,-0.013689857,-0.009687461,-0.018003859,0.0426276,0.009819028,0.04041174,-0.01718676,0.00059075165,-0.028169114,-0.006602569,0.0005812303,0.025039213,-0.015511017,-0.039497696,0.0012135294,0.013828348,-0.014105331,0.01112777,-0.032323852,-0.0043763225,0.0048298812,0.017588384,0.03174219,0.019984283,0.0020046604,-0.012415738,0.031132827,0.028044473,-0.006993807,-0.0021033355,-0.009445101,0.005034156,-0.006789532,0.018945599,-0.033210196,0.008863438,-0.015691055,0.028182963,-0.02445755,0.028639985,-0.011300884,0.025537781,0.020939874,0.012194152,-0.006446766,-0.030883543,-0.0011676542,-0.023100335,0.012491908,0.0014714693,0.0060001323,-0.021036817,-0.014416936,0.0022123973,0.012263398,-0.019790396,0.01941647,0.02635488,0.011834075,-0.0068172305,-0.032711625,-0.0064363796,0.011162393,-0.022297086,0.0018350087,0.012831212,-0.015095543,0.0002261302,-0.031188224,0.014777013,-0.0048056454,0.015511017,0.019998133,0.009964444,0.01909794,-0.010289898,-0.02618869,0.013454422,-0.011183166,0.009507422,-0.01703442,-0.023405017,0.012083359,-0.02034436,0.018654767,0.017976161,0.025787065,-0.00572315,0.009334308,-0.0015649508,0.0025465074,0.03598002,-0.019776547,0.0029689055,-0.0081086615,0.028916968,0.0070492034,0.0041166516,-0.013309007,0.032157663,-0.0073538837,-0.019014845,-0.008946533,-0.004667154,-0.053623803,0.019347224,0.0012533455,-0.017075967,-0.029193949,0.023460412,-0.010476861,-0.007762433,-0.00757547,0.019513413,0.03708795,0.013122044,-0.015400224,0.002394167,0.01688208,0.04021785,0.020316662,0.010317596,0.011106996,-0.045037344,-0.023640452,-0.027753642,-0.016688192,0.0152340345,0.0028494569,0.0005041946,0.000040952287,0.02430521,0.010546107,0.010622277,0.0041547366,0.00402317,-0.010954656,0.00349171,-0.044427983,0.014264596,0.009777481,0.0001539633,0.0077416594,0.022324786,0.008143283,0.010456087,0.009839801,-0.03138211,-0.04559131,0.0024218652,0.012526531,0.0046844655,0.027864434,-0.013426724,0.032323852,0.014721617,0.029803311,-0.009396629,0.013959915,-0.0017389305,-0.0077416594,-0.016369663,-0.005788933,-0.0039539244,-0.02697809,-0.02570397,0.04957986,-0.01814235,-0.008718022,-0.007561621,0.0116055645,-0.027338168,-0.0064329174,0.014500031,0.01332978,-0.012755042,-0.010698447,0.005595045,-0.04938597,-0.043513943,-0.010947731,-0.006761834,0.0056158192,-0.018336238,-0.011515545,-0.015469469,0.022684863,-0.014486182,0.0021916237,0.011965642,0.011806376,-0.036866363,0.0063463603,0.051324848,0.026133293,0.0051518735,-0.020122774,-0.0010274318,0.009389705,0.012962778,-0.011010053,-0.002297223,-0.026964242,-0.021604631,-0.0048679663,-0.006332511,-0.009542045,0.0019665754,0.03235155,-0.008330247,0.0036353946,0.014167652,0.0048541175,0.020787533,0.027850585,0.0097913295,0.0089119105,-0.0040785666,-0.030191086,-0.010068312,-0.031354412,0.008524135,-0.014721617,0.010386841,0.008676475,0.00071452814,0.011875622,-0.00575431,0.0039643114,0.02823836,-0.004168586,0.0054704035,-0.009036552,0.024263661,-0.0034761296,-0.00017257304,-0.016425058,0.017283704,-0.0066960505,0.009514347,-0.025787065,0.018280841,0.012055661,0.0008815832,0.0099228965,0.008357945,-0.009126572,-0.022671012,0.0041928217,-0.0025136156,-0.0051864963,-0.0015978424,-0.0025395828,0.0016489112,-0.00827485,-0.0074716015,0.0041858973,-0.0035349885,-0.02509461,0.00041352614,-0.010227577,0.012685796,-0.0085379835,-0.01222185,-0.034013443,0.005245355,0.028321454,-0.006914174,0.025482384,0.015344827,0.018363936,-0.024651438,-0.024028227,-0.010774617,-0.012471135,-0.02902776,-0.009542045,0.03296091,0.03534296,0.048942797,-0.00844104,0.023557357,-0.0020358209,-0.0004029229,-0.03143751,0.026465673,-0.001061189,-0.0036180832,-0.0073469593,0.012665022,-0.008074039,0.01671589,0.013309007,-0.00256555,0.013918368,0.012360342,-0.024097472,-0.01466622,-0.043347754,-0.012325719,0.01988734,-0.007928623,-0.008586456,-0.030163389,-0.001975231,0.0276013,0.010539182,0.011404752,0.002395898,0.0099782925,-0.006872627,0.014763164,0.0077832066,0.008995005,-0.035592243,-0.0019977358,-0.02966482,0.0066995127,0.01926413,0.009140421,0.0073123365,0.029415535,0.008191756,0.0040751044,0.025177704,0.0069695706,-0.01419535,-0.0109131085,-0.03060656,-0.016161926,-0.045868292,0.0068518533,-0.012879684,-0.012076435,-0.0012611357,0.0011460149,0.019167185,-0.033237893,-0.013599838,0.021909311,-0.018114652,0.03561994,-0.0029446697,0.02478993,-0.0034467003,0.008863438,-0.01419535,0.0017562418,-0.01862707,-0.0030606561,0.0040785666,0.027268922,0.0023024166,-0.041879747,0.014790863,-0.024873024,-0.012491908,-0.030883543,0.012526531,0.012665022,0.003985085,-0.019762697,-0.018266993,-0.011757905,0.03645089,-0.008925759,0.0055396487,0.013565215,0.012796589,0.01609268,-0.02351581,-0.0053769215,0.017283704,0.009265062,0.01050456,-0.012249549,0.0018176973,-0.012187228,-0.004393634,-0.0016220785,0.0055846586,-0.00579932,0.007111524,0.037475724,0.015012449,0.009729008,0.025219252,0.013613687,0.03689406,-0.024055926,-0.023571206,0.0025482385,-0.019471865,0.011834075,-0.021396894,-0.01167481,0.011882547,-0.0036180832,-0.00026032023,0.012976628,0.00066865294,0.013385177,-0.013745254,0.00429669,-0.029387837,0.014223048,-0.0028459947,-0.0011858311,-0.031797584,-0.023917435,-0.015788,-0.02336347,0.022421729,0.005518875,-0.028695382,0.00859338,0.020579796,0.00012009786,0.00382582,0.0055396487,0.01167481,-0.001757973,0.0056989137,-0.04182435,0.00035012313,0.021992406,-0.005172647,-0.030745052,-0.02397283,-0.015538715,0.024886873,0.0054634786,-0.008697249,0.010989279,-0.0009235633,0.0025274649,0.021660028,-0.005297289,0.032628532,0.003223383,-0.025413139,0.041159593,-0.026257936,0.00827485,0.0026174842,0.0073608086,-0.0012472866,-0.01938877,0.0046948525,0.016688192,0.013516744,0.00599667,0.009666687,0.0011840999,-0.0030260333,-0.01768533,-0.027171979,0.0064363796,-0.020233568,0.010663824,-0.0027507818,0.03249004,-0.0043901717,-0.011702509,0.008191756,-0.027989076,-0.010075237,-0.027185827,-0.008261002,0.004861042,0.013676008,0.01513709,-0.01862707,-0.026604164,-0.039165318,-0.01468007,-0.0125403805,-0.026756505,0.0031974162,0.0048091076,0.036312398,0.019333374,0.009015779,-0.0045009647,0.0049995333,-0.00690725,-0.010372993,0.0092858365,-0.018696316,0.002492842,-0.004393634,-0.018640919,-0.006834542,-0.0019561886,-0.0069176364,-0.004088953,0.023778943,-0.0005050602,-0.03453971,-0.017311404,0.0019717687,-0.019485716,0.006367134,0.013509818,-0.017159063,0.004822957,-0.016286567,-0.013856047,0.006429455,0.0165774,0.01877941,-0.0033272516,0.005093015,0.0005708435,0.009168119,-0.020302814,0.004632531,0.03769731,-0.008129435,0.013994538,0.02650722,0.0063844454,0.0022695248,0.009999067,0.025233101,-0.007637791,-0.027518205,0.042516805,-0.021521537,-0.012041812,-0.0025499696,-0.014001463,-0.002589786,-0.024983816,0.01049071,0.014957052,-0.019499565,0.009313535,-0.014458484,-0.034982882,0.009805178,-0.0075546964,-0.024319058,-0.020302814,-0.03249004,0.033376385,-0.013530592,-0.028584588,-0.008960382,-0.0009971368,-0.0347059,0.010532257,0.009715159,-0.0029308205,0.00772781,0.16098219,0.00037522466,-0.025260799,-0.00069159054,-0.018433182,0.022200143,0.003024302,0.004428257,-0.02460989,0.02129995,0.00619402,0.016480455,0.00091750437,-0.0055396487,0.008094812,-0.036257003,-0.03077275,-0.017394498,0.0071599963,-0.027310468,0.0152894305,-0.03091124,0.00088331435,-0.018225444,0.00962514,-0.009278912,-0.016702041,0.008711098,0.005885877,0.018211596,-0.02271256,0.04041174,0.00018674675,0.015954189,0.017754575,-0.015926491,0.007852452,0.006443304,0.008614154,0.012561154,0.003109128,-0.0053596105,0.024859175,-0.0212861,-0.006138623,0.013579064,-0.025523933,-0.029858708,0.030412672,0.0066094934,-0.028861571,0.013309007,0.02902776,0.01325361,0.025219252,0.019665753,-0.0037323385,0.03489979,0.019319525,0.026396427,-0.03423503,0.011349356,-0.013357478,-0.018613221,-0.01332978,0.0063359733,-0.010345294,-0.007492375,0.0009097142,0.0058166315,0.006377521,-0.006675277,-0.0030260333,-0.0031247083,-0.020288965,-0.031132827,0.0331548,0.022587918,0.017020572,0.027573602,-0.003517677,-0.0129143065,-0.013752178,-0.0014844527,-0.022823354,-0.027573602,0.017228307,-0.022504823,-0.030800449,0.019956585,-0.013883745,-0.023862038,-0.016785135,-0.023709698,-0.0017969236,0.0009711697,0.034013443,0.0066441162,-0.0058789523,-0.0037738858,-0.033958048,0.07716731,-0.010753843,0.0045840596,-0.018696316,-0.010663824,0.0041893595,0.013218987,0.0011382247,-0.009278912,-0.01846088,-0.03802969,0.008101736,-0.0082887,0.0035003657,0.016826684,-0.018848656,0.0030173776,0.011058524,-0.0072984872,-0.015400224,-0.006612956,-0.011197016,0.02665956,-0.022144746,-0.008953458,-0.01080924,0.00819868,-0.010449163,-0.022061652,0.006934948,0.0061593973,0.0007924295,-0.0068553155,0.008011717,-0.0017406616,0.015358676,0.0020133161,-0.025080761,0.005331912,0.019430319,0.012637324,0.009694385,0.005259204,0.016854381,-0.009638989,0.019610357,-0.00039859506,-0.0040716417,-0.04495425,-0.009853651,-0.012484984,0.0070076557,-0.011467073,0.017962312,-0.023737395,-0.01767148,-0.012678872,0.0061178496,0.001603036,-0.056199737,0.0043763225,0.014403087,-0.0045355875,-0.013842198,-0.018585522,-0.17715797,0.0046567675,0.011342431,-0.050826278,0.029609423,-0.009105798,0.00048212256,0.011273186,-0.01656355,0.011951792,0.013987614,0.0023855113,-0.020552097,-0.022837203,-0.01610653,0.023086486,-0.0026088285,0.0039054526,0.039996266,0.006058991,0.05251587,-0.008357945,0.0019284902,-0.014278445,-0.012201076,-0.015511017,-0.022033954,0.010407615,-0.003860443,-0.04512044,-0.003690791,0.0099782925,0.00277848,0.012928155,0.008101736,0.016425058,0.032102264,-0.015843395,-0.02491457,0.021715423,0.02413902,0.04340315,-0.0017899991,0.02603635,0.017948462,0.012284172,0.020607494,-0.016979024,0.000008581316,-0.008247152,0.028944666,-0.023474263,-0.020732136,-0.004937212,-0.01364831,0.012907382,0.0011520738,0.01624502,-0.018848656,-0.029720217,-0.0072777136,-0.0089119105,0.0051657227,-0.02350196,-0.02336347,0.02146614,-0.013952991,0.013994538,-0.018100802,0.020704437,0.007873226,0.004407483,-0.012450361,0.0030520004,0.026867297,0.008087887,-0.0107815415,0.031409808,0.015317129,0.001653239,0.018183898,0.03581383,-0.0040820288,0.012208002,-0.002466875,0.018516276,-0.011155468,0.010989279,-0.011217789,0.012284172,0.032683928,-0.02649337,0.0040266323,-0.004861042,0.020939874,0.0065817954,0.022823354,0.002382049,0.00827485,0.014763164,0.00068596436,0.022158595,0.022130897,0.005093015,0.040190153,0.0035436442,0.009555894,-0.0077693574,0.020552097,-0.013018175,-0.029886406,-0.0017242157,0.023224978,0.02301724,0.0037358007,0.045563612,-0.0054115443,0.00725694,0.0015164788,0.01750529,0.03484439,0.02635488,-0.016134227,0.0009452026,-0.005577734,-0.02697809,-0.092844516,-0.018502427,-0.011453224,0.028778477,-0.024014378,0.006606031,-0.008925759,0.026701108,0.005408082,0.01396684,-0.003725414,-0.02807217,-0.0004639456,-0.0038154332,-0.0048056454,-0.019361073,-0.006723749,-0.021632329,0.013122044,0.02650722,0.0073469593,0.008759569,0.0067410604,-0.027573602,-0.0131012695,-0.011370129,-0.053069837,0.011404752,0.023072638,0.003071043,0.029055458,-0.013516744,0.0009936745,-0.017408347,-0.0065229367,-0.002627871,-0.011681735,-0.018502427,0.03800199,-0.025219252,0.0101098595,-0.002887542,-0.0013883745,-0.021493837,-0.00844104,0.011626339,-0.026299484,-0.015123242,0.00042499494,-0.012568078,-0.00579932,-0.0097913295,-0.02778134,0.01041454,0.028916968,0.02082908,0.0096043665,-0.0027542443,-0.010379917,-0.01591264,0.021563083,-0.0075339223,-0.0022245152,0.04243371,-0.008801118,-0.0031904916,-0.026894996,-0.024969967,-0.005259204,-0.01325361,0.0032562749,0.0051968833,-0.01923643,0.013994538,-0.007762433,-0.0082956245,0.0016757438,-0.035038278,-0.0033030156,-0.00051847653,-0.013703707,-0.021715423,0.0053769215,-0.013544441,-0.0046221446,0.010753843,-0.024346758,0.017325252,0.00698342,-0.03168679,0.015981887,0.036090814,0.013669084,-0.018183898,0.018585522,-0.007492375,-0.03345948,-0.018834807,-0.004604833,0.03719874,-0.019818094,-0.0107815415,-0.08021411,0.017117515,0.016688192,-0.010864637,-0.009306611,-0.009327384,-0.0071253735,-0.024679136,0.0054565542,0.014403087,-0.043153863,0.014901656,-0.014319993,0.0067826076,0.000974632,-0.014998599,0.046449956,-0.022463277,0.01671589,0.0044351816,-0.017006721,0.0025811302,0.01405686,0.028169114,-0.006107463,-0.0038085086,-0.03174219,0.032296155,-0.0017250812,-0.034622807,0.0020046604,-0.028030623,-0.0068172305,0.03725414,-0.013946066,0.000031214622,0.034041144,0.012955854,0.019859642,0.014721617,-0.023751244,-0.057335366,0.037309535,-0.026631862,-0.011383979,-0.018488578,0.0064987005,-0.00024387438,0.0055396487,0.001425594,0.015067845,0.017214458,-0.05124175,-0.016148077,0.0007759836,-0.0063532847,0.015843395,-0.013454422,0.0142092,0.0060382173,0.034428917,0.0011693853,0.01563566,-0.0010205072,0.015469469,0.0066164182,-0.014278445,0.010324521,0.016923627,-0.013932217,-0.0155525645,-0.0098675,-0.0060001323,0.0039573866,0.008385643,-0.030024897,0.0039054526,0.012768891,-0.01846088,0.02603635,0.014583126,0.01988734,-0.009313535,0.035869226,-0.001622944,0.005048005,-0.02872308,-0.014749316,-0.0034328513,-0.016840532,-0.021147609,-0.013516744,-0.010719221,0.014790863,0.027352016,0.0008374391,0.00678607,-0.011501696,0.025468536,0.010054463,0.0152340345,0.017325252,-0.0009045208,-0.025759367,-0.004597909,0.015053996,-0.018253144,-0.023418866,0.017297553,-0.010823089,-0.012962778,0.0011918901,-0.0018228907,0.0044628796,-0.019984283,0.018391635,0.0038292822,-0.026050199,-0.04337545,0.020469002,0.015538715,0.0135513665,0.029443234,0.0071392227,0.015857246,0.017463744,0.004469804,-0.016189624,0.011681735,0.004320926,-0.0000057411644,-0.007229242,-0.02699194,-0.009493574,-0.01639736,-0.0149155045,-0.03124362,0.0070041935,0.015206336,0.06608801,0.0011944867,-0.010670749,0.0033030156,-0.033736464,0.0132882325,-0.0071392227,0.005975896,-0.025620876,-0.022504823,-0.00069159054,-0.0015026297,-0.008378719,-0.01158479,-0.024540644,0.016314266,-0.01956881,0.02539929,-0.0027940604,-0.0117371315,0.027545905,0.008489512,0.007873226,-0.008157133,0.0013883745,-0.000098945486,0.028182963,-0.0023439638,-0.018710164,-0.021050666,0.034179635,-0.0047433246,-0.031022035,-0.014763164,0.012159529,0.019194884,-0.0021050666,-0.032129962,0.02067674,0.013516744,-0.014638523,0.013558291,-0.025994802,-0.026728805,0.0031749113,0.0032320388,0.0038812165,-0.01703442,-0.012194152]'}"
      ]
     },
     "metadata": {},
     "output_type": "display_data"
    }
   ],
   "source": [
    "from IPython.display import Markdown\n",
    "cursor = db.connection.cursor()\n",
    "\n",
    "# Use `db.table_name` instead of `variables.EMBEDDING_TABLE` because HANA driver sanitizes a table name by removing unaccepted characters\n",
    "is_ok = cursor.execute(f'''SELECT \"VEC_TEXT\", \"VEC_META\", TO_NVARCHAR(\"VEC_VECTOR\") FROM \"{db.table_name}\"''')\n",
    "record_columns=cursor.fetchone()\n",
    "if record_columns:\n",
    "    display({\"VEC_TEXT\" : record_columns[0], \"VEC_META\" : eval(record_columns[1]), \"VEC_VECTOR\" : record_columns[2]})\n",
    "cursor.close()"
   ]
  },
  {
   "cell_type": "markdown",
   "metadata": {},
   "source": [
    "[Next exercise](06-RAG.ipynb)"
   ]
  }
 ],
 "metadata": {
  "kernelspec": {
   "display_name": "base",
   "language": "python",
   "name": "python3"
  },
  "language_info": {
   "codemirror_mode": {
    "name": "ipython",
    "version": 3
   },
   "file_extension": ".py",
   "mimetype": "text/x-python",
   "name": "python",
   "nbconvert_exporter": "python",
   "pygments_lexer": "ipython3",
   "version": "3.12.7"
  }
 },
 "nbformat": 4,
 "nbformat_minor": 2
}
