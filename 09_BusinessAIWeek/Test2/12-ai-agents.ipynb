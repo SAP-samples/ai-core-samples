{
 "cells": [
  {
   "cell_type": "markdown",
   "metadata": {},
   "source": [
    "# AI Agents with Generative AI Hub\n",
    "\n",
    "Everyone is talking about AI Agents and how they are going to make LLMs more powerful. AI Agents are basically systems that have a set of tools that they can use and the LLM is the agents brain to decide which tool to use when. Some systems are more agentic than others, depending on the amount of autonomy and decision-making power they possess. \n",
    "\n",
    "If you want to know more about AI Agents and how to build one from scratch, check out this [Devtoberfest session](https://community.sap.com/t5/devtoberfest/getting-started-with-agents-using-sap-generative-ai-hub/ev-p/13865119).\n",
    "\n",
    "👉 Before you start you will need to add the constant `LLM_DEPLOYMENT_ID` to [variables.py](variables.py). You can use the `gpt-4o-mini` model again that we deployed earlier. You find the deployment ID in SAP AI Launchpad."
   ]
  },
  {
   "cell_type": "code",
   "execution_count": 1,
   "metadata": {},
   "outputs": [
    {
     "name": "stdout",
     "output_type": "stream",
     "text": [
      "https://israel-fsvdxbsq.authentication.eu11.hana.ondemand.com/oauth/token\n",
      "sb-49ec08a9-d325-4480-9418-ad8801558203!b28574|aicore!b18\n",
      "96d2ba69-3289-4190-ad82-c174e50f9f17$8C_adlgCYD6AscPgIKtLXJkIj1AL6i8p9Opw1JJZ0o8=\n",
      "https://api.ai.prodeuonly.eu-central-1.aws.ml.hana.ondemand.com/v2\n",
      "grounding\n"
     ]
    }
   ],
   "source": [
    "import json\n",
    "import os\n",
    "from ai_core_sdk.ai_core_v2_client import AICoreV2Client\n",
    "# Inline credentials\n",
    "with open('creds.json') as f:\n",
    "    credCF = json.load(f)\n",
    " \n",
    "# Set environment variables\n",
    "def set_environment_vars(credCF):\n",
    "    env_vars = {\n",
    "        'AICORE_AUTH_URL': credCF['url'] + '/oauth/token',\n",
    "        'AICORE_CLIENT_ID': credCF['clientid'],\n",
    "        'AICORE_CLIENT_SECRET': credCF['clientsecret'],\n",
    "        'AICORE_BASE_URL': credCF[\"serviceurls\"][\"AI_API_URL\"] + \"/v2\",\n",
    "        'AICORE_RESOURCE_GROUP': \"grounding\"\n",
    "    }\n",
    " \n",
    "    for key, value in env_vars.items():\n",
    "        os.environ[key] = value\n",
    "        print(value)\n",
    " \n",
    "# Create AI Core client instance\n",
    "def create_ai_core_client(credCF):\n",
    "    set_environment_vars(credCF)  # Ensure environment variables are set\n",
    "    return AICoreV2Client(\n",
    "        base_url=os.environ['AICORE_BASE_URL'],\n",
    "        auth_url=os.environ['AICORE_AUTH_URL'],\n",
    "        client_id=os.environ['AICORE_CLIENT_ID'],\n",
    "        client_secret=os.environ['AICORE_CLIENT_SECRET'],\n",
    "        resource_group=os.environ['AICORE_RESOURCE_GROUP']\n",
    "    )\n",
    " \n",
    "ai_core_client = create_ai_core_client(credCF)"
   ]
  },
  {
   "cell_type": "markdown",
   "metadata": {},
   "source": [
    "### Import the packages you want to use"
   ]
  },
  {
   "cell_type": "code",
   "execution_count": 2,
   "metadata": {},
   "outputs": [],
   "source": [
    "from langchain_community.tools import WikipediaQueryRun\n",
    "from langchain_community.utilities import WikipediaAPIWrapper\n",
    "\n",
    "from langchain import hub\n",
    "from langchain.agents import AgentExecutor, create_react_agent\n",
    "\n",
    "from gen_ai_hub.proxy.langchain.openai import ChatOpenAI\n",
    "from gen_ai_hub.proxy.langchain.openai import OpenAIEmbeddings\n"
   ]
  },
  {
   "cell_type": "markdown",
   "metadata": {},
   "source": [
    "We will give the agent different tools to use. The first tool will be [access to Wikipedia](https://python.langchain.com/docs/integrations/tools/wikipedia/). This way instead of answering from it's training data, the model will check on Wikipedia articles first."
   ]
  },
  {
   "cell_type": "code",
   "execution_count": 3,
   "metadata": {},
   "outputs": [
    {
     "name": "stdout",
     "output_type": "stream",
     "text": [
      "Page: Bengaluru\n",
      "Summary: Bengaluru, also known as Bangalore (its official name until 1 November 2014), is the capital and largest city of the southern Indian state of Karnataka. As per the 2011 census, the city had a population of 8.4 million, making it the third most populous city in India and the most populous in South India. The Bengaluru metropolitan area had a population of around 8.5 million, making it the fifth most populous urban agglomeration in the country. It is located near the center of the Deccan Plateau, at a height of 900 m (3,000 ft) above sea level. The city is known as India's \"Garden City\", due to its parks and greenery.\n",
      "Archaeological artifacts indicate that the human settlement in the region happened as early as 4000 BCE. The first mention of the name \"Bengalooru\" is from an old Kannada stone inscription from 890 CE found at the Nageshwara Temple. From 350 CE, it was ruled by the Western Ganga dynasty, and in the early eleventh century, the city became part of the Chola empire. In the late Middle Ages, the region was part of the Hoysala Kingdom and then the Vijayanagara Empire. In 1537 CE, Kempe Gowda I, a feudal ruler under the Vijayanagara Empire, established a mud fort which is considered the foundation of the modern city of Bengaluru and its oldest areas, or petes, which still exist. After the fall of the Vijayanagara Empire, Kempe Gowda declared independence, and the city was expanded by his successors. In 1638 CE, an Adil Shahi army defeated Kempe Gowda III, and the city became a jagir (feudal estate) of Shahaji Bhonsle. The Mughals later captured Bengaluru and sold it to Maharaja Chikka Devaraja Wodeyar of the Kingdom of Mysore. After the death of Krishnaraja Wodeyar II in 1759 CE, Hyder Ali seized control of the kingdom of Mysore and with it, the administration of Bengaluru, which passed subsequently to his son, Tipu Sultan.\n",
      "The city was captured by the British East India Company during the Anglo-Mysore Wars, and became part of the Princely State of Mysore. The administrative control of the city was returned to Krishnaraja Wadiyar III, then Maharaja of Mysore, and the old city developed under the dominions of the Mysore kingdom. In 1809 CE, the British shifted their military garrison to the city and established the cantonment, outside the old city. In the late 19th century CE, the city was essentially composed of two distinct urban settlements, the old pete and the new cantonment. Following India's independence in 1947, Bengaluru became the capital of Mysore State, and remained the capital when the state was enlarged and unified in 1956 and subsequently renamed as Karnataka in 1973. The two urban settlements which had developed as independent entities, merged under a single urban administration in 1949.\n",
      "Bengaluru is one of the fastest-growing metropolises in India. As of 2023, the metropolitan area had an estimated GDP of $359.9 billion, and is one of the most productive metro areas of India. The city is a major center for information technology (IT), and is consistently ranked amongst the world's fastest growing technology hubs. It is widely regarded as the \"Silicon Valley of India\", as the largest hub and exporter of IT services in the country. Manufacturing is a major contributor to the economy and the city is also home to several state-owned manufacturing companies. Bengaluru also hosts several institutes of national importance in higher education.\n",
      "\n",
      "Page: Bangalore Days\n",
      "Summary: Bangalore Days is a 2014 Indian Malayalam-language coming of age romantic comedy-drama film written and directed by Anjali Menon, and produced by Anwar Rasheed and Sophia Paul under the banner Anwar Rasheed Entertainments and Weekend Blockbusters. The film features an ensemble cast of Nivin Pauly, Dulquer Salmaan, Fahadh Faasil, Nazriya Nazim, Parvathy Thiruvothu, Isha Talwar and Paris Laxmi..\n",
      "Bangalore Days revolves around the life of three cousins from Kerala who move to Bangalore, continuing Anjali Menon's trend of \n"
     ]
    }
   ],
   "source": [
    "wikipedia = WikipediaQueryRun(api_wrapper=WikipediaAPIWrapper())\n",
    "\n",
    "# Let's check if it works\n",
    "print(wikipedia.run(\"Bangalore\"))\n",
    "\n",
    "# Assign wikipedia to the set of tools\n",
    "tools = [wikipedia]"
   ]
  },
  {
   "cell_type": "code",
   "execution_count": 4,
   "metadata": {},
   "outputs": [
    {
     "name": "stderr",
     "output_type": "stream",
     "text": [
      "c:\\Users\\C5385222\\AppData\\Local\\anaconda3\\Lib\\site-packages\\langsmith\\client.py:253: LangSmithMissingAPIKeyWarning: API key must be provided when using hosted LangSmith API\n",
      "  warnings.warn(\n"
     ]
    },
    {
     "data": {
      "text/plain": [
       "PromptTemplate(input_variables=['agent_scratchpad', 'input', 'tool_names', 'tools'], input_types={}, partial_variables={}, metadata={'lc_hub_owner': 'hwchase17', 'lc_hub_repo': 'react', 'lc_hub_commit_hash': 'd15fe3c426f1c4b3f37c9198853e4a86e20c425ca7f4752ec0c9b0e97ca7ea4d'}, template='Answer the following questions as best you can. You have access to the following tools:\\n\\n{tools}\\n\\nUse the following format:\\n\\nQuestion: the input question you must answer\\nThought: you should always think about what to do\\nAction: the action to take, should be one of [{tool_names}]\\nAction Input: the input to the action\\nObservation: the result of the action\\n... (this Thought/Action/Action Input/Observation can repeat N times)\\nThought: I now know the final answer\\nFinal Answer: the final answer to the original input question\\n\\nBegin!\\n\\nQuestion: {input}\\nThought:{agent_scratchpad}')"
      ]
     },
     "execution_count": 4,
     "metadata": {},
     "output_type": "execute_result"
    }
   ],
   "source": [
    "# For agents the initial prompt including all the instructions is very important. \n",
    "# LangChain already has a good set of prompts that we can reuse here.\n",
    "prompt = hub.pull(\"hwchase17/react\")\n",
    "prompt"
   ]
  },
  {
   "cell_type": "code",
   "execution_count": 5,
   "metadata": {},
   "outputs": [
    {
     "name": "stdout",
     "output_type": "stream",
     "text": [
      "\n",
      "\n",
      "\u001b[1m> Entering new AgentExecutor chain...\u001b[0m\n",
      "\u001b[32;1m\u001b[1;3mBangalore is a significant city in India, known for its technology sector. I'll gather more information about its history, culture, and significance. \n",
      "Action: wikipedia\n",
      "Action Input: Bangalore\u001b[0m\u001b[36;1m\u001b[1;3mPage: Bengaluru\n",
      "Summary: Bengaluru, also known as Bangalore (its official name until 1 November 2014), is the capital and largest city of the southern Indian state of Karnataka. As per the 2011 census, the city had a population of 8.4 million, making it the third most populous city in India and the most populous in South India. The Bengaluru metropolitan area had a population of around 8.5 million, making it the fifth most populous urban agglomeration in the country. It is located near the center of the Deccan Plateau, at a height of 900 m (3,000 ft) above sea level. The city is known as India's \"Garden City\", due to its parks and greenery.\n",
      "Archaeological artifacts indicate that the human settlement in the region happened as early as 4000 BCE. The first mention of the name \"Bengalooru\" is from an old Kannada stone inscription from 890 CE found at the Nageshwara Temple. From 350 CE, it was ruled by the Western Ganga dynasty, and in the early eleventh century, the city became part of the Chola empire. In the late Middle Ages, the region was part of the Hoysala Kingdom and then the Vijayanagara Empire. In 1537 CE, Kempe Gowda I, a feudal ruler under the Vijayanagara Empire, established a mud fort which is considered the foundation of the modern city of Bengaluru and its oldest areas, or petes, which still exist. After the fall of the Vijayanagara Empire, Kempe Gowda declared independence, and the city was expanded by his successors. In 1638 CE, an Adil Shahi army defeated Kempe Gowda III, and the city became a jagir (feudal estate) of Shahaji Bhonsle. The Mughals later captured Bengaluru and sold it to Maharaja Chikka Devaraja Wodeyar of the Kingdom of Mysore. After the death of Krishnaraja Wodeyar II in 1759 CE, Hyder Ali seized control of the kingdom of Mysore and with it, the administration of Bengaluru, which passed subsequently to his son, Tipu Sultan.\n",
      "The city was captured by the British East India Company during the Anglo-Mysore Wars, and became part of the Princely State of Mysore. The administrative control of the city was returned to Krishnaraja Wadiyar III, then Maharaja of Mysore, and the old city developed under the dominions of the Mysore kingdom. In 1809 CE, the British shifted their military garrison to the city and established the cantonment, outside the old city. In the late 19th century CE, the city was essentially composed of two distinct urban settlements, the old pete and the new cantonment. Following India's independence in 1947, Bengaluru became the capital of Mysore State, and remained the capital when the state was enlarged and unified in 1956 and subsequently renamed as Karnataka in 1973. The two urban settlements which had developed as independent entities, merged under a single urban administration in 1949.\n",
      "Bengaluru is one of the fastest-growing metropolises in India. As of 2023, the metropolitan area had an estimated GDP of $359.9 billion, and is one of the most productive metro areas of India. The city is a major center for information technology (IT), and is consistently ranked amongst the world's fastest growing technology hubs. It is widely regarded as the \"Silicon Valley of India\", as the largest hub and exporter of IT services in the country. Manufacturing is a major contributor to the economy and the city is also home to several state-owned manufacturing companies. Bengaluru also hosts several institutes of national importance in higher education.\n",
      "\n",
      "Page: Bangalore Days\n",
      "Summary: Bangalore Days is a 2014 Indian Malayalam-language coming of age romantic comedy-drama film written and directed by Anjali Menon, and produced by Anwar Rasheed and Sophia Paul under the banner Anwar Rasheed Entertainments and Weekend Blockbusters. The film features an ensemble cast of Nivin Pauly, Dulquer Salmaan, Fahadh Faasil, Nazriya Nazim, Parvathy Thiruvothu, Isha Talwar and Paris Laxmi..\n",
      "Bangalore Days revolves around the life of three cousins from Kerala who move to Bangalore, continuing Anjali Menon's trend of \u001b[0m\u001b[32;1m\u001b[1;3mI have gathered a lot of useful information about Bangalore, now known as Bengaluru, covering its history, culture, and economic significance. \n",
      "\n",
      "Final Answer: Bengaluru, formerly known as Bangalore, is the capital of Karnataka, India, and one of the country's most populous cities. It has a rich history dating back to 4000 BCE with notable periods of rule by various dynasties, including the Western Ganga, Chola, Hoysala, and Vijayanagara empires. In 1537, Kempe Gowda I established a fort that laid the foundation for the modern city. It later came under British control and became part of the Princely State of Mysore. Bengaluru is often referred to as the \"Silicon Valley of India\" due to its significant information technology industry and is known for its parks, earning it the nickname \"Garden City.\" As of 2023, it has a burgeoning economy with an estimated GDP of $359.9 billion, making it one of the fastest-growing cities in India.\u001b[0m\n",
      "\n",
      "\u001b[1m> Finished chain.\u001b[0m\n"
     ]
    },
    {
     "data": {
      "text/plain": [
       "{'input': 'Tell me about Bangalore!',\n",
       " 'output': 'Bengaluru, formerly known as Bangalore, is the capital of Karnataka, India, and one of the country\\'s most populous cities. It has a rich history dating back to 4000 BCE with notable periods of rule by various dynasties, including the Western Ganga, Chola, Hoysala, and Vijayanagara empires. In 1537, Kempe Gowda I established a fort that laid the foundation for the modern city. It later came under British control and became part of the Princely State of Mysore. Bengaluru is often referred to as the \"Silicon Valley of India\" due to its significant information technology industry and is known for its parks, earning it the nickname \"Garden City.\" As of 2023, it has a burgeoning economy with an estimated GDP of $359.9 billion, making it one of the fastest-growing cities in India.'}"
      ]
     },
     "execution_count": 5,
     "metadata": {},
     "output_type": "execute_result"
    }
   ],
   "source": [
    "# Create a chat model instance which will act as the brain of the agent\n",
    "llm = ChatOpenAI(deployment_id=\"d6dd6e483c92f88c\")\n",
    "\n",
    "# Create an agent with the llm, tools and prompt\n",
    "agent = create_react_agent(llm, tools, prompt)\n",
    "agent_executor = AgentExecutor(agent=agent, tools=tools, verbose=True)\n",
    "\n",
    "# Let's ask try the agent and ask about Bangalore\n",
    "agent_executor.invoke({\"input\": \"Tell me about Bangalore!\"})"
   ]
  },
  {
   "cell_type": "markdown",
   "metadata": {},
   "source": [
    "## Give the agent access to our HANA vector store\n",
    "Now the agent can use Wikipedia but wouldn't it be nice if the agent could pick between resources and decide when to use what?"
   ]
  },
  {
   "cell_type": "code",
   "execution_count": 6,
   "metadata": {},
   "outputs": [],
   "source": [
    "def get_hana_connection():\n",
    "    conn = dbapi.connect(\n",
    "        address='ec41b786-96de-467b-9ff5-db725945f89c.hna0.prod-us10.hanacloud.ondemand.com',\n",
    "        port='443',\n",
    "        user='DBADMIN',\n",
    "        password='9hEW4UK86Fdt',\n",
    "        encrypt=True\n",
    "    )\n",
    "    return conn"
   ]
  },
  {
   "cell_type": "code",
   "execution_count": 7,
   "metadata": {},
   "outputs": [],
   "source": [
    "from langchain_community.vectorstores.hanavector import HanaDB\n",
    "from langchain.tools.retriever import create_retriever_tool\n",
    "from hdbcli import dbapi\n",
    "# # connect to HANA instance\n",
    "# connection = init_env.connect_to_hana_db()\n",
    "# connection.isconnected()\n",
    "\n",
    "# Reference which embedding model, DB connection and table to use\n",
    "embeddings = OpenAIEmbeddings(deployment_id=\"d1ae8a45e3d60115\")\n",
    "db = HanaDB(\n",
    "    embedding=embeddings, connection=get_hana_connection(), table_name=\"EMBEDDINGS_CODEJAM_\"+\"Testing\"\n",
    ")\n",
    "\n",
    "# Create a retriever instance of the vector store\n",
    "retriever = db.as_retriever(search_kwargs={\"k\": 2})\n",
    "\n",
    "# We need to add a description to the retriever so that the llm knows when to use this tool.\n",
    "retriever_tool = create_retriever_tool(\n",
    "    retriever,\n",
    "    \"SAP orchestration service docu\",\n",
    "    \"Search for information SAP's orchestration service. For any questions about generative AI hub and sap's orchestration service, you must use this tool!\",\n",
    ")"
   ]
  },
  {
   "cell_type": "markdown",
   "metadata": {},
   "source": [
    "## Ask the Agent\n",
    "\n",
    "You can ask the agent anything in general and it will try to find an entry from Wikipedia, unless you ask about SAP's orchestration service. Then it will get the information from SAP HANA vector store, where it holds the documentation, instead of Wikipedia."
   ]
  },
  {
   "cell_type": "code",
   "execution_count": 8,
   "metadata": {},
   "outputs": [
    {
     "name": "stdout",
     "output_type": "stream",
     "text": [
      "\n",
      "\n",
      "\u001b[1m> Entering new AgentExecutor chain...\u001b[0m\n",
      "\u001b[32;1m\u001b[1;3mData masking refers to the process of obfuscating specific data within a database to protect it from unauthorized access while maintaining its usability for tasks like software testing or user training. This is typically accomplished by replacing sensitive information with altered values that are not identifiable but retain the same format and characteristics as the original data.\n",
      "\n",
      "Action: wikipedia\n",
      "Action Input: \"Data masking\"\u001b[0m"
     ]
    },
    {
     "name": "stderr",
     "output_type": "stream",
     "text": [
      "c:\\Users\\C5385222\\AppData\\Local\\anaconda3\\Lib\\site-packages\\wikipedia\\wikipedia.py:389: GuessedAtParserWarning: No parser was explicitly specified, so I'm using the best available HTML parser for this system (\"lxml\"). This usually isn't a problem, but if you run this code on another system, or in a different virtual environment, it may use a different parser and behave differently.\n",
      "\n",
      "The code that caused this warning is on line 389 of the file c:\\Users\\C5385222\\AppData\\Local\\anaconda3\\Lib\\site-packages\\wikipedia\\wikipedia.py. To get rid of this warning, pass the additional argument 'features=\"lxml\"' to the BeautifulSoup constructor.\n",
      "\n",
      "  lis = BeautifulSoup(html).find_all('li')\n"
     ]
    },
    {
     "name": "stdout",
     "output_type": "stream",
     "text": [
      "\u001b[36;1m\u001b[1;3mPage: Data masking\n",
      "Summary: Data masking or data obfuscation is the process of modifying sensitive data in such a way that it is of no or little value to unauthorized intruders while still being usable by software or authorized personnel. Data masking can also be referred as anonymization, or tokenization, depending on different context.\n",
      "The main reason to mask data is to protect information that is classified as personally identifiable information, or mission critical data. However, the data must remain usable for the purposes of undertaking valid test cycles. It must also look real and appear consistent. It is more common to have masking applied to data that is represented outside of a corporate production system. In other words, where data is needed for the purpose of application development, building program extensions and conducting various test cycles. It is common practice in enterprise computing to take data from the production systems to fill the data component, required for these non-production environments. However, this practice is not always restricted to non-production environments. In some organizations, data that appears on terminal screens to call center operators may have masking dynamically applied based on user security permissions (e.g. preventing call center operators from viewing credit card numbers in billing systems).\n",
      "The primary concern from a corporate governance perspective is that personnel conducting work in these non-production environments are not always security cleared to operate with the information contained in the production data. This practice represents a security hole where data can be copied by unauthorized personnel, and security measures associated with standard production level controls can be easily bypassed. This represents an access point for a data security breach.\n",
      "\n",
      "\n",
      "\n",
      "Page: Data security\n",
      "Summary: Data security or data protection means protecting digital data, such as those in a database, from destructive forces and from the unwanted actions of unauthorized users, such as a cyberattack or a data breach.\u001b[0m\u001b[32;1m\u001b[1;3mI now know the final answer.\n",
      "Final Answer: Data masking or data obfuscation is the process of modifying sensitive data so that it holds little or no value for unauthorized intruders while remaining usable by authorized personnel or software. This involves replacing sensitive information with altered values that maintain the original data's format and characteristics. Data masking is primarily used to protect personally identifiable information and mission-critical data, especially in non-production environments for tasks like software testing and user training. It helps mitigate the risk of data breaches by ensuring that individuals without proper security clearance do not have access to sensitive information.\u001b[0m\n",
      "\n",
      "\u001b[1m> Finished chain.\u001b[0m\n"
     ]
    },
    {
     "data": {
      "text/plain": [
       "{'input': 'What is data masking?',\n",
       " 'output': \"Data masking or data obfuscation is the process of modifying sensitive data so that it holds little or no value for unauthorized intruders while remaining usable by authorized personnel or software. This involves replacing sensitive information with altered values that maintain the original data's format and characteristics. Data masking is primarily used to protect personally identifiable information and mission-critical data, especially in non-production environments for tasks like software testing and user training. It helps mitigate the risk of data breaches by ensuring that individuals without proper security clearance do not have access to sensitive information.\"}"
      ]
     },
     "execution_count": 8,
     "metadata": {},
     "output_type": "execute_result"
    }
   ],
   "source": [
    "# Now let's add the retriever as a tool\n",
    "tools = [wikipedia, retriever_tool]\n",
    "\n",
    "# And create the agent again with the two tools, wikipedia and the HANA vector store (retriever)\n",
    "agent = create_react_agent(llm, tools, prompt)\n",
    "agent_executor = AgentExecutor(agent=agent, tools=tools, verbose=True)\n",
    "\n",
    "# First ask: What is Data Masking?\n",
    "# Then ask: What is Data Masking in SAP's Generative AI Hub?\n",
    "# Pay attention to the response! Do you see what is happening now?\n",
    "agent_executor.invoke({\"input\": \"What is data masking?\"})"
   ]
  }
 ],
 "metadata": {
  "kernelspec": {
   "display_name": "base",
   "language": "python",
   "name": "python3"
  },
  "language_info": {
   "codemirror_mode": {
    "name": "ipython",
    "version": 3
   },
   "file_extension": ".py",
   "mimetype": "text/x-python",
   "name": "python",
   "nbconvert_exporter": "python",
   "pygments_lexer": "ipython3",
   "version": "3.12.7"
  }
 },
 "nbformat": 4,
 "nbformat_minor": 2
}
