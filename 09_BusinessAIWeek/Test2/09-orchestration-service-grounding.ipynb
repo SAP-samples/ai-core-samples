{
 "cells": [
  {
   "cell_type": "markdown",
   "metadata": {},
   "source": [
    "# Use the orchestration service of Generative AI Hub\n",
    "\n",
    "The orchestration service of Generative AI Hub lets you use all the available models with the same codebase. You only deploy the orchestration service and then you can access all available models simply by changing the model name parameter. You can also use grounding, prompt templating, data masking and content filtering capabilities.\n",
    "\n",
    "Store the `orchestration deployment url` from the previous step in your `variables.py` file. This code is based on the [AI180 TechEd 2024 Jump-Start session](https://github.com/SAP-samples/teched2024-AI180/tree/e648921c46337b57f61ecc9a93251d4b838d7ad0/exercises/python).\n",
    "\n",
    "👉 Make sure you assign the deployment url of the orchestration service to `AICORE_ORCHESTRATION_DEPLOYMENT_URL` in [variables.py](variables.py)."
   ]
  },
  {
   "cell_type": "code",
   "execution_count": 1,
   "metadata": {},
   "outputs": [
    {
     "name": "stdout",
     "output_type": "stream",
     "text": [
      "https://israel-fsvdxbsq.authentication.eu11.hana.ondemand.com/oauth/token\n",
      "sb-49ec08a9-d325-4480-9418-ad8801558203!b28574|aicore!b18\n",
      "96d2ba69-3289-4190-ad82-c174e50f9f17$8C_adlgCYD6AscPgIKtLXJkIj1AL6i8p9Opw1JJZ0o8=\n",
      "https://api.ai.prodeuonly.eu-central-1.aws.ml.hana.ondemand.com/v2\n",
      "grounding\n"
     ]
    }
   ],
   "source": [
    "import json\n",
    "import os\n",
    "from ai_core_sdk.ai_core_v2_client import AICoreV2Client\n",
    "# Inline credentials\n",
    "with open('creds.json') as f:\n",
    "    credCF = json.load(f)\n",
    " \n",
    "# Set environment variables\n",
    "def set_environment_vars(credCF):\n",
    "    env_vars = {\n",
    "        'AICORE_AUTH_URL': credCF['url'] + '/oauth/token',\n",
    "        'AICORE_CLIENT_ID': credCF['clientid'],\n",
    "        'AICORE_CLIENT_SECRET': credCF['clientsecret'],\n",
    "        'AICORE_BASE_URL': credCF[\"serviceurls\"][\"AI_API_URL\"] + \"/v2\",\n",
    "        'AICORE_RESOURCE_GROUP': \"grounding\"\n",
    "    }\n",
    " \n",
    "    for key, value in env_vars.items():\n",
    "        os.environ[key] = value\n",
    "        print(value)\n",
    " \n",
    "# Create AI Core client instance\n",
    "def create_ai_core_client(credCF):\n",
    "    set_environment_vars(credCF)  # Ensure environment variables are set\n",
    "    return AICoreV2Client(\n",
    "        base_url=os.environ['AICORE_BASE_URL'],\n",
    "        auth_url=os.environ['AICORE_AUTH_URL'],\n",
    "        client_id=os.environ['AICORE_CLIENT_ID'],\n",
    "        client_secret=os.environ['AICORE_CLIENT_SECRET'],\n",
    "        resource_group=os.environ['AICORE_RESOURCE_GROUP']\n",
    "    )\n",
    " \n",
    "ai_core_client = create_ai_core_client(credCF)"
   ]
  },
  {
   "cell_type": "code",
   "execution_count": 2,
   "metadata": {},
   "outputs": [],
   "source": [
    "# import init_env\n",
    "# import variables\n",
    "\n",
    "# init_env.set_environment_variables()"
   ]
  },
  {
   "cell_type": "markdown",
   "metadata": {},
   "source": [
    "### Import the packages you want to use"
   ]
  },
  {
   "cell_type": "code",
   "execution_count": 3,
   "metadata": {},
   "outputs": [],
   "source": [
    "from gen_ai_hub.orchestration.models.llm import LLM\n",
    "from gen_ai_hub.orchestration.models.config import GroundingModule, OrchestrationConfig\n",
    "from gen_ai_hub.orchestration.models.document_grounding import DocumentGrounding, DocumentGroundingFilter\n",
    "from gen_ai_hub.orchestration.models.template import Template, TemplateValue\n",
    "from gen_ai_hub.orchestration.models.message import SystemMessage, UserMessage\n",
    "from gen_ai_hub.orchestration.service import OrchestrationService"
   ]
  },
  {
   "cell_type": "markdown",
   "metadata": {},
   "source": [
    "### Assign a model and define a prompt template\n",
    "**user_query** is again the user input. Whereas **grounding_response** is the context retrieved from the context information, in this case from sap.help.com."
   ]
  },
  {
   "cell_type": "code",
   "execution_count": 4,
   "metadata": {},
   "outputs": [],
   "source": [
    "AICORE_ORCHESTRATION_DEPLOYMENT_URL = \"https://api.ai.prodeuonly.eu-central-1.aws.ml.hana.ondemand.com/v2/inference/deployments/d2d982db268a416f\""
   ]
  },
  {
   "cell_type": "code",
   "execution_count": 5,
   "metadata": {},
   "outputs": [],
   "source": [
    "# TODO again you need to chose a model e.g. gemini-1.5-flash or gpt-4o-mini\n",
    "llm = LLM(\n",
    "    name=\"gpt-4o\",\n",
    "    parameters={\n",
    "        'temperature': 0.0,\n",
    "    }\n",
    ")\n",
    "template = Template(\n",
    "            messages=[\n",
    "                SystemMessage(\"You are a helpful translation assistant.\"),\n",
    "                UserMessage(\"\"\"Answer the request by providing relevant answers that fit to the request.\n",
    "                Request: {{ ?user_query }}\n",
    "                Context:{{ ?grounding_response }}\n",
    "                \"\"\"),\n",
    "            ]\n",
    "        )"
   ]
  },
  {
   "cell_type": "markdown",
   "metadata": {},
   "source": [
    "### Create an orchestration configuration that specifies the grounding capability"
   ]
  },
  {
   "cell_type": "code",
   "execution_count": 6,
   "metadata": {},
   "outputs": [],
   "source": [
    "# Set up Document Grounding\n",
    "filters = [\n",
    "            DocumentGroundingFilter(id=\"SAPHelp\", data_repository_type=\"help.sap.com\")\n",
    "        ]\n",
    "\n",
    "grounding_config = GroundingModule(\n",
    "            type=\"document_grounding_service\",\n",
    "            config=DocumentGrounding(input_params=[\"user_query\"], output_param=\"grounding_response\", filters=filters)\n",
    "        )\n",
    "\n",
    "config = OrchestrationConfig(\n",
    "    template=template,\n",
    "    llm=llm,\n",
    "    grounding=grounding_config\n",
    ")"
   ]
  },
  {
   "cell_type": "code",
   "execution_count": 7,
   "metadata": {},
   "outputs": [
    {
     "name": "stdout",
     "output_type": "stream",
     "text": [
      "Joule is SAP's generative AI copilot designed to enhance interactions with SAP business systems. It serves as an intelligent assistant that understands your business needs, streamlining tasks and providing smart insights to facilitate faster decision-making. Joule offers conversational interactions to simplify access to information and automate business processes, improving both employee and customer satisfaction.\n",
      "\n",
      "Key features of Joule include:\n",
      "\n",
      "- **Integration with SAP Applications**: Joule integrates seamlessly with SAP applications, providing a conversational user interface that uses SAP Fiori compliant UI controls.\n",
      "- **Enterprise-readiness**: It offers out-of-the-box integration with SAP backend systems and complies with AI ethics and GDPR.\n",
      "- **Tailored for Business**: Joule's capabilities are customized based on your SAP solution portfolio, offering a unique assistant experience.\n",
      "- **Automatic Updates**: Joule is automatically updated whenever new capabilities are added or changed.\n",
      "\n",
      "Business benefits of Joule include:\n",
      "\n",
      "- **Faster Work**: Joule acts as your copilot across SAP applications, streamlining tasks and improving efficiency.\n",
      "- **Smarter Insights**: It provides quick answers and insights on-demand, helping to make faster decisions without bottlenecks.\n",
      "- **Better Outcomes**: Joule can assist with job descriptions, coding, and more, ensuring excellent content delivery.\n",
      "- **Full Control**: Users maintain control over decision-making and data privacy while accessing generative AI in a secure environment.\n",
      "\n",
      "Joule operates in the SAP BTP Cloud Foundry environment and supports multi-tenancy, meaning different consumers are independently provisioned with isolated data. It also supports multiple languages, adapting to the language configured within SAP applications.\n",
      "\n",
      "For more information, you can refer to the Joule Onboarding Guide and check regional availability in the Data Centers Supported by Joule.\n"
     ]
    }
   ],
   "source": [
    "orchestration_service = OrchestrationService(\n",
    "    api_url=AICORE_ORCHESTRATION_DEPLOYMENT_URL,\n",
    "    config=config\n",
    ")\n",
    "\n",
    "response = orchestration_service.run(\n",
    "    template_values=[\n",
    "        TemplateValue(\n",
    "            name=\"user_query\",\n",
    "            #TODO Here you can change the user prompt into whatever you want to ask the model\n",
    "            value=\"What is Joule?\"\n",
    "        )\n",
    "    ]\n",
    ")\n",
    "\n",
    "print(response.orchestration_result.choices[0].message.content)"
   ]
  },
  {
   "cell_type": "markdown",
   "metadata": {},
   "source": [
    "# Streaming\n",
    "Long response times can be frustrating in chat applications, especially when a large amount of text is involved. To create a smoother, more engaging user experience, we can use streaming to display the response in real-time, character by character or chunk by chunk, as the model generates it. This avoids the awkward wait for a complete response and provides immediate feedback to the user."
   ]
  },
  {
   "cell_type": "code",
   "execution_count": 8,
   "metadata": {},
   "outputs": [
    {
     "name": "stdout",
     "output_type": "stream",
     "text": [
      "\n",
      "Joule is SAP's generative AI copilot designed to enhance interactions with SAP business systems. It serves\n",
      " as an intelligent assistant that simplifies access to information and automates business processes,\n",
      " improving both employee and customer satisfaction. Joule offers conversational interactions, guiding\n",
      " users through content discovery within the SAP ecosystem and providing role-based access to relevant\n",
      " processes. It integrates seamlessly with SAP applications, offering a unified user experience across\n",
      " SAP's solution portfolio.\n",
      "\n",
      "Key features of Joule include:\n",
      "\n",
      "- **Integration with SAP Applications**:\n",
      " Joule provides a conversational user interface integrated with SAP applications, using SAP Fiori compliant\n",
      " UI controls.\n",
      "- **Enterprise-Readiness**: It offers out-of-the-box integration with SAP backend systems\n",
      " and complies with AI ethics and GDPR.\n",
      "- **Tailored for Business**: Joule's capabilities are customized\n",
      " based on the user's SAP solution portfolio.\n",
      "- **Automatic Updates**: Joule is automatically updated\n",
      " with new capabilities and changes.\n",
      "\n",
      "Business benefits of Joule include:\n",
      "\n",
      "- **Faster Work**: Streamlines\n",
      " tasks with an AI assistant that understands your unique role.\n",
      "- **Smarter Insights**: Provides quick\n",
      " answers and insights for faster decision-making.\n",
      "- **Better Outcomes**: Offers excellent content for\n",
      " various tasks, such as job descriptions and coding assistance.\n",
      "- **Full Control**: Ensures data privacy\n",
      " and control over decision-making while using generative AI.\n",
      "\n",
      "Joule operates in the SAP BTP Cloud Found\n",
      "ry environment and supports multi-tenancy, meaning different consumers are independently provisioned\n",
      " with isolated data. It also supports multiple languages, adapting to the language configured within\n",
      " SAP applications.\n",
      "\n",
      "For more information, users can refer to the Joule Onboarding Guide and check regional\n",
      " availability in the Data Centers Supported by Joule.\n"
     ]
    }
   ],
   "source": [
    "response = orchestration_service.stream(\n",
    "    config=config,\n",
    "    template_values=[\n",
    "        TemplateValue(\n",
    "            name=\"user_query\",\n",
    "            #TODO Here you can change the user prompt into whatever you want to ask the model\n",
    "            value=\"What is Joule?\"\n",
    "        )\n",
    "    ]\n",
    ")\n",
    "\n",
    "for chunk in response:\n",
    "    print(chunk.orchestration_result.choices[0].delta.content)\n"
   ]
  },
  {
   "cell_type": "markdown",
   "metadata": {},
   "source": [
    "[More Info on the content filter](https://learn.microsoft.com/en-us/azure/ai-studio/concepts/content-filtering)\n",
    "\n",
    "[Next exercise](10-chatbot-with-memory.ipynb)"
   ]
  }
 ],
 "metadata": {
  "kernelspec": {
   "display_name": "base",
   "language": "python",
   "name": "python3"
  },
  "language_info": {
   "codemirror_mode": {
    "name": "ipython",
    "version": 3
   },
   "file_extension": ".py",
   "mimetype": "text/x-python",
   "name": "python",
   "nbconvert_exporter": "python",
   "pygments_lexer": "ipython3",
   "version": "3.12.7"
  }
 },
 "nbformat": 4,
 "nbformat_minor": 2
}
