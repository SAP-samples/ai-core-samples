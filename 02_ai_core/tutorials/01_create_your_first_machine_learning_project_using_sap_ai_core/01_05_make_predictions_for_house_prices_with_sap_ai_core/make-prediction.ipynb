{
 "cells": [
  {
   "cell_type": "markdown",
   "id": "9579c95c-5199-4f75-97e4-442629c12926",
   "metadata": {},
   "source": [
    "# Make Predictions for House Prices with SAP AI Core\n",
    "\n",
    "Author: https://github.com/dhrubpaul\n",
    "\n",
    "You need Docker to complete this tutorial. If you are running this Jupyter notebook on web, we recommend to use your local system along with it.\n",
    "\n",
    "The steps are analogous with the tutorial: https://developers.sap.com/tutorials/ai-core-deploy.html\n",
    "Please open the tutorial and this notebook side-by-side for better understanding."
   ]
  },
  {
   "cell_type": "markdown",
   "id": "64056b4b-f92d-4d4e-8d52-10ab16632a7d",
   "metadata": {},
   "source": [
    "## Pre-requisite \n",
    "Create connection with SAP AI Core. Edit the below cell"
   ]
  },
  {
   "cell_type": "code",
   "execution_count": null,
   "id": "4ce8675a-2d8e-4537-8d9f-6f26dacae72c",
   "metadata": {},
   "outputs": [],
   "source": [
    "# Load Library\n",
    "from ai_core_sdk.ai_core_v2_client import AICoreV2Client\n",
    "\n",
    "# Create Connection\n",
    "ai_core_client = AICoreV2Client(\n",
    "    base_url = \"<YOUR_AI_API_URL>\" + \"/v2\", # The present SAP AI Core API version is 2\n",
    "    auth_url=  \"<YOUR_url>\" + \"/oauth/token\", # Suffix to add\n",
    "    client_id = \"<YOUR_clientid>\",\n",
    "    client_secret = \"<YOUR_clientsecret>\"\n",
    ")\n",
    "# no output is expected"
   ]
  },
  {
   "cell_type": "markdown",
   "id": "28e3e6a8-b9c3-4513-888d-464ba8d654c5",
   "metadata": {},
   "source": [
    "## Step 1: Write code for serving engine\n",
    "\n",
    "*Refer step 1 of the tutorial: https://developers.sap.com/tutorials/ai-core-deploy.html#7884d459-518e-433c-b694-59ddca782ebd*\n",
    "\n",
    "## Step 2: Bundle and publish code to cloud\n",
    "\n",
    "*Refer step 2 of the tutorial: https://developers.sap.com/tutorials/ai-core-deploy.html#c897573a-ce36-4a2c-a32d-a7d2d505caff*\n",
    "\n",
    "## Step 3: Create a serving executable\n",
    "\n",
    "*Refer step 3 of the tutorial: https://developers.sap.com/tutorials/ai-core-deploy.html#b4a49a57-b260-4389-83ba-1675cc84a85d*\n",
    "\n",
    "## Step 4: Select a model to deploy using a configuration"
   ]
  },
  {
   "cell_type": "code",
   "execution_count": null,
   "id": "7baacae0-bc29-4e1f-ac96-41505b17028c",
   "metadata": {},
   "outputs": [],
   "source": [
    "from ai_api_client_sdk.models.parameter_binding import ParameterBinding\n",
    "from ai_api_client_sdk.models.input_artifact_binding import InputArtifactBinding\n",
    "\n",
    "response = ai_core_client.configuration.create(\n",
    "    name = \"House Price Predictor Jan\",\n",
    "    scenario_id = \"learning-datalines\",\n",
    "    executable_id = \"server-pipeline\",\n",
    "    input_artifact_bindings = [\n",
    "        InputArtifactBinding(key = \"housepricemodel\", artifact_id = \"<YOUR_MODEL_ARTIFACT_ID>\") # placeholder  name as key\n",
    "    ],\n",
    "    parameter_bindings = [\n",
    "        ParameterBinding(key = \"greetmessage\", value = \"Hi AI Core server\") # placeholder name as key\n",
    "    ],\n",
    "    resource_group = \"default\"\n",
    ")\n",
    "print(response.__dict__)\n"
   ]
  },
  {
   "cell_type": "markdown",
   "id": "fc3d5e36-8f98-4809-8e47-2296d27c834c",
   "metadata": {},
   "source": [
    "## Step 5: Start a deployment"
   ]
  },
  {
   "cell_type": "code",
   "execution_count": null,
   "id": "79eaf1e2-dae3-4483-af52-379b4f134c32",
   "metadata": {},
   "outputs": [],
   "source": [
    "response = ai_core_client.deployment.create(\n",
    "    configuration_id=\"YOUR_CONFIGURATIO_ID\",\n",
    "    resource_group='default'\n",
    ")\n",
    "\n",
    "print(response.__dict__)\n"
   ]
  },
  {
   "cell_type": "markdown",
   "id": "11e58371-ee46-4e6d-800b-b510a9f3d29f",
   "metadata": {},
   "source": [
    "## Step 6: Make a prediction\n"
   ]
  },
  {
   "cell_type": "code",
   "execution_count": null,
   "id": "ec373af2-4fab-4dff-8d8d-b80e12b53451",
   "metadata": {},
   "outputs": [],
   "source": [
    "# Get Deployment details\n",
    "response = ai_core_client.deployment.get(\n",
    "    deployment_id=\"YOUR_DEPLOYMENT_ID\",\n",
    "    resource_group=\"default\"\n",
    ")\n",
    "\n",
    "print(response.__dict__)\n"
   ]
  },
  {
   "cell_type": "code",
   "execution_count": null,
   "id": "4ec492be-5eaa-4f40-8229-eec79f286812",
   "metadata": {},
   "outputs": [],
   "source": [
    "# Make Prediction\n",
    "import requests\n",
    "\n",
    "# URL\n",
    "deployment_url = \"YOUR_DEPLOYMENT_URL\"\n",
    "\n",
    "# Preparing the input for inference\n",
    "test_input = {\n",
    "    \"MedInc\": 8.3252,\n",
    "    \"HouseAge\": 41,\n",
    "    \"AveRooms\": 6.984126984,\n",
    "    \"AveBedrms\":1.023809524,\n",
    "    \"Population\":322,\n",
    "    \"AveOccup\": 2.555555556,\n",
    "    \"Latitude\":37.88,\n",
    "    \"Longitude\":-122.23\n",
    "}\n",
    "\n",
    "endpoint = f\"{deployment_url}/v2/predict\" # endpoint implemented in serving engine\n",
    "headers = {\"Authorization\": ai_core_client.rest_client.get_token(),\n",
    "           'ai-resource-group': \"default\",\n",
    "           \"Content-Type\": \"application/json\"}\n",
    "response = requests.post(endpoint, headers=headers, json=test_input)\n",
    "\n",
    "print('Inference result:', response.json())\n"
   ]
  },
  {
   "cell_type": "markdown",
   "id": "8a769079-c897-46fc-8c4b-b51c8ff33ce2",
   "metadata": {},
   "source": [
    "## Step 7: Switch the deployed model"
   ]
  },
  {
   "cell_type": "code",
   "execution_count": null,
   "id": "d3d88dc7-303f-413e-8bae-4207ec783ac7",
   "metadata": {},
   "outputs": [],
   "source": [
    "# Create a new configuration\n",
    "response = ai_core_client.configuration.create(\n",
    "    name = \"House Price Predictor Feb\",\n",
    "    scenario_id = \"learning-datalines\",\n",
    "    executable_id = \"server-pipeline\",\n",
    "    input_artifact_bindings = [\n",
    "        InputArtifactBinding(key = \"housepricemodel\", artifact_id = \"<YOUR_MODEL_ARTIFACT_ID>\") # placeholder  name as key\n",
    "    ],\n",
    "    parameter_bindings = [\n",
    "        ParameterBinding(key = \"greetmessage\", value = \"Hi AI Core server\") # placeholder name as key\n",
    "    ],\n",
    "    resource_group = \"default\"\n",
    ")\n",
    "print(response.__dict__)\n"
   ]
  },
  {
   "cell_type": "code",
   "execution_count": null,
   "id": "00c02461-ba54-4eba-b7c0-6f805a3c380d",
   "metadata": {},
   "outputs": [],
   "source": [
    "# Modify deployment to use new configuration\n",
    "response = ai_core_client.deployment.modify(\n",
    "    deployment_id = \"YOUR_DEPLOYMENT_ID\", # existing deployment\n",
    "    configuration_id = \"NEW_CONFIGURATION_ID\", # new configuration ID\n",
    "    resource_group = \"default\"\n",
    ")\n",
    "\n",
    "print(response.__dict__)\n"
   ]
  },
  {
   "cell_type": "markdown",
   "id": "b95d7111-a60e-426f-b9b0-47e66bc70966",
   "metadata": {},
   "source": [
    "## Step 8: Stop a deployment"
   ]
  },
  {
   "cell_type": "code",
   "execution_count": null,
   "id": "e72b5bfa-0a07-4f4c-8454-aa58a3aa091d",
   "metadata": {},
   "outputs": [],
   "source": [
    "from ai_api_client_sdk.models.target_status import TargetStatus\n",
    "response = ai_core_client.deployment.modify(\n",
    "    deployment_id=\"YOUR_DEPLOYMENT_ID\",\n",
    "    target_status=TargetStatus.STOPPED,\n",
    "    resource_group=\"default\"\n",
    ")\n",
    "\n",
    "print(response.__dict__)\n"
   ]
  }
 ],
 "metadata": {
  "kernelspec": {
   "display_name": "Python 3 (ipykernel)",
   "language": "python",
   "name": "python3"
  },
  "language_info": {
   "codemirror_mode": {
    "name": "ipython",
    "version": 3
   },
   "file_extension": ".py",
   "mimetype": "text/x-python",
   "name": "python",
   "nbconvert_exporter": "python",
   "pygments_lexer": "ipython3",
   "version": "3.9.10"
  }
 },
 "nbformat": 4,
 "nbformat_minor": 5
}
