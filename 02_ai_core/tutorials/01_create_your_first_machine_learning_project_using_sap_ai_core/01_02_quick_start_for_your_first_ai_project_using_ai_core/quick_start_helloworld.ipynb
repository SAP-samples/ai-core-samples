{
 "cells": [
  {
   "cell_type": "markdown",
   "id": "9579c95c-5199-4f75-97e4-442629c12926",
   "metadata": {},
   "source": [
    "# Quick Start for You First AI Project using SAP AI Core\n",
    "Author: https://github.com/dhrubpaul\n",
    "\n",
    "The steps are analogous with the tutorial: https://developers.sap.com/tutorials/ai-core-helloworld.html\n",
    "Please open the tutorial and this notebook side-by-side for better understanding."
   ]
  },
  {
   "cell_type": "markdown",
   "id": "64056b4b-f92d-4d4e-8d52-10ab16632a7d",
   "metadata": {},
   "source": [
    "## Pre-requisite \n",
    "Create connection with SAP AI Core. Edit the below cell"
   ]
  },
  {
   "cell_type": "code",
   "execution_count": null,
   "id": "4ce8675a-2d8e-4537-8d9f-6f26dacae72c",
   "metadata": {},
   "outputs": [],
   "source": [
    "# Load Library\n",
    "from ai_core_sdk.ai_core_v2_client import AICoreV2Client\n",
    "\n",
    "# Create Connection\n",
    "ai_core_client = AICoreV2Client(\n",
    "    base_url = \"<YOUR_AI_API_URL>\" + \"/v2\", # The present SAP AI Core API version is 2\n",
    "    auth_url=  \"<YOUR_url>\" + \"/oauth/token\", # Suffix to add\n",
    "    client_id = \"<YOUR_clientid>\",\n",
    "    client_secret = \"<YOUR_clientsecret>\"\n",
    ")\n",
    "# no output is expected"
   ]
  },
  {
   "cell_type": "markdown",
   "id": "28e3e6a8-b9c3-4513-888d-464ba8d654c5",
   "metadata": {},
   "source": [
    "## Step 1: Create a GitHub repository\n",
    "\n",
    "*Create a repository on GitHub.com . You may use any your own Git hosting.* Refere step 1 of the tutorial: https://developers.sap.com/tutorials/ai-core-helloworld.html#943ffe1c-b32f-4795-8024-3356466a3f75\n",
    "\n",
    "\n",
    "## Step 2: Generate a GitHub personal access token\n",
    "\n",
    "*Perform this step over GitHub*. Refer step 2 of the tutorial: https://developers.sap.com/tutorials/ai-core-helloworld.html#06fb98d7-9efa-427d-aed8-864b56b72f3c"
   ]
  },
  {
   "cell_type": "markdown",
   "id": "8a769079-c897-46fc-8c4b-b51c8ff33ce2",
   "metadata": {},
   "source": [
    "## Step 3: Onboard GitHub to SAP AI Core"
   ]
  },
  {
   "cell_type": "code",
   "execution_count": null,
   "id": "190a7080-5ff5-4c73-b63d-65c7463a8471",
   "metadata": {},
   "outputs": [],
   "source": [
    "# on-board new GitHub repository\n",
    "ai_core_client.repositories.create(\n",
    "    name = \"<YOUR_NAME>-myrepo\",\n",
    "    url = \"https://github.com/<YOUR_GITHUB_USERNAME>/aicore-pipelines\",\n",
    "    username = \"<YOUR_GITHUB_USERNAME>\",\n",
    "    password = \"<YOUR_GITHUB_ACCESS_TOKEN>\"\n",
    ")\n"
   ]
  },
  {
   "cell_type": "markdown",
   "id": "2ecd3883-2c49-40fc-80de-6fba0bc5af06",
   "metadata": {},
   "source": [
    "**If Error**\n",
    "- check keys in the top cell\n",
    "- ensure your GitHub is not blocked by firewall. You repostiory can be private."
   ]
  },
  {
   "cell_type": "code",
   "execution_count": null,
   "id": "baf86e67-a652-4cf5-859f-d0933a2e64b2",
   "metadata": {},
   "outputs": [],
   "source": [
    "# check on-boarding status\n",
    "response = ai_core_client.repositories.query()\n",
    "#\n",
    "for repository in response.resources:\n",
    "    print('Name:', repository.name)\n",
    "    print('URL:', repository.url)\n",
    "    print('Status:', repository.status)\n"
   ]
  },
  {
   "cell_type": "markdown",
   "id": "b95d7111-a60e-426f-b9b0-47e66bc70966",
   "metadata": {},
   "source": [
    "## Step 4: Place a workflow in GitHub\n",
    "\n",
    "*Perform this step on your GitHub*. Refer step 4 of the tutorial: https://developers.sap.com/tutorials/ai-core-helloworld.html#65c2faa9-0e67-4fee-b639-65a98139911a"
   ]
  },
  {
   "cell_type": "markdown",
   "id": "78269b3a-2369-4c89-bf9a-82a0b298e075",
   "metadata": {},
   "source": [
    "## Step 5: Create an application to sync workflows with SAP AI Core"
   ]
  },
  {
   "cell_type": "code",
   "execution_count": null,
   "id": "f5bab8ed-5163-4748-b39e-01215abde392",
   "metadata": {},
   "outputs": [],
   "source": [
    "ai_core_client.applications.create(\n",
    "    application_name = \"learning-scenarios-app\",\n",
    "    repository_url = \"https://github.com/<YOUR_GITHUB_USERNAME>/aicore-pipelines\",\n",
    "    path = \"LearningScenarios\",\n",
    "    revision = \"HEAD\"\n",
    ")"
   ]
  },
  {
   "cell_type": "markdown",
   "id": "1c36c146-e4e2-4e1e-a43b-5a5d91f188f9",
   "metadata": {},
   "source": [
    "List your applications created for syncing workflows"
   ]
  },
  {
   "cell_type": "code",
   "execution_count": null,
   "id": "5bd75460-efb1-422a-a069-f2a7a74ac872",
   "metadata": {},
   "outputs": [],
   "source": [
    "response = ai_core_client.applications.query()\n",
    "\n",
    "for app in response.resources:\n",
    "    print(app.__dict__)\n"
   ]
  },
  {
   "cell_type": "markdown",
   "id": "2f6b8c09-8f82-40b7-a889-cce8e339383e",
   "metadata": {},
   "source": [
    "## Step 6: Check for errors"
   ]
  },
  {
   "cell_type": "code",
   "execution_count": null,
   "id": "fe55a93a-656a-443d-8fb0-b22b51dd52cf",
   "metadata": {},
   "outputs": [],
   "source": [
    "response = ai_core_client.applications.get_status(application_name='learning-scenarios-app')\n",
    "\n",
    "print(response.message)\n",
    "for workflow_sync_status in response.sync_ressources_status:\n",
    "    print(workflow_sync_status.__dict__)\n"
   ]
  },
  {
   "cell_type": "markdown",
   "id": "2d395434-4642-4081-af1f-9e8cbf6f7ba1",
   "metadata": {},
   "source": [
    "## Step 7: Check your scenario"
   ]
  },
  {
   "cell_type": "code",
   "execution_count": null,
   "id": "683914ca-394e-4657-828f-9bf81cb80ecb",
   "metadata": {},
   "outputs": [],
   "source": [
    "response = ai_core_client.scenario.query(resource_group='default')\n",
    "\n",
    "for scenario in response.resources:\n",
    "    print(scenario.__dict__)\n"
   ]
  },
  {
   "cell_type": "code",
   "execution_count": null,
   "id": "5d371cc2-7406-4c97-a28a-4ed92a532019",
   "metadata": {},
   "outputs": [],
   "source": [
    "# List executable with a give scenario\n",
    "response = ai_core_client.executable.query(scenario_id = \"learning\", resource_group='default')\n",
    "\n",
    "for executable in response.resources:\n",
    "    print(executable.__dict__)\n"
   ]
  },
  {
   "cell_type": "markdown",
   "id": "55470b8c-f268-4e98-a73b-66e7be32277c",
   "metadata": {},
   "source": [
    "## Step 8: Run executable"
   ]
  },
  {
   "cell_type": "markdown",
   "id": "5fa1f4ca-96f8-4fad-8bd7-8e0e0af45543",
   "metadata": {},
   "source": [
    "modify the executable ID to the value supplied in your workflow"
   ]
  },
  {
   "cell_type": "code",
   "execution_count": null,
   "id": "cb74c25d-b2b1-4fa1-9f8f-2a98ff153150",
   "metadata": {},
   "outputs": [],
   "source": [
    "# Create configuration\n",
    "ai_core_client.configuration.create(\n",
    "    name = \"hello-pipeline-conf\", # custom name of configuration\n",
    "    scenario_id = \"learning\", # value from workflow\n",
    "    executable_id = \"first-pipeline\", # value from workflow\n",
    "    resource_group = \"default\"\n",
    ")\n"
   ]
  },
  {
   "cell_type": "code",
   "execution_count": null,
   "id": "339494e0-cf2c-4626-a2ca-60af28afc105",
   "metadata": {},
   "outputs": [],
   "source": [
    "# Lists all configurations\n",
    "response = ai_core_client.configuration.query(\n",
    "    resource_group = \"default\"\n",
    ")\n",
    "\n",
    "for configuration in response.resources:\n",
    "    print(configuration.__dict__)\n"
   ]
  },
  {
   "cell_type": "code",
   "execution_count": null,
   "id": "f3e7f0eb-05d4-4c61-893b-567ab4db6b57",
   "metadata": {},
   "outputs": [],
   "source": [
    "# Create execution using configuration\n",
    "ai_core_client.execution.create(\n",
    "    configuration_id = '<YOUR_CONFIGURATION_ID>', # Change this value.\n",
    "    resource_group = 'default'\n",
    ")\n"
   ]
  },
  {
   "cell_type": "code",
   "execution_count": null,
   "id": "1d4d2745-429a-47e1-bd7b-d402e406c8fe",
   "metadata": {},
   "outputs": [],
   "source": [
    "# Get execution status from SAP AI Core\n",
    "# execute this multiple times in interval of 30 seconds\n",
    "response = ai_core_client.execution.get(\n",
    "    execution_id = '<YOUR_EXECUTION_ID', # Change this\n",
    "    resource_group = 'default'\n",
    ")\n",
    "\n",
    "response.__dict__\n"
   ]
  },
  {
   "cell_type": "code",
   "execution_count": null,
   "id": "e454dfc6-f733-4c72-9883-bbd3f47a7ca2",
   "metadata": {},
   "outputs": [],
   "source": [
    "# Get logs of an execution\n",
    "response = ai_core_client.execution.query_logs(\n",
    "    execution_id = '<YOUR_EXECUTION_ID>',\n",
    "    resource_group = 'default'\n",
    ")\n",
    "\n",
    "for log in response.data.result:\n",
    "    print(log.__dict__)\n"
   ]
  },
  {
   "cell_type": "markdown",
   "id": "dea7ad1e-f05c-4c4e-86df-23f6d0065c17",
   "metadata": {},
   "source": [
    "## Step 9: Update your workflow\n",
    "\n",
    "*Perform this step over GitHub*. Refer step 9 of the tutorial: https://developers.sap.com/tutorials/ai-core-helloworld.html#87b7f9b0-8420-49bb-a2d5-229a85b330ed\n",
    "\n"
   ]
  },
  {
   "cell_type": "markdown",
   "id": "12709765-5b8b-462a-b8fc-5526ce7e9936",
   "metadata": {},
   "source": [
    "## Step 10: Create new execution"
   ]
  },
  {
   "cell_type": "code",
   "execution_count": null,
   "id": "b3313d73-5f50-49ad-aae9-db4e7eb4f365",
   "metadata": {},
   "outputs": [],
   "source": [
    "# Check executable status\n",
    "response = ai_core_client.executable.query(\n",
    "    scenario_id = \"learning\", resource_group='default'\n",
    ")\n",
    "\n",
    "for executable in response.resources:\n",
    "    print(executable.__dict__)\n"
   ]
  },
  {
   "cell_type": "code",
   "execution_count": null,
   "id": "73e6d7e7-a1ff-4216-82a3-0581c739ea31",
   "metadata": {},
   "outputs": [],
   "source": [
    "# Reuse configuration ID to trigger execution\n",
    "response = ai_core_client.execution.create(\n",
    "    configuration_id = '<YOUR_CONFIGURATION_ID>', # previously created.\n",
    "    resource_group = 'default'\n",
    ")\n",
    "\n",
    "response.__dict__\n"
   ]
  },
  {
   "cell_type": "code",
   "execution_count": null,
   "id": "ce52ee4e-260e-4c22-8741-a6e062c67dbb",
   "metadata": {},
   "outputs": [],
   "source": [
    "# Get Execution Status\n",
    "# execute this multiple times in interval of 30 seconds\n",
    "response = ai_core_client.execution.get(\n",
    "    execution_id = '<YOUR_EXECUTION_ID>',\n",
    "    resource_group = 'default'\n",
    ")\n",
    "\n",
    "response.__dict__\n"
   ]
  },
  {
   "cell_type": "code",
   "execution_count": null,
   "id": "c2a4d7ae-8211-4926-8968-0d1d98414826",
   "metadata": {},
   "outputs": [],
   "source": [
    "# Get Execution Logs\n",
    "response = ai_core_client.execution.query_logs(\n",
    "    execution_id = '<YOUR_EXECUTION_ID>',\n",
    "    resource_group = 'default'\n",
    ")\n",
    "\n",
    "for log in response.data.result:\n",
    "    print(log.__dict__)\n"
   ]
  }
 ],
 "metadata": {
  "kernelspec": {
   "display_name": "Python 3 (ipykernel)",
   "language": "python",
   "name": "python3"
  },
  "language_info": {
   "codemirror_mode": {
    "name": "ipython",
    "version": 3
   },
   "file_extension": ".py",
   "mimetype": "text/x-python",
   "name": "python",
   "nbconvert_exporter": "python",
   "pygments_lexer": "ipython3",
   "version": "3.9.10"
  }
 },
 "nbformat": 4,
 "nbformat_minor": 5
}
