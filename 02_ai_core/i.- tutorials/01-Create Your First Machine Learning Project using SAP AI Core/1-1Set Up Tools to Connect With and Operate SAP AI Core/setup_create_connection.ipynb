{
 "cells": [
  {
   "cell_type": "markdown",
   "metadata": {},
   "source": [
    "# Set Up Tools to Connect With and Operate SAP AI Core\n",
    "\n",
    "Author: https://github.com/dhrubpaul\n",
    "\n",
    "The steps are analogous with the tutorial: https://developers.sap.com/tutorials/ai-core-setup.html.\n",
    "Please open the tutorial and this notebook side-by-side for better understanding.\n",
    "\n",
    "## Step 1: Get your SAP AI Core keys\n",
    "\n",
    "*Please use your SAP Business Technology Platform cockpit* to generate keys for your SAP AI Core*. Refer Step 1 of the tutorial https://developers.sap.com/tutorials/ai-core-setup.html#0ef6df6b-1332-408e-9001-bece67af2880"
   ]
  },
  {
   "cell_type": "markdown",
   "metadata": {
    "id": "LZPRFYA3EOb8"
   },
   "source": [
    "## Step 2: Get tools to connect to SAP AI Core\n",
    "\n",
    "The step requires you to install Python and Jupyter.\n",
    "\n",
    "Install `SAP AI Core SDK`."
   ]
  },
  {
   "cell_type": "code",
   "execution_count": null,
   "metadata": {
    "id": "I4M-96jMGmD1"
   },
   "outputs": [],
   "source": [
    "!pip install ai-core-sdk"
   ]
  },
  {
   "cell_type": "markdown",
   "metadata": {
    "id": "tCgjKL6HEh2h"
   },
   "source": [
    "## Step 3: Connect with SAP AI Core\n",
    "\n",
    "*(Skip) The step requires you to start jupyter notebook using the below command*\n",
    "\n",
    "```jupyter notebook```"
   ]
  },
  {
   "cell_type": "markdown",
   "metadata": {
    "id": "Jmc1LRJsFILZ"
   },
   "source": [
    "## Step 4: Connect with SAP AI Core"
   ]
  },
  {
   "cell_type": "code",
   "execution_count": null,
   "metadata": {
    "id": "42UyzaacD1MN"
   },
   "outputs": [],
   "source": [
    "# Load Library\n",
    "from ai_core_sdk.ai_core_v2_client import AICoreV2Client\n",
    "\n",
    "# Create Connection\n",
    "ai_core_client = AICoreV2Client(\n",
    "    base_url = \"<YOUR_AI_API_URL>\" + \"/v2\", # The present SAP AI Core API version is 2\n",
    "    auth_url=  \"<YOUR_url>\" + \"/oauth/token\", # Suffix to add\n",
    "    client_id = \"<YOUR_clientid>\",\n",
    "    client_secret = \"<YOUR_clientsecret>\"\n",
    ")"
   ]
  },
  {
   "cell_type": "markdown",
   "metadata": {
    "id": "YKK5bhKrFyAy"
   },
   "source": [
    "**Expected: No Output**\n",
    "\n",
    "The conncection `ai_core_client` is local to this notebook. You should use the snippet when you want to command SAP AI Core"
   ]
  },
  {
   "cell_type": "markdown",
   "metadata": {
    "id": "DQ-_8qWtFPPE"
   },
   "source": [
    "## Step 5: Perform an action in SAP AI Core\n",
    "\n",
    "List Git repositories you connected with your SAP AI Core instance"
   ]
  },
  {
   "cell_type": "code",
   "execution_count": null,
   "metadata": {
    "id": "0dy1CvyCFOrH"
   },
   "outputs": [],
   "source": [
    "response = ai_core_client.repositories.query()\n",
    "print(response.count)"
   ]
  },
  {
   "cell_type": "markdown",
   "metadata": {
    "id": "gvir-oJIFf09"
   },
   "source": [
    "- should out a numerical value, this implies that your connection works.\n",
    "\n",
    "**In case of error**: please check your keys in the previous step."
   ]
  },
  {
   "cell_type": "markdown",
   "metadata": {
    "id": "olFqkURzGLnX"
   },
   "source": [
    "## Step 6: Discover tool specific nuances\n",
    "\n",
    "*(Skip) The step highlights that some functions may not be common between `SAP AI Core SDK` and `AI API client SDK`*. Refer Step 6 of the tutorial: https://developers.sap.com/tutorials/ai-core-setup.html#e08224c4-33c4-4ec5-a25c-186e6b2d43a9"
   ]
  },
  {
   "cell_type": "markdown",
   "metadata": {
    "id": "Dog0KFCIG0IS"
   },
   "source": [
    "## Step 7: Find help provisions for your interface, and the SAP AI Core help page"
   ]
  },
  {
   "cell_type": "code",
   "execution_count": null,
   "metadata": {
    "id": "_ckpcCkNFu8E"
   },
   "outputs": [],
   "source": [
    "# List available functions/ modules\n",
    "print(dir(ai_core_client))"
   ]
  },
  {
   "cell_type": "code",
   "execution_count": null,
   "metadata": {
    "id": "O0sdGpvxH3kq"
   },
   "outputs": [],
   "source": [
    "# Read document of how to use function\n",
    "help(ai_core_client.scenario.query)"
   ]
  }
 ],
 "metadata": {
  "colab": {
   "name": "01_setup_tools_connect_sap_ai_core.ipynb",
   "provenance": []
  },
  "kernelspec": {
   "display_name": "Python 3 (ipykernel)",
   "language": "python",
   "name": "python3"
  },
  "language_info": {
   "codemirror_mode": {
    "name": "ipython",
    "version": 3
   },
   "file_extension": ".py",
   "mimetype": "text/x-python",
   "name": "python",
   "nbconvert_exporter": "python",
   "pygments_lexer": "ipython3",
   "version": "3.9.10"
  }
 },
 "nbformat": 4,
 "nbformat_minor": 4
}
