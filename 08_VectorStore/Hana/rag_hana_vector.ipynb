{
 "cells": [
  {
   "cell_type": "markdown",
   "id": "edec3157-2e99-41a6-bf70-339885aee58d",
   "metadata": {},
   "source": [
    "# Retrieval Augmented Generation using generative-ai-hub-sdk and HANA vector search\n",
    "<!-- description --> Using HANA vector store to store vector embeddings and using them in Retrieval Augmented Generation.\n",
    "\n",
    "## Prerequisites\n",
    "\n",
    "- Access to SAP AI core with sap extended plan.\n",
    "- Have python3 installed in your system.\n",
    "- Have generative-ai-hub-sdk installed in your system.\n",
    "\n",
    "- ### Loading vector data from a csv file\r\n",
    "\r\n",
    "Download the following ```csv``` file and save it in your system.\r\n",
    "\r\n",
    " [Download File](files/GRAPH_DOCU_QRC3.csv)\r\n",
    "\r\n",
    "Execute the following python code in the same folder. This will load the data and store it in a data-frame."
   ]
  },
  {
   "cell_type": "code",
   "execution_count": 13,
   "id": "76f85482-a729-4624-9945-ccf95d2b7e06",
   "metadata": {},
   "outputs": [
    {
     "data": {
      "text/html": [
       "<div>\n",
       "<style scoped>\n",
       "    .dataframe tbody tr th:only-of-type {\n",
       "        vertical-align: middle;\n",
       "    }\n",
       "\n",
       "    .dataframe tbody tr th {\n",
       "        vertical-align: top;\n",
       "    }\n",
       "\n",
       "    .dataframe thead th {\n",
       "        text-align: right;\n",
       "    }\n",
       "</style>\n",
       "<table border=\"1\" class=\"dataframe\">\n",
       "  <thead>\n",
       "    <tr style=\"text-align: right;\">\n",
       "      <th></th>\n",
       "      <th>ID</th>\n",
       "      <th>L1</th>\n",
       "      <th>L2</th>\n",
       "      <th>L3</th>\n",
       "      <th>FILENAME</th>\n",
       "      <th>HEADER1</th>\n",
       "      <th>HEADER2</th>\n",
       "      <th>TEXT</th>\n",
       "      <th>VECTOR_STR</th>\n",
       "    </tr>\n",
       "  </thead>\n",
       "  <tbody>\n",
       "    <tr>\n",
       "      <th>0</th>\n",
       "      <td>273</td>\n",
       "      <td>90</td>\n",
       "      <td>40</td>\n",
       "      <td>0</td>\n",
       "      <td>090-040-000-Appendix_C_-_GraphScript_Cheat_She...</td>\n",
       "      <td>Appendix C - GraphScript Cheat Sheet</td>\n",
       "      <td>Weighted Path Functions</td>\n",
       "      <td>&lt;!--! subsection --&gt;\\r\\n### WEIGHT  \\r\\n```gra...</td>\n",
       "      <td>[0.015699435,0.020284351,0.0003677337,-0.00413...</td>\n",
       "    </tr>\n",
       "    <tr>\n",
       "      <th>1</th>\n",
       "      <td>52</td>\n",
       "      <td>60</td>\n",
       "      <td>20</td>\n",
       "      <td>30</td>\n",
       "      <td>060-020-030-Basic_Vertex_Operations.md</td>\n",
       "      <td>Basic Vertex Operations</td>\n",
       "      <td>DEGREE</td>\n",
       "      <td>Returns the number of incoming and outgoing ed...</td>\n",
       "      <td>[0.018821003,0.012627394,-0.007940338,-0.00959...</td>\n",
       "    </tr>\n",
       "    <tr>\n",
       "      <th>2</th>\n",
       "      <td>44</td>\n",
       "      <td>60</td>\n",
       "      <td>20</td>\n",
       "      <td>20</td>\n",
       "      <td>060-020-020-Basic_Graph_Operations.md</td>\n",
       "      <td>Basic Graph Operations</td>\n",
       "      <td>EDGES</td>\n",
       "      <td>Returns all edges in a graph.  \\r\\n- EDGES(GRA...</td>\n",
       "      <td>[-0.013607875,0.009249507,-0.03403819,-0.03394...</td>\n",
       "    </tr>\n",
       "  </tbody>\n",
       "</table>\n",
       "</div>"
      ],
      "text/plain": [
       "    ID  L1  L2  L3                                           FILENAME  \\\n",
       "0  273  90  40   0  090-040-000-Appendix_C_-_GraphScript_Cheat_She...   \n",
       "1   52  60  20  30             060-020-030-Basic_Vertex_Operations.md   \n",
       "2   44  60  20  20              060-020-020-Basic_Graph_Operations.md   \n",
       "\n",
       "                                HEADER1                  HEADER2  \\\n",
       "0  Appendix C - GraphScript Cheat Sheet  Weighted Path Functions   \n",
       "1               Basic Vertex Operations                   DEGREE   \n",
       "2                Basic Graph Operations                    EDGES   \n",
       "\n",
       "                                                TEXT  \\\n",
       "0  <!--! subsection -->\\r\\n### WEIGHT  \\r\\n```gra...   \n",
       "1  Returns the number of incoming and outgoing ed...   \n",
       "2  Returns all edges in a graph.  \\r\\n- EDGES(GRA...   \n",
       "\n",
       "                                          VECTOR_STR  \n",
       "0  [0.015699435,0.020284351,0.0003677337,-0.00413...  \n",
       "1  [0.018821003,0.012627394,-0.007940338,-0.00959...  \n",
       "2  [-0.013607875,0.009249507,-0.03403819,-0.03394...  "
      ]
     },
     "execution_count": 13,
     "metadata": {},
     "output_type": "execute_result"
    }
   ],
   "source": [
    "import pandas as pd\n",
    "df = pd.read_csv('GRAPH_DOCU_2503.csv', low_memory=False)\n",
    "df.head(3)"
   ]
  },
  {
   "cell_type": "markdown",
   "id": "23084bc8-3cf0-4d36-8e3f-d41af4eab6bb",
   "metadata": {},
   "source": [
    "### Connection to the HANA Vector store\n",
    "\n",
    "Execute the following python code to create a connection to the HANA Vector storage."
   ]
  },
  {
   "cell_type": "code",
   "execution_count": null,
   "id": "52a28088-2f62-4af1-8080-68c36c476575",
   "metadata": {},
   "outputs": [],
   "source": [
    "from hana_ml import ConnectionContext\n",
    "\n",
    "# cc = ConnectionContext(userkey='VDB_BETA', encrypt=True)\n",
    "cc= ConnectionContext(\n",
    "    address='<address>',\n",
    "    port='<port-number>',\n",
    "    user='<username>',\n",
    "    password='<password>',\n",
    "    encrypt=True\n",
    "    )\n",
    "print(cc.hana_version())\n",
    "print(cc.get_current_schema())"
   ]
  },
  {
   "cell_type": "markdown",
   "id": "4e880f9e-832d-49c6-8e89-071dac9ccb81",
   "metadata": {},
   "source": [
    "### Creating a table\n",
    "\n",
    "To create a table, execute the following python command."
   ]
  },
  {
   "cell_type": "code",
   "execution_count": null,
   "id": "b6fc06ce-790a-41dc-bca9-81f3c448cf80",
   "metadata": {},
   "outputs": [],
   "source": [
    "# Create a table\n",
    "cursor = cc.connection.cursor()\n",
    "sql_command = '''CREATE TABLE GRAPH_DOCU_QRC3_2201(ID BIGINT, L1 NVARCHAR(3), L2 NVARCHAR(3), L3 NVARCHAR(3), FILENAME NVARCHAR(100), HEADER1 NVARCHAR(5000), HEADER2 NVARCHAR(5000), TEXT NCLOB, VECTOR_STR NCLOB);'''\n",
    "cursor.execute(sql_command)\n",
    "cursor.close()"
   ]
  },
  {
   "cell_type": "markdown",
   "id": "d99b90cf-cae2-4f74-ba37-0d9f5df6275c",
   "metadata": {},
   "source": [
    "### Uploading the data to the database\r\n",
    "\r\n",
    "Execute the following code to upload the data to the database."
   ]
  },
  {
   "cell_type": "code",
   "execution_count": null,
   "id": "7e5f0d9d-335d-410d-9c0a-455ac3cf7ea5",
   "metadata": {},
   "outputs": [],
   "source": [
    "from hana_ml.dataframe import create_dataframe_from_pandas\n",
    "v_hdf = create_dataframe_from_pandas(\n",
    "    connection_context=cc,\n",
    "    pandas_df=df,\n",
    "    table_name=\"GRAPH_DOCU_QRC3_2201\", \n",
    "    allow_bigint=True,\n",
    "    append=True\n",
    "    )"
   ]
  },
  {
   "cell_type": "markdown",
   "id": "b4872a5a-a233-4e5d-b1d5-741ff43aee08",
   "metadata": {},
   "source": [
    "### Creating a VECTOR column\r\n",
    "\r\n",
    "Add a new column ```VECTOR``` to the table to store the vectors. Execute the following python code.e."
   ]
  },
  {
   "cell_type": "code",
   "execution_count": null,
   "id": "2aba5359-4146-4595-ab66-3cf6ea0e46cb",
   "metadata": {},
   "outputs": [],
   "source": [
    "# Add REAL_VECTOR column\n",
    "cursor = cc.connection.cursor()\n",
    "sql_command = '''ALTER TABLE GRAPH_DOCU_QRC3_2201 ADD (VECTOR REAL_VECTOR(1536));'''\n",
    "cursor.execute(sql_command)\n",
    "cursor.close()"
   ]
  },
  {
   "cell_type": "markdown",
   "id": "78f557f2-60d5-4dc9-8b95-d3c1dc77e76d",
   "metadata": {},
   "source": [
    "### Creating vectors from strings\n",
    "\n",
    "The vectors for the strings can be created using the ```TO_REAL_VECTOR()``` constructor. Execute the following code to update the VECTOR column with the vectors.\n"
   ]
  },
  {
   "cell_type": "code",
   "execution_count": null,
   "id": "125c408a-bd0b-40bf-9a65-689002f47980",
   "metadata": {},
   "outputs": [],
   "source": [
    "# Create vectors from strings\n",
    "cursor = cc.connection.cursor()\n",
    "sql_command = '''UPDATE GRAPH_DOCU_QRC3_2201 SET VECTOR = TO_REAL_VECTOR(VECTOR_STR);'''\n",
    "cursor.execute(sql_command)\n",
    "cursor.close()"
   ]
  },
  {
   "cell_type": "markdown",
   "id": "f6df3e54-14da-43f9-9d6e-26b991f54f8a",
   "metadata": {},
   "source": [
    "### Setting up hana_ml and generative-ai-hub-sdk\n",
    "\n",
    "Import the ```hana_ml``` and ```generative-ai-hub-sdk``` packages. Set the proxy version of generative-ai-hub-sdk to ```gen-ai-hub``` for an AI Core proxy.\n",
    "\n",
    "Execute the following python code."
   ]
  },
  {
   "cell_type": "code",
   "execution_count": null,
   "id": "25ab6659-e30f-44bd-aaff-4671012a4934",
   "metadata": {},
   "outputs": [],
   "source": [
    "import hana_ml\n",
    "print(hana_ml.__version__)\n",
    "\n",
    "from gen_ai_hub.proxy.core.proxy_clients import get_proxy_client\n",
    "proxy_client = get_proxy_client('gen-ai-hub') # for an AI Core proxy"
   ]
  },
  {
   "cell_type": "markdown",
   "id": "42c8e34b-d9bf-4c87-b754-736c55f24775",
   "metadata": {},
   "source": [
    "\n",
    "\n",
    "### Get Embeddings\n",
    "\n",
    "Define the function ```get_embedding()``` to generate embeddings for our input texts. Execute the following python code."
   ]
  },
  {
   "cell_type": "code",
   "execution_count": null,
   "id": "dffc30bb-ab96-4a64-87a0-b11de42eab58",
   "metadata": {},
   "outputs": [],
   "source": [
    "# Get embeddings\n",
    "from gen_ai_hub.proxy.native.openai import embeddings\n",
    "\n",
    "def get_embedding(input, model=\"text-embedding-ada-002\") -> str:\n",
    "    response = embeddings.create(\n",
    "      model_name=model,\n",
    "      input=input\n",
    "    )\n",
    "    return response.data[0].embedding"
   ]
  },
  {
   "cell_type": "markdown",
   "id": "8ea6f493-9d80-44b1-a472-d76d231d17c1",
   "metadata": {},
   "source": [
    "### Running vector search\n",
    "\n",
    "Define a function ```run_vector_search()```. This function will search the vector database and finds the rows which are most similar to a given query.\n",
    "\n",
    "Execute the following python code"
   ]
  },
  {
   "cell_type": "code",
   "execution_count": null,
   "id": "0122ab72-adff-4acc-8f60-30bc57b4ca2e",
   "metadata": {},
   "outputs": [],
   "source": [
    "def run_vector_search(query: str, metric=\"COSINE_SIMILARITY\", k=4):\n",
    "    if metric == 'L2DISTANCE':\n",
    "        sort = 'ASC'\n",
    "    else:\n",
    "        sort = 'DESC'\n",
    "    query_vector = get_embedding(query)\n",
    "    sql = '''SELECT TOP {k} \"ID\", \"HEADER1\", \"HEADER2\", \"TEXT\"\n",
    "        FROM \"GRAPH_DOCU_QRC3\"\n",
    "        ORDER BY \"{metric}\"(\"VECTOR\", TO_REAL_VECTOR('{qv}')) {sort}'''.format(k=k, metric=metric, qv=query_vector, sort=sort)\n",
    "    hdf = cc.sql(sql)\n",
    "    df_context = hdf.head(k).collect()\n",
    "    return df_context"
   ]
  },
  {
   "cell_type": "markdown",
   "id": "680cb815-10b2-452d-b5b0-6bb4fcb7a727",
   "metadata": {},
   "source": [
    "Now we can test the function by sending a query. The function prints the rows that are most similar to the queries."
   ]
  },
  {
   "cell_type": "code",
   "execution_count": null,
   "id": "5f4f8f7d-829f-4961-8dbb-4c06bdc9c9fb",
   "metadata": {},
   "outputs": [],
   "source": [
    "query = \"How can I run a shortest path algorithm?\"\n",
    "df_context = run_vector_search(query=query, metric=\"COSINE_SIMILARITY\",k=4)\n",
    "df_context"
   ]
  },
  {
   "cell_type": "markdown",
   "id": "055e420d-cf2e-475f-aa9f-9bdf64687ed7",
   "metadata": {},
   "source": [
    "### Creating a prompt template\n",
    "\n",
    "Create a prompt template to do retrieval augmented generation on your prompts. Execute the following python code.\n"
   ]
  },
  {
   "cell_type": "code",
   "execution_count": null,
   "id": "cade5d18-9c78-47d2-bf8d-ce339b049991",
   "metadata": {},
   "outputs": [],
   "source": [
    "# Prompt. Do also use your knowledge from outside the given context.\n",
    "promptTemplate_fstring = \"\"\"\n",
    "You are an SAP HANA Cloud expert.\n",
    "You are provided multiple context items that are related to the prompt you have to answer.\n",
    "Use the following pieces of context to answer the question at the end. \n",
    "Context:\n",
    "{context}\n",
    "Question:\n",
    "{query}\n",
    "\"\"\"\n",
    "from langchain.prompts import PromptTemplate\n",
    "promptTemplate = PromptTemplate.from_template(promptTemplate_fstring)"
   ]
  },
  {
   "cell_type": "markdown",
   "id": "f564a020-f199-45ba-8bef-de4ace4d9272",
   "metadata": {},
   "source": [
    "### Querying the LLM\n",
    "\n",
    "Now create a function ```ask_llm()``` to query the LLM while using the similar vectors as context. Execute the following python code."
   ]
  },
  {
   "cell_type": "code",
   "execution_count": null,
   "id": "89746cd2-00e5-4ef3-9059-54429b2a1147",
   "metadata": {},
   "outputs": [],
   "source": [
    "from gen_ai_hub.proxy.langchain.openai import ChatOpenAI\n",
    "from gen_ai_hub.proxy.core.proxy_clients import get_proxy_client\n",
    "proxy_client = get_proxy_client('gen-ai-hub') # for an AI Core proxy\n",
    "\n",
    "def ask_llm(query: str, retrieval_augmented_generation: bool, metric='COSINE_SIMILARITY', k = 4) -> str:\n",
    "\n",
    "    class color:\n",
    "        RED = '\\033[91m'\n",
    "        BLUE = '\\033[94m'\n",
    "        BOLD = '\\033[1m'\n",
    "        END = '\\033[0m'\n",
    "    context = ''\n",
    "    if retrieval_augmented_generation == True:\n",
    "        print(color.RED + 'Running retrieval augmented generation.' + color.END)\n",
    "        print(color.RED + '\\nEmbedding the query string and running HANA vector search.' + color.END)\n",
    "        context = run_vector_search(query, metric, k)\n",
    "        print(color.RED + '\\nHANA vector search returned {k} best matching documents.'.format(k=k) + color.END)\n",
    "        print(color.RED + '\\nGenerating LLM prompt using the context information.' + color.END)\n",
    "    else:\n",
    "        print(color.RED + 'Generating LLM prompt WITHOUT context information.' + color.END)\n",
    "    prompt = promptTemplate.format(query=query, context=' '.join(df_context['TEXT'].astype('string')))\n",
    "    print(color.RED + '\\nAsking LLM...' + color.END)\n",
    "    llm = ChatOpenAI(proxy_model_name='gpt-4', proxy_client=proxy_client)\n",
    "    response = llm.invoke(prompt).content\n",
    "    print(color.RED + '...completed.' + color.END)\n",
    "    print(color.RED + '\\nQuery: ' + color.END, query)\n",
    "    print(color.BLUE + '\\nResponse:' + color.BLUE)\n",
    "    print(response)"
   ]
  },
  {
   "cell_type": "markdown",
   "id": "d7971065-6d32-4ccb-b7f3-64d2755ee1b0",
   "metadata": {},
   "source": [
    "Now you can test the function using a query. Run the following python code."
   ]
  },
  {
   "cell_type": "code",
   "execution_count": null,
   "id": "2142d382-4995-4132-ad04-40d8230a8b8a",
   "metadata": {},
   "outputs": [],
   "source": [
    "query = \"I want to calculate a shortest path. How do I do that?\"\n",
    "\n",
    "response = ask_llm(query=query, retrieval_augmented_generation=True, k=4)"
   ]
  },
  {
   "cell_type": "markdown",
   "id": "fdc5b1a9-28fb-475a-8969-17cbbc0393a8",
   "metadata": {},
   "source": [
    "# Using insert methods to write directly into the table"
   ]
  },
  {
   "cell_type": "markdown",
   "id": "823d5e73-0d2e-4036-a08e-43f3d04eb705",
   "metadata": {},
   "source": [
    "### Extracting data from csv file"
   ]
  },
  {
   "cell_type": "markdown",
   "id": "dc9fc1c4-9c7e-4d86-a13e-b1ac9b7fa862",
   "metadata": {},
   "source": [
    "Execute the following code to extract data from the csv file and store it in a list"
   ]
  },
  {
   "cell_type": "code",
   "execution_count": 10,
   "id": "f34152a0-f8b4-419f-bdd6-6d5237b130dc",
   "metadata": {},
   "outputs": [],
   "source": [
    "import csv\n",
    "\n",
    "data = []\n",
    "with open('GRAPH_DOCU_2503.csv', encoding='utf-8') as csvfile:\n",
    "    csv_reader = csv.reader(csvfile)\n",
    "    for row in csv_reader:\n",
    "        try:\n",
    "            data.append(row)\n",
    "        except:\n",
    "            print(row)"
   ]
  },
  {
   "cell_type": "markdown",
   "id": "f307dc9b-625a-47cf-8b79-bc4cf4e19b97",
   "metadata": {},
   "source": [
    "### Create a connection to hana_ml using dbapi"
   ]
  },
  {
   "cell_type": "code",
   "execution_count": 40,
   "id": "d41aaeb4-10ed-4bc9-a0cf-4beec30bc64b",
   "metadata": {},
   "outputs": [],
   "source": [
    "\n",
    "import hdbcli\n",
    "from hdbcli import dbapi\n",
    "\n",
    "cc = dbapi.connect(\n",
    "    address='<address>',\n",
    "    port='<port-number>',\n",
    "    user='<username>',\n",
    "    password='<password>',\n",
    "    encrypt=True\n",
    "    )\n"
   ]
  },
  {
   "cell_type": "markdown",
   "id": "8ba4b0d0-0744-4279-b8d4-cb2a1ccf0673",
   "metadata": {},
   "source": [
    "### Creating a table\n",
    "\n",
    "To create a table, execute the following python command."
   ]
  },
  {
   "cell_type": "code",
   "execution_count": 44,
   "id": "e39f2495-d383-4f0d-8693-156650da8283",
   "metadata": {},
   "outputs": [],
   "source": [
    "# Create a table\n",
    "cursor = cc.cursor()\n",
    "sql_command = '''CREATE TABLE TABLE10044(ID1 BIGINT, ID2 BIGINT, L1 NVARCHAR(3), L2 NVARCHAR(3), L3 NVARCHAR(3), FILENAME NVARCHAR(100), HEADER1 NVARCHAR(5000), HEADER2 NVARCHAR(5000), TEXT NCLOB, VECTOR_STR REAL_VECTOR);'''\n",
    "cursor.execute(sql_command)\n",
    "cursor.close()"
   ]
  },
  {
   "cell_type": "markdown",
   "id": "0e10c43f-573f-48c4-99d8-bdb9788014c1",
   "metadata": {},
   "source": [
    "Now we insert our data into the table we created"
   ]
  },
  {
   "cell_type": "code",
   "execution_count": 45,
   "id": "9cdccbc4-0306-4330-a784-51d1a993246b",
   "metadata": {},
   "outputs": [
    {
     "data": {
      "text/plain": [
       "(1,\n",
       " 1,\n",
       " 1,\n",
       " 1,\n",
       " 1,\n",
       " 1,\n",
       " 1,\n",
       " 1,\n",
       " 1,\n",
       " 1,\n",
       " 1,\n",
       " 1,\n",
       " 1,\n",
       " 1,\n",
       " 1,\n",
       " 1,\n",
       " 1,\n",
       " 1,\n",
       " 1,\n",
       " 1,\n",
       " 1,\n",
       " 1,\n",
       " 1,\n",
       " 1,\n",
       " 1,\n",
       " 1,\n",
       " 1,\n",
       " 1,\n",
       " 1,\n",
       " 1,\n",
       " 1,\n",
       " 1,\n",
       " 1,\n",
       " 1,\n",
       " 1,\n",
       " 1,\n",
       " 1,\n",
       " 1,\n",
       " 1,\n",
       " 1,\n",
       " 1,\n",
       " 1,\n",
       " 1,\n",
       " 1,\n",
       " 1,\n",
       " 1,\n",
       " 1,\n",
       " 1,\n",
       " 1,\n",
       " 1,\n",
       " 1,\n",
       " 1,\n",
       " 1,\n",
       " 1,\n",
       " 1,\n",
       " 1,\n",
       " 1,\n",
       " 1,\n",
       " 1,\n",
       " 1,\n",
       " 1,\n",
       " 1,\n",
       " 1,\n",
       " 1,\n",
       " 1,\n",
       " 1,\n",
       " 1,\n",
       " 1,\n",
       " 1,\n",
       " 1,\n",
       " 1,\n",
       " 1,\n",
       " 1,\n",
       " 1,\n",
       " 1,\n",
       " 1,\n",
       " 1,\n",
       " 1,\n",
       " 1,\n",
       " 1,\n",
       " 1,\n",
       " 1,\n",
       " 1,\n",
       " 1,\n",
       " 1,\n",
       " 1,\n",
       " 1,\n",
       " 1,\n",
       " 1,\n",
       " 1,\n",
       " 1,\n",
       " 1,\n",
       " 1,\n",
       " 1,\n",
       " 1,\n",
       " 1,\n",
       " 1,\n",
       " 1,\n",
       " 1,\n",
       " 1,\n",
       " 1,\n",
       " 1,\n",
       " 1,\n",
       " 1,\n",
       " 1,\n",
       " 1,\n",
       " 1,\n",
       " 1,\n",
       " 1,\n",
       " 1,\n",
       " 1,\n",
       " 1,\n",
       " 1,\n",
       " 1,\n",
       " 1,\n",
       " 1,\n",
       " 1,\n",
       " 1,\n",
       " 1,\n",
       " 1,\n",
       " 1,\n",
       " 1,\n",
       " 1,\n",
       " 1,\n",
       " 1,\n",
       " 1,\n",
       " 1,\n",
       " 1,\n",
       " 1,\n",
       " 1,\n",
       " 1,\n",
       " 1,\n",
       " 1,\n",
       " 1,\n",
       " 1,\n",
       " 1,\n",
       " 1,\n",
       " 1,\n",
       " 1,\n",
       " 1,\n",
       " 1,\n",
       " 1,\n",
       " 1,\n",
       " 1,\n",
       " 1,\n",
       " 1,\n",
       " 1,\n",
       " 1,\n",
       " 1,\n",
       " 1,\n",
       " 1,\n",
       " 1,\n",
       " 1,\n",
       " 1,\n",
       " 1,\n",
       " 1,\n",
       " 1,\n",
       " 1,\n",
       " 1,\n",
       " 1,\n",
       " 1,\n",
       " 1,\n",
       " 1,\n",
       " 1,\n",
       " 1,\n",
       " 1,\n",
       " 1,\n",
       " 1,\n",
       " 1,\n",
       " 1,\n",
       " 1,\n",
       " 1,\n",
       " 1,\n",
       " 1,\n",
       " 1,\n",
       " 1,\n",
       " 1,\n",
       " 1,\n",
       " 1,\n",
       " 1,\n",
       " 1,\n",
       " 1,\n",
       " 1,\n",
       " 1,\n",
       " 1,\n",
       " 1,\n",
       " 1,\n",
       " 1,\n",
       " 1,\n",
       " 1,\n",
       " 1,\n",
       " 1,\n",
       " 1,\n",
       " 1,\n",
       " 1,\n",
       " 1,\n",
       " 1,\n",
       " 1,\n",
       " 1,\n",
       " 1,\n",
       " 1,\n",
       " 1,\n",
       " 1,\n",
       " 1,\n",
       " 1,\n",
       " 1,\n",
       " 1,\n",
       " 1,\n",
       " 1,\n",
       " 1,\n",
       " 1,\n",
       " 1,\n",
       " 1,\n",
       " 1,\n",
       " 1,\n",
       " 1,\n",
       " 1,\n",
       " 1,\n",
       " 1,\n",
       " 1,\n",
       " 1,\n",
       " 1,\n",
       " 1,\n",
       " 1,\n",
       " 1,\n",
       " 1,\n",
       " 1,\n",
       " 1,\n",
       " 1,\n",
       " 1,\n",
       " 1,\n",
       " 1,\n",
       " 1,\n",
       " 1,\n",
       " 1,\n",
       " 1,\n",
       " 1,\n",
       " 1,\n",
       " 1,\n",
       " 1,\n",
       " 1,\n",
       " 1,\n",
       " 1,\n",
       " 1,\n",
       " 1,\n",
       " 1,\n",
       " 1,\n",
       " 1,\n",
       " 1,\n",
       " 1,\n",
       " 1,\n",
       " 1,\n",
       " 1,\n",
       " 1,\n",
       " 1,\n",
       " 1,\n",
       " 1,\n",
       " 1,\n",
       " 1,\n",
       " 1,\n",
       " 1,\n",
       " 1)"
      ]
     },
     "execution_count": 45,
     "metadata": {},
     "output_type": "execute_result"
    }
   ],
   "source": [
    "cursor = cc.cursor()\n",
    "sql_insert = 'INSERT INTO TABLE10044(ID1, ID2, L1, L2, L3, FILENAME, HEADER1, HEADER2, TEXT, VECTOR_STR) VALUES (?,?,?,?,?,?,?,?,?,TO_REAL_VECTOR(?))'\n",
    "cursor.executemany(sql_insert,data[1:])"
   ]
  },
  {
   "cell_type": "markdown",
   "id": "993c56bf-2b9a-446c-a069-832e01501a9e",
   "metadata": {},
   "source": [
    "### Modifying the run_vector_search function\n",
    "\n",
    "We can modify the run_vector_search function to make use of the VECTOR_STR column for similarity search"
   ]
  },
  {
   "cell_type": "code",
   "execution_count": 68,
   "id": "71581722-a4ca-4030-9ae3-5446d96f5ab6",
   "metadata": {},
   "outputs": [],
   "source": [
    "\n",
    "cursor = cc.cursor()\n",
    "def run_vector_search(query: str, metric=\"COSINE_SIMILARITY\", k=4):\n",
    "    if metric == 'L2DISTANCE':\n",
    "        sort = 'ASC'\n",
    "    else:\n",
    "        sort = 'DESC'\n",
    "    query_vector = get_embedding(query)\n",
    "    sql = '''SELECT TOP {k} \"ID2\", \"TEXT\"\n",
    "        FROM \"TABLE10043\"\n",
    "        ORDER BY \"{metric}\"(\"VECTOR_STR\", TO_REAL_VECTOR('{qv}')) {sort}'''.format(k=k, metric=metric, qv=query_vector, sort=sort)\n",
    "    cursor.execute(sql)\n",
    "    hdf = cursor.fetchall()\n",
    "    return hdf[:k]"
   ]
  },
  {
   "cell_type": "code",
   "execution_count": 69,
   "id": "ba60f5a6-dc2f-469c-b663-5394a50fac6a",
   "metadata": {},
   "outputs": [
    {
     "data": {
      "text/plain": [
       "[(211, 'Complex GraphScript Examples', 'GraphScript Procedure Example', 'The following example depicts a more complex example of a GraphScript procedure.\\nIt uses the Open Flights data set and computes the shortest path one-to-one between the airports of\\nPhiladelphia and Jinan.  \\n```sql\\nCREATE TYPE \"FLIGHTS\".\"TT_NODES_SPOO\" AS TABLE (\"NODE_KEY\" NVARCHAR(100));\\nCREATE TYPE \"FLIGHTS\".\"TT_EDGES_SPOO\" AS TABLE (\\n\"EDGE_KEY\" BIGINT, \"SOURCE\" NVARCHAR(100), \"TARGET\" NVARCHAR(100));  \\nCREATE OR REPLACE PROCEDURE \"FLIGHTS\".\"GS_SPOO\"(\\nIN i_startNode NVARCHAR(100),         -- the ID of the start node\\nIN i_endNode NVARCHAR(100),         -- the ID of the end node\\nOUT o_path_length BIGINT,    -- the hop distance between start and end\\nOUT o_path_weight DOUBLE,    -- the path weight/cost based on the WEIGHT attribute\\nOUT o_nodes \"FLIGHTS\".\"TT_NODES_SPOO\",\\nOUT o_edges \"FLIGHTS\".\"TT_EDGES_SPOO\"\\n)\\nLANGUAGE GRAPH READS SQL DATA AS\\nBEGIN\\n-- create an instance of the graph, referring to the graph workspace object\\nGRAPH g = GRAPH(\"FLIGHTS\", \"GRAPH\");\\nINTEGER quot = INTEGER(2.1);\\n-- create an instance of the start/end node\\nVERTEX v_start = Vertex(:g, :i_startNode);\\nVERTEX v_end = Vertex(:g, :i_endNode);\\n-- running shortest path using the WEIGHT column as cost\\nWeightedPath<DOUBLE> p_efrf = Shortest_Path(:g, :v_start, :v_end, (Edge e)\\n=> DOUBLE{ return :e.\"DIST_KM\"/800.0; });\\n-- project the results from the path\\no_path_length = LENGTH(:p_efrf);\\no_path_weight = WEIGHT(:p_efrf);\\no_nodes = SELECT :v.\"NODE_KEY\" FOREACH v IN Vertices(:p);\\no_edges = SELECT :e.\"EDGE_KEY\", :e.\"SOURCE\", :e.\"TARGET\" FOREACH e IN Edges(:p);\\nEND;  \\nCALL \"FLIGHTS\".\"GS_SPOO\"(\\ni_startNode => \\'PHL\\', i_endNode => \\'TNA\\',\\no_path_length => ?, o_path_weight => ?, o_nodes => ?, o_edges => ?);\\n```  \\nThe following example uses the Open Flights data set and computes the 3 shortest paths between\\nJinan and Philadelphia.  \\n```sql\\nCREATE TYPE \"FLIGHTS\".\"TT_PATHS_TKSP\" AS TABLE (\\n\"PATH_ID\" INT, \"PATH_LENGTH\" BIGINT, \"PATH_WEIGHT\" DOUBLE,\\n\"EDGE_KEY\" BIGINT, \"EDGE_ORDER\" INT);  \\nCREATE OR REPLACE PROCEDURE \"FLIGHTS\".\"GS_TKSP\"(\\nIN i_startNode NVARCHAR(100),         -- the ID of the start node\\nIN i_endNode NVARCHAR(100),         -- the ID of the end node\\nIN i_k INT,                 -- the number of paths to be returned\\nOUT o_paths \"FLIGHTS\".\"TT_PATHS_TKSP\"\\n)\\nLANGUAGE GRAPH READS SQL DATA AS\\nBEGIN\\n-- create an instance of the graph, referring to the graph workspace object\\nGRAPH g = Graph(\"FLIGHTS\", \"GRAPH\");\\n-- create an instance of the start/end node\\nVERTEX v_start = Vertex(:g, :i_startNode);\\nVERTEX v_end = Vertex(:g, :i_endNode);\\n-- running top k shortest paths using the WEIGHT column as cost\\nSEQUENCE<WeightedPath<DOUBLE>> s_paths = K_Shortest_Paths(\\n:g, :v_start, :v_end, :i_k, (Edge e) => DOUBLE{ return :e.\"DIST_KM\"; });\\n-- project result paths into a table\\nBIGINT currentResultRow = 1L;\\nFOREACH result_path IN (:s_paths) WITH ORDINALITY AS path_id {\\nFOREACH path_edge in EDGES(:result_path) WITH ORDINALITY AS edge_order {\\no_paths.\"PATH_ID\"[:currentResultRow] = INTEGER(:path_id);\\no_paths.\"PATH_LENGTH\"[:currentResultRow] = Length(:result_path);\\no_paths.\"PATH_WEIGHT\"[:currentResultRow] = Weight(:result_path);\\no_paths.\"EDGE_KEY\"[:currentResultRow] = :path_edge.\"EDGE_KEY\";\\no_paths.\"EDGE_ORDER\"[:currentResultRow] = INTEGER(:edge_order);\\ncurrentResultRow = :currentResultRow + 1L;\\n}\\n}\\nEND;  \\nCALL \"FLIGHTS\".\"GS_TKSP\"(i_startNode => \\'TNA\\', i_endNode => \\'PHL\\', i_k => 3, o_paths => ?);\\n```  \\n<!--! section id=\"section_anonymous_block_example\" -->'),\n",
       " (90, 'Graph Traversal Statements', \"Dijkstra's Algorithm (DIJKSTRA)\", 'DIJKSTRA searches for shortest paths in a weighted graph.\\nVertices are visited in ascending order of their shortest distance from the start vertex.\\nIn order to calculate the weight of each edge, a mandatory WITH WEIGHT clause must be provided.\\nThe following example stores the shortest distance of each visited vertex in a temporary vertex\\nattribute, similar to the built-in function SHORTEST\\\\_PATHS\\\\_ONE\\\\_TO\\\\_ALL.  \\n```graphscript\\nTRAVERSE DIJKSTRA :g FROM :startVertex\\nWITH WEIGHT (EDGE e) => DOUBLE {\\nreturn :e.\"weight\";\\n}\\nON VISIT VERTEX (VERTEX v, DOUBLE distance) {\\nv.\"distance\" = :distance;\\n};\\n```  \\nThe weight function defined by WITH WEIGHT calculates the weight of the edge e, which is passed as a\\nparameter and returns the weight value with a return statement.\\nIn the example, an edge attribute is directly used as the edge weight, but more complex calculations\\nare also possible.\\nThe data type of the weight must be specified after the parameter list, following an arrow.\\nSupported weight types are DOUBLE, INTEGER and BIGINT.  \\nThe vertex hook after ON VISIT VERTEX uses an optional second parameter after the visited vertex.\\nIt contains the accumulated weight of the shortest path from the start vertex to the visited vertex\\nand has the same data type as specified in the weight function.\\nThe next section describes in more detail the various signatures of the hook functions.  \\nThe start vertex has to be a single vertex.\\nDIJKSTRA supports the traversal directions OUTGOING, INCOMING, and ANY.\\nThe traversal direction is optionally passed as an argument to the DIJKSTRA specifier (e.g. TRAVERSE DIJKSTRA(\\'ANY\\') :g). The default value is OUTGOING.  \\nDIJKSTRA is currently the only algorithm to support the collection of walked paths.\\nThis enables the extraction of shortest paths from the start vertex to any visited vertex.\\nThe following example code illustrates how to search for the k-nearest neighbors on a weighted\\ngraph and extract the shortest path to each neighbor.\\nThe example searches for the three closest gas stations.  \\n```graphscript\\nMAP<VERTEX,DOUBLE> stations(:g, 1024L);\\n-- declare result variable\\nTRAVERSERESULT<DOUBLE> shortest_path_tree(:g);  \\nTRAVERSE DIJKSTRA :g FROM :startVertex\\nWITH RESULT :shortest_path_tree -- pass to traversal\\nWITH WEIGHT (EDGE e) => DOUBLE {\\nreturn :e.\"weight\";\\n}\\nON VISIT VERTEX (VERTEX v, DOUBLE distance) {\\nif (:v.\"TYPE\" == \\'Gas station\\') {\\nstations[:v] = :distance;\\nif (Count(:stations) == 3L) { -- end traversal when three found\\nEND TRAVERSE ALL;\\n}\\n}\\n};  \\nFOREACH (station,distance) IN :stations {\\n-- extract path from start vertex to each gas station\\nWEIGHTEDPATH<DOUBLE> p = GET_PATH(:shortest_path_tree, :station);\\n...\\n}\\n```  \\nFirst, a variable of type TRAVERSERESULT must be declared before the TRAVERSE DIJKSTRA statement.\\nNote that it must use the same weight type as TRAVERSE DIJKSTRA.\\nNext, the variable is passed to TRAVERSE by using the WITH RESULT clause.\\nFinally, shortest paths to any visited vertex can be constructed after the TRAVERSE statement by\\ncalling the GET\\\\_PATH built-in function with the result variable and the destination vertex.'),\n",
       " (83, 'Built-In Graph Algorithms', 'Shortest Path', '```bnf\\n<sssp_function> ::= SHORTEST_PATH \\'(\\' <parent_graph_variable>,\\n<source_vertex>, <target_vertex> [ , <clos_expr> ] [ , <edge_direction> ] \\')\\'  \\n<parent_graph_variable> ::= <variable_reference>\\n<start_vertex> ::= <expr>\\n<target_vertex> ::= <expr>\\n<edge_direction> ::= <expr>\\n```  \\nReturns a [WEIGHTEDPATH](loio5fd3b8657aec4382b4642780c80940d0) instance containing a shortest path within the given parent graph (first\\nparameter) from a start vertex (second parameter) to a target vertex (third parameter).\\nIf no path exists from the source vertex to the target vertex, an empty path is returned.\\nYou can use the IS_EMPTY() built-in function to check whether the path is empty.  \\nBy default,the weight metric of the SHORTEST_PATH built-in function is the hop distance, but it’s also\\npossible to supply a custom weight function as a closure expression (optional fourth parameter).  \\nThe weight function takes an edge, current weight distance, and hop distance as parameters and\\nreturns a value of a numerical type: INTEGER, BIGINT, or DOUBLE. Some of the allowed weight\\nfunction declaration examples are: `(EDGE e)`, `(EDGE e, INTEGER w)`,`(EDGE e, BIGINT w, BIGINT h)`.\\nThe last two parameters are optional. When specified, the second parameter will be considered as the\\nweight distance and the third parameter will be considered as the hop distance. `w` can be an\\nINTEGER, BIGINT or DOUBLE, and `h` should always be a BIGINT. Using these parameters, bound\\nconditions can be implemented using IF, ELSE or WHILE clauses. The algorithm passes the weight\\ndistance and hop distance values until the previous edge, to the current edge. The path traversal\\ncan be terminated using END TRAVERSE, though END TRAVERSE ALL isn’t allowed. When END TRAVERSE is\\nreached, the algorithm ignores the current edge, but doesn\\'t stop evaluating the other\\npossibilities. The return type of weight function must match the WEIGHTEDPATH weight type.  \\nInside of a weight function it is also possible access variables declared outside of it.\\nThis is useful for example to dynamically configure the maximum upper bound for a traversal.\\nSee the example \"Cheapest path that is below $500\" below.  \\nThe edge direction is an optional string parameter to control how the SHORTEST_PATH function treats\\nthe direction of edges in the given input graph. Three values are possible: \\'OUTGOING\\', \\'INCOMING\\',\\nand \\'ANY\\'. \\'OUTGOING\\' is the default and specifies that the edges\\' direction is treated exactly as\\ngiven in the input graph. \\'INCOMING\\' means the edges\\' direction is considered reversed during\\nSHORTEST_PATH search. This is like running SHORTEST_PATH on the inverse input graph. \\'ANY\\' specifies\\nthat SHORTEST_PATH ignores the edge direction and works like it’s running on an undirected graph.  \\n<!--! subsection -->\\n### Examples  \\nThe following example demonstrates the usage of the SHORTEST_PATH function.\\nFor a more in-depth explanation of the semantics for temporary attributes of vertices and edges in a\\npath, see the previous subgraph example.  \\n```graphscript\\nGRAPH g = GRAPH(\"FLIGHTS\", \"GRAPH\")\\nWITH TEMPORARY ATTRIBUTES(VERTEX INTEGER vertexAttr = 0, EDGE INTEGER edgeAttr = 42);\\nVERTEX v_source(:g, \\'FRA\\');\\nVERTEX v_target(:g, \\'JFK\\');\\nWEIGHTEDPATH<BIGINT> p = SHORTEST_PATH(:g, :v_source, :v_target);  \\nSEQUENCE<VERTEX> sv = VERTICES(:p);\\nSEQUENCE<EDGE> se = EDGES(:p);  \\nBIGINT lengthOfP = LENGTH(:p);\\nBIGINT weightOfP = WEIGHT(:p);  \\n-- Get first edge of path\\nEDGE e = :se[1L];\\n-- read edge attribute value --> 42\\nINTEGER edgeAttrValue = :e.edgeAttr;\\n```  \\nThe following example demonstrates the use of custom weight functions of various types.\\nThe first path is constructed using a weight function depending on a temporary edge attribute, the\\nsecond based on a constant, and the third one based on a non-temporary edge attribute.  \\n```graphscript\\nGRAPH g = GRAPH(\"FLIGHTS\", \"GRAPH\")\\nWITH TEMPORARY ATTRIBUTES(EDGE INTEGER price = 1);\\nVERTEX v_source(:g, \\'FRA\\');\\nVERTEX v_target(:g, \\'JFK\\');\\nWEIGHTEDPATH<INTEGER> cheapest_path = SHORTEST_PATH(\\n:g, :v_source, :v_target, (EDGE e)=> INTEGER{ RETURN :e.price; });\\nWEIGHTEDPATH<BIGINT> least_stopovers = SHORTEST_PATH(\\n:g, :v_source, :v_target, (EDGE e) => BIGINT{ RETURN 1L; });\\nWEIGHTEDPATH<DOUBLE> shortest = SHORTEST_PATH(\\n:g, :v_source, :v_target, (EDGE e) => DOUBLE{ RETURN :e.\"DIST_KM\"; });\\n```  \\nThe following example demonstrates the use of weight distance bound inside a weight function. The IF\\nclause adds the bound conditions and returns the cheapest path that is below $500.  \\n```graphscript\\nGRAPH g = GRAPH(\"FLIGHTS\", \"GRAPH\");\\nVERTEX v_source(:g, \\'FRA\\');\\nVERTEX v_target(:g, \\'JFK\\');\\nINTEGER  maximal_price = 500;\\nWEIGHTEDPATH<INTEGER> cheapest_path = SHORTEST_PATH(\\n:g, :v_source, :v_target, (EDGE e, INTEGER w)=>\\nINTEGER{ IF(:w + :e.price < :maximal_price) {return :e.price;}\\nELSE {END TRAVERSE;}});\\n```  \\nThe following example demonstrates the use of both weight distance and hop distance bound inside a\\nweight function. The IF clause adds the bounds conditions and returns the path that is below $500\\nand stopovers are less than 2.  \\n```graphscript\\nGRAPH g = GRAPH(\"FLIGHTS\", \"GRAPH\");\\nVERTEX v_source(:g, \\'FRA\\');\\nVERTEX v_target(:g, \\'JFK\\');\\nWEIGHTEDPATH<INTEGER> cheapest_and_shortest_path = SHORTEST_PATH(\\n:g, :v_source, :v_target, (EDGE e, INTEGER w, BIGINT h)=>\\nINTEGER{ IF(:w + :e.price < 500 AND :h + 1L < 2L) {return :e.price;}\\nELSE {END TRAVERSE;}});\\n```  \\nThe following example demonstrates how to use the edge direction parameter to let the SHORTEST_PATH\\nfunction work as if it was operating on a graph with undirected edges.  \\n```graphscript\\nGRAPH g = GRAPH(\"FLIGHTS\", \"GRAPH\");\\nVERTEX v_source(:g, \\'FRA\\');\\nVERTEX v_target(:g, \\'JFK\\');\\nWEIGHTEDPATH<BIGINT> p = SHORTEST_PATH(:g, :v_source, :v_target, \\'ANY\\');\\n```  \\n<!--! section -->'),\n",
       " (65, 'Basic Weighted Path Operations', '(Constructors)', 'WEIGHTEDPATH objects can’t be constructed directly but are the result of several built-in graph\\nalgorithms.  \\n<!--! section -->')]"
      ]
     },
     "execution_count": 69,
     "metadata": {},
     "output_type": "execute_result"
    }
   ],
   "source": [
    "query = \"How can I run a shortest path algorithm?\"\n",
    "df_context = run_vector_search(query=query, metric=\"COSINE_SIMILARITY\",k=4)\n",
    "df_context"
   ]
  },
  {
   "cell_type": "markdown",
   "id": "5883dc18-2cb0-42e0-8e6a-765f55264b79",
   "metadata": {},
   "source": [
    "### Querying the LLM\n",
    "\n",
    "Now create a function ```ask_llm()``` to query the LLM while using the similar vectors as context. Execute the following python code."
   ]
  },
  {
   "cell_type": "code",
   "execution_count": 80,
   "id": "f2ae05f0-cd65-47e9-bba5-2bf20a7f5641",
   "metadata": {},
   "outputs": [],
   "source": [
    "from gen_ai_hub.proxy.langchain.openai import ChatOpenAI\n",
    "from gen_ai_hub.proxy.core.proxy_clients import get_proxy_client\n",
    "proxy_client = get_proxy_client('gen-ai-hub') # for an AI Core proxy\n",
    "\n",
    "def ask_llm(query: str, retrieval_augmented_generation: bool, metric='COSINE_SIMILARITY', k = 4) -> str:\n",
    "\n",
    "    class color:\n",
    "        RED = '\\033[91m'\n",
    "        BLUE = '\\033[94m'\n",
    "        BOLD = '\\033[1m'\n",
    "        END = '\\033[0m'\n",
    "    context = ''\n",
    "    if retrieval_augmented_generation == True:\n",
    "        print(color.RED + 'Running retrieval augmented generation.' + color.END)\n",
    "        print(color.RED + '\\nEmbedding the query string and running HANA vector search.' + color.END)\n",
    "        context = run_vector_search(query, metric, k)\n",
    "        print(color.RED + '\\nHANA vector search returned {k} best matching documents.'.format(k=k) + color.END)\n",
    "        print(color.RED + '\\nGenerating LLM prompt using the context information.' + color.END)\n",
    "    else:\n",
    "        print(color.RED + 'Generating LLM prompt WITHOUT context information.' + color.END)\n",
    "    df_context = run_vector_search(query=query, metric=\"COSINE_SIMILARITY\",k=1)\n",
    "    prompt = promptTemplate.format(query=query, context=' '.join(str(df_context)))\n",
    "    print(color.RED + '\\nAsking LLM...' + color.END)\n",
    "    llm = ChatOpenAI(proxy_model_name='gpt-4', proxy_client=proxy_client)\n",
    "    response = llm.invoke(prompt).content\n",
    "    print(color.RED + '...completed.' + color.END)\n",
    "    print(color.RED + '\\nQuery: ' + color.END, query)\n",
    "    print(color.BLUE + '\\nResponse:' + color.BLUE)\n",
    "    print(response)"
   ]
  },
  {
   "cell_type": "markdown",
   "id": "f425b79c-e9d5-404d-bcb5-705462c06e19",
   "metadata": {},
   "source": [
    "Now you can test the function using a query. Run the following python code."
   ]
  },
  {
   "cell_type": "code",
   "execution_count": 81,
   "id": "4c7cc358-f5bc-47a4-a385-e023840a3b3f",
   "metadata": {},
   "outputs": [
    {
     "name": "stdout",
     "output_type": "stream",
     "text": [
      "\u001b[91mRunning retrieval augmented generation.\u001b[0m\n",
      "\u001b[91m\n",
      "Embedding the query string and running HANA vector search.\u001b[0m\n",
      "\u001b[91m\n",
      "HANA vector search returned 4 best matching documents.\u001b[0m\n",
      "\u001b[91m\n",
      "Generating LLM prompt using the context information.\u001b[0m\n",
      "\u001b[91m\n",
      "Asking LLM...\u001b[0m\n",
      "\u001b[91m...completed.\u001b[0m\n",
      "\u001b[91m\n",
      "Query: \u001b[0m I want to calculate a shortest path. How do I do that?\n",
      "\u001b[94m\n",
      "Response:\u001b[94m\n",
      "To calculate the shortest path in a weighted graph, you can use the Dijkstra's algorithm in SAP HANA Cloud. Here are the steps:\n",
      "\n",
      "1. Your graph traversal statement should use the Dijkstra's algorithm. The vertices will be visited in ascending order of their shortest distance from the start vertex.\n",
      "\n",
      "2. To calculate the weight of each edge, you need to provide a mandatory 'WITH WEIGHT' clause.\n",
      "\n",
      "Example:\n",
      "```graphscript\n",
      "TRAVERSE DIJKSTRA :g FROM :startVertex\n",
      "WITH WEIGHT (EDGE e) => DOUBLE {\n",
      "return :e.\"weight\";\n",
      "}\n",
      "ON VISIT VERTEX (VERTEX v, DOUBLE distance) {\n",
      "v.\"distance\" = :distance;\n",
      "};\n",
      "```\n",
      "\n",
      "3. In the weight function defined by 'WITH WEIGHT', the weight of the edge 'e' is calculated and returned. The data type of the weight must be specified after the parameter list, following an arrow. The supported weight types are DOUBLE, INTEGER, and BIGINT.\n",
      "\n",
      "4. The vertex hook after 'ON VISIT VERTEX' uses an optional second parameter after the visited vertex. It contains the accumulated weight of the shortest path from the start vertex to the visited vertex and has the same data type as specified in the weight function.\n",
      "\n",
      "5. The start vertex has to be a single vertex. Dijkstra's algorithm supports the traversal directions OUTGOING, INCOMING, and ANY. The traversal direction can be optionally passed as an argument to the Dijkstra specifier. The default value is OUTGOING.\n",
      "\n",
      "6. Dijkstra's algorithm is currently the only algorithm to support the collection of walked paths. This allows you to extract the shortest paths from the start vertex to any visited vertex.\n",
      "\n",
      "Please note, Dijkstra's algorithm is appropriate for finding shortest paths in graphs with non-negative edge weights. If your graph contains negative edge weights, you may need a different algorithm.\n"
     ]
    }
   ],
   "source": [
    "query = \"I want to calculate a shortest path. How do I do that?\"\n",
    "\n",
    "response = ask_llm(query=query, retrieval_augmented_generation=True, k=4)"
   ]
  }
 ],
 "metadata": {
  "kernelspec": {
   "display_name": "Python 3 (ipykernel)",
   "language": "python",
   "name": "python3"
  },
  "language_info": {
   "codemirror_mode": {
    "name": "ipython",
    "version": 3
   },
   "file_extension": ".py",
   "mimetype": "text/x-python",
   "name": "python",
   "nbconvert_exporter": "python",
   "pygments_lexer": "ipython3",
   "version": "3.11.6"
  }
 },
 "nbformat": 4,
 "nbformat_minor": 5
}
