{
 "cells": [
  {
   "cell_type": "markdown",
   "metadata": {
    "Collapsed": "false"
   },
   "source": [
    "# Set Up Computer Vision Package for SAP AI Core\n",
    "\n",
    "Set up Python and install computer vision package and its dependencies like PyTorch and Detectron2. Install the SAP AI Core SDK to interact with SAP AI Core using Python.\n",
    "\n",
    "> **Time**: 30 mins   \n",
    "> **Level**: `advanced`  \n",
    "> **Tags**: `sap ai core`, `artificial-intelligence`, `license`   \n",
    "\n",
    "\n",
    "\n",
    "---\n",
    "**You will learn:**\n",
    "- How to install Python packages for computer vision AI pipelines\n",
    "- How to execute Python code in Jupyter\n",
    "- How to connect to SAP AI Core using the SAP AI Core SDK\n"
   ]
  },
  {
   "cell_type": "markdown",
   "metadata": {
    "Collapsed": "false"
   },
   "source": [
    "---\n",
    "**Prerequisites:**\n",
    "  - You have completed the [Create Your First Machine Learning Project using SAP AI Core tutorial series](group.ai-core-get-started-basics)\n",
    "  - You have [provisioned SAP AI Core](https://help.sap.com/viewer/2d6c5984063c40a59eda62f4a9135bee/LATEST/en-US/38c4599432d74c1d94e70f7c955a717d.html)\n",
    "  - You have [set up your Git repository with SAP AI Core](https://help.sap.com/viewer/808d9d442fb0484e9b818924feeb9add/LATEST/en-US/3269092e37d141a293f0dbd7eaafc829.html).\n",
    "  - You have [created Docker registry secret in SAP AI Core](https://help.sap.com/viewer/2d6c5984063c40a59eda62f4a9135bee/LATEST/en-US/b29c7437a54f46f39c911052b05aabb1.html)\n",
    "  - You have [registered your object store secret in SAP AI Core](https://help.sap.com/docs/AI_CORE/2d6c5984063c40a59eda62f4a9135bee/b083d73f672c428faac3048b74733546.html)\n",
    "  \n",
    "---"
   ]
  },
  {
   "cell_type": "markdown",
   "metadata": {
    "Collapsed": "false"
   },
   "source": [
    "### Pre-read\n",
    "The computer vision package provides a fast and easy way to train computer vision models and set up a serving infrastructure. The computer vision package works with the SAP AI Core SDK (ai-core-sdk) to provide a command line interface to create SAP AI Core templates for training and serving.\n",
    "The package bundles capabilities of detectron2 (library for object detection and image segmentation) with extensions such as image classification, feature extraction and model serving.\n",
    "\n",
    "In this tutorial, you first create a Python virtual environment and install Python packages in the Python virtual environment. You then link the virtual environment to a Jupyter notebook so that you can run computer vision pipelines on SAP AI Core from a Jupyter notebook.\n",
    "\n",
    "After set up, you can train and serve an AI model for object detection. The aim of the model is to recognise objects (numbers) on electricity meter readings. See the related computer vision tutorials for training and serving an object detection model.\n",
    "\n"
   ]
  },
  {
   "cell_type": "markdown",
   "metadata": {
    "Collapsed": "false"
   },
   "source": [
    "#### For Windows users\n",
    "\n",
    "Python package `detectron2` currently [only supports Linux or MacOS](https://detectron2.readthedocs.io/en/latest/tutorials/install.html#requirements). For this reason, it's recommended that you set up a Linux Virtual Machine (VM) in your Windows OS to use the computer vision package and complete the tutorial. For more information about how to install Linux VM, see [guide to install Ubuntu VM on VirtualBox here](https://ubuntu.com/tutorials/how-to-run-ubuntu-desktop-on-a-virtual-machine-using-virtualbox#1-overview).\n",
    "\n",
    "\n",
    "---"
   ]
  },
  {
   "cell_type": "markdown",
   "metadata": {
    "Collapsed": "false"
   },
   "source": [
    "\n",
    "## Step 2: Install Python\n",
    "\n",
    "Download and install Python 3.9.X from [python.org v3.9.13](https://www.python.org/downloads/release/python-3913/).\n",
    "\n",
    "> **CAUTION**: Python version `3.9` is required for the computer vision package.\n",
    "\n",
    "\n",
    "`pip` is the Python package installer. It is required to install `sap-computer-vision-package` and other required packages. `pip` is installed along with Python.\n",
    "\n",
    "Check `pip` availability."
   ]
  },
  {
   "cell_type": "code",
   "execution_count": 1,
   "metadata": {
    "Collapsed": "false"
   },
   "outputs": [],
   "source": [
    "pip  --version"
   ]
  },
  {
   "cell_type": "markdown",
   "metadata": {
    "Collapsed": "false"
   },
   "source": [
    "## Step 3: Create Python virtual environment\n",
    "\n",
    "The Python virtual environment helps you install Python packages inside a sandbox-like environment. You use the environment to maintain required versions of the packages for your project.\n",
    "\n",
    "Create and activate a virtual Python environment using the following snippet. Note, `sap_cv_env` is the name of your environment.\n",
    "\n",
    "```BASH\n",
    "$ python -m venv sap_cv_env\n",
    "$ source sap_cv_env/bin/activate\n",
    "```\n",
    "\n",
    "Check which Python is used by your virtual environment.\n",
    "\n",
    "```Shell\n",
    "$ which python\n",
    "```\n",
    "\n",
    "You can see the path of the Python executable in your virtual environment.\n",
    "\n",
    "```Shell\n",
    "/Users/<username>/Documents/tutorials/sap_cv_env/bin/python\n",
    "```"
   ]
  },
  {
   "cell_type": "markdown",
   "metadata": {
    "Collapsed": "false"
   },
   "source": [
    "## Step 4: Install SAP AI Core SDK\n",
    "\n",
    "The `ai-core-sdk` Python package allows us to interact with SAP AI Core. It also provides a command line interface to content packages like the computer vision package.\n",
    "\n",
    "Install the `SAP AI Core SDK` package by running the snippet below.\n",
    "> (The command `pip install <package_name>` downloads the package from [public python repository]((https://pypi.org/project/ai-core-sdk/).) and installs it in your virtual environment.)\n",
    "\n",
    "```BASH\n",
    "pip install \"ai-core-sdk[aicore-content]\"\n",
    "```\n",
    "\n",
    "![image](img/install-ai-core-sdk.png)\n"
   ]
  },
  {
   "cell_type": "markdown",
   "metadata": {
    "Collapsed": "false"
   },
   "source": [
    "## Step 5: Install PyTorch and Detectron2\n",
    "\n",
    "You must install `Torch` and `detectron2` packages.\n",
    "\n",
    "#### Mac OS\n",
    "\n",
    "```BASH\n",
    "pip install torch==1.10 torchvision\n",
    "pip install https://github.com/facebookresearch/detectron2/archive/refs/tags/v0.6.zip\n",
    "```\n",
    "\n",
    "![image](img/install-torch-torchvision.png)\n",
    "\n",
    "![image](img/install-detectron.png)\n",
    "\n",
    "#### Linux\n",
    "\n",
    "For Linux, pre-builds of `detectron2` are available. Run the snippet.\n",
    "\n",
    "```BASH\n",
    "pip install torch==1.10 torchvision\n",
    "pip install detectron2 -f https://dl.fbaipublicfiles.com/detectron2/wheels/cpu/torch1.10/index.html\n",
    "```\n",
    "\n",
    "![image](img/install-torch-torchvision.png)\n",
    "\n",
    "![image](img/install-detectron.png)\n",
    "\n",
    "#### Windows\n",
    "\n",
    "> NOTE: `detectron2` does not currently support Windows OS. We recommend that you use a Linux VM for the tutorial. If you need assistance, check [Guide to install Ubuntu VM on VirtualBox here](https://ubuntu.com/tutorials/how-to-run-ubuntu-desktop-on-a-virtual-machine-using-virtualbox#1-overview).\n",
    "\n",
    "On the Linux Virtual Machine, follow the installation steps listed under the Linux tab.\n",
    "\n",
    "> **INFORMATION** For detailed Torch installation instructions, see [here](https://pytorch.org/get-started/locally/). After installing Torch, the matching version of `detectron2` must be installed. Check the [detectron2 installation guide](https://detectron2.readthedocs.io/en/latest/tutorials/install.html) to select the required version. Test the package with `detectron2=0.6`.\n"
   ]
  },
  {
   "cell_type": "markdown",
   "metadata": {
    "Collapsed": "false"
   },
   "source": [
    "## Step 6: Install computer vision package\n",
    "\n",
    "Install the computer vision package.\n",
    "\n",
    "```BASH\n",
    "pip install sap-computer-vision-package\n",
    "```\n"
   ]
  },
  {
   "cell_type": "markdown",
   "metadata": {
    "Collapsed": "false"
   },
   "source": [
    "## Step 7: Configure Metaflow\n",
    "\n",
    "The computer vision package uses Metaflow library for creating pipelines on SAP AI Core. Metaflow is installed along with `sap-computer-vision-package`. You need to configure Metaflow on your system and set your AWS connection to it.\n",
    "\n",
    "Paste and run the snippet. When prompted, provide the credentials for your AWS object store (example: S3).\n",
    "\n",
    "> **CAUTION** For Windows users, run the snippet within your Linux VM.\n",
    "\n",
    "```BASH\n",
    "metaflow configure aws\n",
    "```\n",
    "\n",
    "You should now have a Metaflow configuration file (`~/.metaflowconfig/config.json`) in the home directory of your user. The contents of the configuration file should look something like this.\n",
    "\n",
    "(Template for Metaflow configuration file)\n",
    "\n",
    "```JSON\n",
    "{\n",
    "    \"METAFLOW_DEFAULT_DATASTORE\": \"s3\",\n",
    "    \"METAFLOW_DATASTORE_SYSROOT_S3\": \"s3://<your_object_store_bucket_name>/path/in/your/bucket\"\n",
    "}\n",
    "```\n",
    "\n",
    "Alternatively, you can manually create the configuration file (`~/.metaflowconfig/config.json`) for Metaflow and use your `S3 bucket` data from the example above.\n"
   ]
  },
  {
   "cell_type": "markdown",
   "metadata": {
    "Collapsed": "false"
   },
   "source": [
    "## Step 8: Configure AWS Command Line Interface (CLI)\n",
    "\n",
    "You must ensure your [AWS CLI](https://aws.amazon.com/cli/) is configured for the same bucket that you used for Metaflow\n",
    "\n",
    "If you don't have `awscli` installed, you can [install AWS CLI](https://docs.aws.amazon.com/cli/latest/userguide/getting-started-install.html), and then run the snippet to configure AWS CLI.\n",
    "\n",
    "```BASH\n",
    "aws configure\n",
    "```\n",
    "\n",
    "When prompted, provide account details for your AWS object store (S3). It's similar to the example below.\n",
    "\n",
    "![image](img/aws_configure.png)\n",
    "\n",
    "For more details about configuring AWS CLI, see [Official AWS user guide for configuring `awscli`](https://docs.aws.amazon.com/cli/latest/userguide/cli-configure-quickstart.html).\n"
   ]
  },
  {
   "cell_type": "markdown",
   "metadata": {
    "Collapsed": "false"
   },
   "source": [
    "## Step 9: Install Jupyter\n",
    "Jupyter is used to execute Python code pieces in **cells**. You'll paste and run Python code in the cells in your own Jupyter notebook.\n",
    "\n",
    "Run the snippet.\n",
    "\n",
    "```BASH\n",
    "pip install notebook\n",
    "```\n",
    "\n",
    "![image](img/install-jupyter-notebook.png)\n",
    "\n",
    "You can confirm the Jupyter installation using the following snippet.\n",
    "\n",
    "```BASH\n",
    "jupyter --version\n",
    "```\n",
    "Example output.\n",
    "\n",
    "```BASH\n",
    "$ jupyter --version\n",
    "\n",
    "jupyter core     : 4.6.1\n",
    "jupyter-notebook : 6.0.3\n",
    "qtconsole        : 4.6.0\n",
    "ipython          : 7.12.0\n",
    "ipykernel        : 5.1.4\n",
    "jupyter client   : 5.3.4\n",
    "jupyter lab      : 1.2.6\n",
    "nbconvert        : 5.6.1\n",
    "ipywidgets       : 7.5.1\n",
    "nbformat         : 5.0.4\n",
    "traitlets        : 4.3.3\n",
    "```\n",
    "\n",
    "Add the `sap_cv_env` virtual environment to your Jupyter installation.\n",
    "\n",
    "```BASH\n",
    "python -m ipykernel install --name=sap_cv_env\n",
    "```\n",
    "\n",
    "You should see an output that indicates that the kernel is installed.\n",
    "\n",
    "```Shell\n",
    "Installed kernelspec sap_cv_env in /usr/local/share/jupyter/kernels/sap_cv_env\n",
    "```\n"
   ]
  },
  {
   "cell_type": "markdown",
   "metadata": {
    "Collapsed": "false"
   },
   "source": [
    "## Step 10: Start Jupyter Notebook\n",
    "\n",
    "Navigate to the folder that you are using for this the tutorial. The folder must not be GitHub synced, as the folder may store sensitive information.\n",
    "\n",
    "In this tutorial, the folder is `~/tutorial`.\n",
    "\n",
    "Run the snippet to start the Jupyter notebook.\n",
    "\n",
    "```BASH\n",
    "jupyter notebook\n",
    "```\n",
    "\n",
    "This starts the Jupyter notebook, like the example shown below, and automatically opens the notebook in your default browser.\n",
    "\n",
    "![image](img/start-jupyter-notebook.png)\n",
    "\n",
    "> **IMPORTANT:** DO NOT close the terminal which started the Jupyter notebook while using the notebook. The webpage is an interface to this terminal.\n",
    "\n",
    "\n",
    "The Jupyter notebook should look similar to the example below.\n",
    "\n",
    "![image](img/jupyter-start-screen.png)\n",
    "\n"
   ]
  },
  {
   "cell_type": "markdown",
   "metadata": {
    "Collapsed": "false"
   },
   "source": [
    "## Step 11: Create Jupyter notebook\n",
    "\n",
    "To create a notebook, choose **New > `sap_cv_env (ipykernel)`** in the open Jupyter session. A new notebook starts with `sap_cv_env` environment as the kernel.\n",
    "\n",
    "![image](img/jupyter-notebook-start.png)\n",
    "\n",
    "To change the notebook name, click **Untitled** on the header bar.\n",
    "\n",
    "In the dialog box that appears, enter `Meter Reading using SAP CV Package`. Then choose **Rename**.\n",
    "\n",
    "![image](img/jupyter-notebook-rename.png)\n",
    "\n",
    "You'll see the renamed file in the folder for your Jupyter session.\n",
    "\n",
    "![image](img/jupyter-notebook-rename-2.png)\n"
   ]
  },
  {
   "cell_type": "markdown",
   "metadata": {
    "Collapsed": "false"
   },
   "source": [
    "## Step 12: Run Python code in Jupyter notebook\n",
    "\n",
    "Enter your Python code inside your Jupyter notebook.\n",
    "\n",
    "```Python\n",
    "print(\"Hi, printed using python\")\n",
    "```\n",
    "\n",
    "![image](img/jupyter-notebook-execute-cell.png)\n",
    "\n",
    "1. Enter your Python code in the grey box. The grey box is a Jupyter notebook **cell**.\n",
    "\n",
    "2. Choose **Run** to execute the cell. You can also use the shortcut (`CTRL` + `Enter`).\n"
   ]
  },
  {
   "cell_type": "markdown",
   "metadata": {
    "Collapsed": "false"
   },
   "source": [
    "## Step 13: Download SAP AI Core service key\n",
    "\n",
    "Get the service key for your SAP AI Core.  Check how to [create a service key for SAP AI Core.](https://help.sap.com/viewer/2d6c5984063c40a59eda62f4a9135bee/LATEST/en-US/7323ff4e37ba41c198b06e9669b80920.html)\n",
    "\n",
    "> If you have not provisioned SAP AI Core, check the [steps](https://help.sap.com/viewer/2d6c5984063c40a59eda62f4a9135bee/LATEST/en-US/38c4599432d74c1d94e70f7c955a717d.html) to provision SAP AI Core service.\n",
    "\n",
    "Here's an example service key file. Confirm that your SAP AI Core service key file has the same properties.\n",
    "\n",
    "```JSON\n",
    "{\n",
    "    \"clientid\": \"<YourClientID>\",\n",
    "    \"clientsecret\": \"<YourClientSecret>\",\n",
    "    \"url\": \"https://tutorial.authentication.sap.hana.ondemand.com\",\n",
    "    \"identityzone\": \"tutorial\",\n",
    "    \"identityzoneid\": \"5555a-a2c-4444-2222\",\n",
    "    \"appname\": \"example-cdefg-111-12233!h7777|aicore!1111\",\n",
    "    \"serviceurls\": {\n",
    "        \"AI_API_URL\": \"https://api.ai.ml.hana.ondemand.com\"\n",
    "    }\n",
    "}\n",
    "```\n",
    "\n",
    "Now, download the service key file in JSON format.\n",
    "\n",
    "> Save the `aic_service_key.json` file in the folder relative to your Jupyter notebook. You'll use the saved location to load the service key and create the AI API client, so ensure the path is correct.\n",
    "\n",
    "After you've added the `aic_service_key.json` file to the correct folder, it should look like this example in your Jupyter file browser.\n",
    "\n",
    "![image](img/jupyter-browser-service-key-location.png)\n"
   ]
  },
  {
   "cell_type": "markdown",
   "metadata": {
    "Collapsed": "false"
   },
   "source": [
    "## Step 14: Connect to SAP AI Core\n",
    "\n",
    "To connect the AI API client with SAP AI Core, first paste the code snippet in a new Jupyter cell."
   ]
  },
  {
   "cell_type": "code",
   "execution_count": 2,
   "metadata": {
    "Collapsed": "false"
   },
   "outputs": [],
   "source": [
    "from ai_core_sdk.ai_core_v2_client import AICoreV2Client\n",
    "import json\n",
    "\n",
    "# Your service key JSON file relative to this notebook\n",
    "aic_service_key_path = 'aic_service_key.json'\n",
    "\n",
    "# Loads the service key file\n",
    "with open(aic_service_key_path) as ask:\n",
    "    aic_service_key = json.load(ask)\n",
    "\n",
    "# Creating an AI API client instance\n",
    "ai_core_client = AICoreV2Client(\n",
    "    base_url = aic_service_key[\"serviceurls\"][\"AI_API_URL\"] + \"/v2\", # The present AI API version is 2\n",
    "    auth_url=  aic_service_key[\"url\"] + \"/oauth/token\",\n",
    "    client_id = aic_service_key['clientid'],\n",
    "    client_secret = aic_service_key['clientsecret']\n",
    ")"
   ]
  },
  {
   "cell_type": "markdown",
   "metadata": {
    "Collapsed": "false"
   },
   "source": [
    "Then, execute the cell. You can either click the arrow beside the cell, press `Shift` + `Enter` on keyboard, or *alternatively: **Run** > **Run Cells***.\n",
    "\n",
    "The code first loads file `aic_service_key.json`.  Then, it creates a connection to your SAP AI Core instance via AI Core Client.  Finally, it stores the connection to the AI Core client instance variable `ai_core_client`.\n",
    "> Note, you'll use the `ai_core_client` variable throughout the tutorial to refer to your SAP AI Core connection."
   ]
  },
  {
   "cell_type": "markdown",
   "metadata": {
    "Collapsed": "false"
   },
   "source": [
    "## Step 15: Check AI API client connection\n",
    "\n",
    "Check that the AI API is correctly set up."
   ]
  },
  {
   "cell_type": "code",
   "execution_count": 3,
   "metadata": {
    "Collapsed": "false"
   },
   "outputs": [
    {
     "data": {
      "text/plain": [
       "37"
      ]
     },
     "execution_count": 3,
     "metadata": {},
     "output_type": "execute_result"
    }
   ],
   "source": [
    "ai_core_client.scenario.query('default').count"
   ]
  },
  {
   "cell_type": "markdown",
   "metadata": {
    "Collapsed": "false"
   },
   "source": [
    "You should see a numeric value based on the number of scenarios in your AI Core instance (most likely `0`)."
   ]
  }
 ],
 "metadata": {
  "kernelspec": {
   "display_name": "Python 3 (ipykernel)",
   "language": "python",
   "name": "python3"
  },
  "language_info": {
   "codemirror_mode": {
    "name": "ipython",
    "version": 3
   },
   "file_extension": ".py",
   "mimetype": "text/x-python",
   "name": "python",
   "nbconvert_exporter": "python",
   "pygments_lexer": "ipython3",
   "version": "3.7.6"
  }
 },
 "nbformat": 4,
 "nbformat_minor": 4
}
