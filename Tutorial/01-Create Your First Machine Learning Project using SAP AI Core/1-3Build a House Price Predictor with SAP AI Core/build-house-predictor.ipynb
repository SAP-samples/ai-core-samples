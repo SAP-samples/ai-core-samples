{
 "cells": [
  {
   "cell_type": "markdown",
   "id": "9579c95c-5199-4f75-97e4-442629c12926",
   "metadata": {},
   "source": [
    "# Build a House Price Predictor with SAP AI Core\n",
    "Author: https://github.com/dhrubpaul\n",
    "\n",
    "You need Docker to complete this tutorial. If you are running this Jupyter notebook on web, we recommend to use your local system along with it.\n",
    "\n",
    "The steps are analogous with the tutorial: https://developers.sap.com/tutorials/ai-core-code.html\n",
    "Please open the tutorial and this notebook side-by-side for better understanding."
   ]
  },
  {
   "cell_type": "markdown",
   "id": "64056b4b-f92d-4d4e-8d52-10ab16632a7d",
   "metadata": {},
   "source": [
    "## Pre-requisite \n",
    "Create connection with SAP AI Core. Edit the below cell"
   ]
  },
  {
   "cell_type": "code",
   "execution_count": null,
   "id": "4ce8675a-2d8e-4537-8d9f-6f26dacae72c",
   "metadata": {},
   "outputs": [],
   "source": [
    "# Load Library\n",
    "from ai_core_sdk.ai_core_v2_client import AICoreV2Client\n",
    "\n",
    "# Create Connection\n",
    "ai_core_client = AICoreV2Client(\n",
    "    base_url = \"<YOUR_AI_API_URL>\" + \"/v2\", # The present SAP AI Core API version is 2\n",
    "    auth_url=  \"<YOUR_url>\" + \"/oauth/token\", # Suffix to add\n",
    "    client_id = \"<YOUR_clientid>\",\n",
    "    client_secret = \"<YOUR_clientsecret>\"\n",
    ")\n",
    "# no output is expected"
   ]
  },
  {
   "cell_type": "markdown",
   "id": "28e3e6a8-b9c3-4513-888d-464ba8d654c5",
   "metadata": {},
   "source": [
    "## Step 1: Create a Docker account and generate a Docker access token\n",
    "\n",
    "*Create a repository on hub.docker.com . You may use any your own Docker registry.* Refere step 1 of the tutorial: https://developers.sap.com/tutorials/ai-core-code.html#cf7b33ab-c455-47ee-a812-33a1ff587cf0\n",
    "\n",
    "## Step 2: Install Docker Desktop\n",
    "\n",
    "*Download and install docker https://www.docker.com/products/docker-desktop/*"
   ]
  },
  {
   "cell_type": "markdown",
   "id": "8a769079-c897-46fc-8c4b-b51c8ff33ce2",
   "metadata": {},
   "source": [
    "## Step 3: Write AI code for house price prediction"
   ]
  },
  {
   "cell_type": "markdown",
   "id": "2ecd3883-2c49-40fc-80de-6fba0bc5af06",
   "metadata": {},
   "source": [
    "Please refer the step 3 of the tutorial: https://developers.sap.com/tutorials/ai-core-code.html#3730e9e1-15d5-4cd3-a4f7-27a82d2297da"
   ]
  },
  {
   "cell_type": "markdown",
   "id": "b95d7111-a60e-426f-b9b0-47e66bc70966",
   "metadata": {},
   "source": [
    "## Step 4: Transform your AI code into a Docker image\n",
    "\n",
    "*Please refer to step 4: https://developers.sap.com/tutorials/ai-core-code.html#61ada9bc-8a9a-4671-8e92-fde71c78a8f1*"
   ]
  },
  {
   "cell_type": "markdown",
   "id": "78269b3a-2369-4c89-bf9a-82a0b298e075",
   "metadata": {
    "tags": []
   },
   "source": [
    "## Step 5: Connect your local system to a Docker account"
   ]
  },
  {
   "cell_type": "markdown",
   "id": "930a88b6-412a-4be7-8984-4d37c57163a5",
   "metadata": {},
   "source": [
    "*Please refer to step 5: https://developers.sap.com/tutorials/ai-core-code.html#beb0c055-7441-41d3-a285-304a1c41b6fb*"
   ]
  },
  {
   "cell_type": "markdown",
   "id": "2f6b8c09-8f82-40b7-a889-cce8e339383e",
   "metadata": {},
   "source": [
    "## Step 6: Upload a Docker image to the cloud"
   ]
  },
  {
   "cell_type": "markdown",
   "id": "638eb8c5-c57a-4af5-a7c4-dc4a28e9f80a",
   "metadata": {},
   "source": [
    "*Please refer to step 6: https://developers.sap.com/tutorials/ai-core-code.html#2aa8d2f5-9101-4e66-8403-b58e15ee18c5*"
   ]
  },
  {
   "cell_type": "markdown",
   "id": "2d395434-4642-4081-af1f-9e8cbf6f7ba1",
   "metadata": {},
   "source": [
    "## Step 7: Store your Docker credentials in SAP AI Core as a Docker registry secret"
   ]
  },
  {
   "cell_type": "code",
   "execution_count": null,
   "id": "683914ca-394e-4657-828f-9bf81cb80ecb",
   "metadata": {},
   "outputs": [],
   "source": [
    "response = ai_core_client.docker_registry_secrets.create(\n",
    "    name = \"credstutorialrepo\",\n",
    "    data = {\n",
    "        \".dockerconfigjson\": \"{\\\"auths\\\":{\\\"YOUR_DOCKER_REGISTRY_URL\\\":{\\\"username\\\":\\\"YOUR_DOCKER_USERNAME\\\",\\\"password\\\":\\\"YOUR_DOCKER_ACCESS_TOKEN\\\"}}}\"\n",
    "    }\n",
    ")\n",
    "\n",
    "print(response.__dict__)\n"
   ]
  },
  {
   "cell_type": "markdown",
   "id": "55470b8c-f268-4e98-a73b-66e7be32277c",
   "metadata": {},
   "source": [
    "## Step 8: Reference a Docker image in your AI workflow\n"
   ]
  },
  {
   "cell_type": "markdown",
   "id": "5fa1f4ca-96f8-4fad-8bd7-8e0e0af45543",
   "metadata": {},
   "source": [
    "*Please refer step 8 of the tutorial: https://developers.sap.com/tutorials/ai-core-code.html#d5976faf-77b3-4c8d-a52f-82b78862386f*"
   ]
  },
  {
   "cell_type": "markdown",
   "id": "f2420023-c0f6-49cd-8026-e9059ac8beee",
   "metadata": {},
   "source": [
    "## Step 9: Check the sync status of your workflow"
   ]
  },
  {
   "cell_type": "code",
   "execution_count": null,
   "id": "cb74c25d-b2b1-4fa1-9f8f-2a98ff153150",
   "metadata": {},
   "outputs": [],
   "source": [
    "# Get application status\n",
    "response = ai_core_client.applications.get_status(application_name='learning-scenarios-app')\n",
    "\n",
    "print(response.message)\n",
    "for sync_status in response.sync_ressources_status:\n",
    "    print(sync_status.__dict__)"
   ]
  },
  {
   "cell_type": "markdown",
   "id": "03718021-afc5-4fbb-b00c-2237d80f93eb",
   "metadata": {},
   "source": [
    "- should see `status: 'Synced'`"
   ]
  },
  {
   "cell_type": "code",
   "execution_count": null,
   "id": "339494e0-cf2c-4626-a2ca-60af28afc105",
   "metadata": {},
   "outputs": [],
   "source": [
    "# List available executables\n",
    "response = ai_core_client.executable.query(\n",
    "    scenario_id = \"learning-code\", resource_group='default'\n",
    ")\n",
    "\n",
    "for executable in response.resources:\n",
    "    print(executable.__dict__)\n"
   ]
  },
  {
   "cell_type": "markdown",
   "id": "4bae8527-d5d1-48e1-8c85-ea8de4a2ada4",
   "metadata": {},
   "source": [
    "- should see `id: code-pipeline`. The value is derived from your workflow from the annotation `name`.\n",
    "\n",
    "## Step 10: Run your AI workflow"
   ]
  },
  {
   "cell_type": "code",
   "execution_count": null,
   "id": "f3e7f0eb-05d4-4c61-893b-567ab4db6b57",
   "metadata": {},
   "outputs": [],
   "source": [
    "# Create configuration\n",
    "response = ai_core_client.configuration.create(\n",
    "    name = \"code-workflow-1\",\n",
    "    scenario_id = \"learning-code\",\n",
    "    executable_id = \"code-pipeline\",\n",
    "    resource_group = \"default\"\n",
    ")\n",
    "print(response.__dict__)\n"
   ]
  },
  {
   "cell_type": "code",
   "execution_count": null,
   "id": "1d4d2745-429a-47e1-bd7b-d402e406c8fe",
   "metadata": {},
   "outputs": [],
   "source": [
    "# Create and start execution\n",
    "response = ai_core_client.execution.create(\n",
    "    configuration_id = '<YOUR_CONFIGURATION_ID>',\n",
    "    resource_group = 'default'\n",
    ")\n",
    "\n",
    "response.__dict__"
   ]
  },
  {
   "cell_type": "code",
   "execution_count": null,
   "id": "e454dfc6-f733-4c72-9883-bbd3f47a7ca2",
   "metadata": {},
   "outputs": [],
   "source": [
    "# Get execution status from SAP AI Core\n",
    "# execute this multiple times in interval of 30 seconds\n",
    "response = ai_core_client.execution.get(\n",
    "    execution_id = '<YOUR_EXECUTION_ID', # Change this\n",
    "    resource_group = 'default'\n",
    ")\n",
    "\n",
    "response.__dict__\n"
   ]
  },
  {
   "cell_type": "markdown",
   "id": "2e419e7d-ad94-4e59-9fe4-9e4cfd04d8e9",
   "metadata": {},
   "source": [
    "- should end up with **Status: DEAD**"
   ]
  },
  {
   "cell_type": "markdown",
   "id": "dea7ad1e-f05c-4c4e-86df-23f6d0065c17",
   "metadata": {},
   "source": [
    "## Step 11 Look for error logs in execution\n"
   ]
  },
  {
   "cell_type": "code",
   "execution_count": null,
   "id": "56b12e4b-d954-4fb9-8763-7c5e22a0e421",
   "metadata": {},
   "outputs": [],
   "source": [
    "# get execution logs\n",
    "response = ai_core_client.execution.query_logs(\n",
    "    execution_id = '<YOUR_EXECUTION_ID>',\n",
    "    resource_group = 'default',\n",
    "    start = datetime(1990, 1, 1) # Optional, required when execution is older than one hour\n",
    ")\n",
    "\n",
    "for log in response.data.result:\n",
    "    print(log.__dict__)\n"
   ]
  },
  {
   "cell_type": "markdown",
   "id": "12709765-5b8b-462a-b8fc-5526ce7e9936",
   "metadata": {},
   "source": [
    "## Step 12: Fix and update code\n",
    "\n",
    "*Refer step 12 of the tutorial: https://developers.sap.com/tutorials/ai-core-code.html#d3cdbc12-922d-48b2-a197-44f0d8fbd867*\n",
    "\n",
    "## Step 13: Update your AI workflow\n",
    "\n",
    "*Refer step 13 of the tutorial: https://developers.sap.com/tutorials/ai-core-code.html#3fedf413-00e5-4554-85bc-06130758678a*\n",
    "\n",
    "## Step 14: Create Execution"
   ]
  },
  {
   "cell_type": "code",
   "execution_count": null,
   "id": "b3313d73-5f50-49ad-aae9-db4e7eb4f365",
   "metadata": {},
   "outputs": [],
   "source": [
    "# Create execution\n",
    "response = ai_core_client.executable.query(\n",
    "    scenario_id = \"learning-code\", resource_group='default'\n",
    ")\n",
    "\n",
    "for executable in response.resources:\n",
    "    print(executable.__dict__)\n"
   ]
  },
  {
   "cell_type": "code",
   "execution_count": null,
   "id": "73e6d7e7-a1ff-4216-82a3-0581c739ea31",
   "metadata": {},
   "outputs": [],
   "source": [
    "# Get execution status from SAP AI Core\n",
    "# execute this multiple times in interval of 30 seconds\n",
    "response = ai_core_client.execution.get(\n",
    "    execution_id = '<YOUR_EXECUTION_ID', # Change this\n",
    "    resource_group = 'default'\n",
    ")\n",
    "\n",
    "response.__dict__\n"
   ]
  },
  {
   "cell_type": "markdown",
   "id": "eac90225-b360-450c-8f76-4a29a00561ee",
   "metadata": {},
   "source": [
    "- should show **Status: COMPLETED**"
   ]
  },
  {
   "cell_type": "code",
   "execution_count": null,
   "id": "c2a4d7ae-8211-4926-8968-0d1d98414826",
   "metadata": {},
   "outputs": [],
   "source": [
    "# Get Execution Logs\n",
    "response = ai_core_client.execution.query_logs(\n",
    "    execution_id = '<YOUR_EXECUTION_ID>',\n",
    "    resource_group = 'default'\n",
    ")\n",
    "\n",
    "for log in response.data.result:\n",
    "    print(log.__dict__)\n"
   ]
  }
 ],
 "metadata": {
  "kernelspec": {
   "display_name": "Python 3 (ipykernel)",
   "language": "python",
   "name": "python3"
  },
  "language_info": {
   "codemirror_mode": {
    "name": "ipython",
    "version": 3
   },
   "file_extension": ".py",
   "mimetype": "text/x-python",
   "name": "python",
   "nbconvert_exporter": "python",
   "pygments_lexer": "ipython3",
   "version": "3.9.10"
  }
 },
 "nbformat": 4,
 "nbformat_minor": 5
}
