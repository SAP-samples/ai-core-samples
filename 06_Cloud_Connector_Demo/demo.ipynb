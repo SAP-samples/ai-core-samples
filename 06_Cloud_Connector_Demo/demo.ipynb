{
 "cells": [
  {
   "cell_type": "markdown",
   "metadata": {},
   "source": [
    "# AIW Cloud Connector Demo"
   ]
  },
  {
   "cell_type": "markdown",
   "metadata": {},
   "source": [
    "### Step 1: Initialize Client and Create WF Templates"
   ]
  },
  {
   "cell_type": "code",
   "execution_count": 65,
   "metadata": {
    "scrolled": true
   },
   "outputs": [
    {
     "name": "stdout",
     "output_type": "stream",
     "text": [
      "Credentials succesfully read\n"
     ]
    }
   ],
   "source": [
    "import json\n",
    "from time import sleep\n",
    "\n",
    "with open(\"credentials-intber.json\") as f:\n",
    "    credentials = json.load(f)\n",
    "\n",
    "print(\"Credentials succesfully read\")"
   ]
  },
  {
   "cell_type": "code",
   "execution_count": 66,
   "metadata": {},
   "outputs": [
    {
     "name": "stdout",
     "output_type": "stream",
     "text": [
      "The default resource group is PROVISIONED\n"
     ]
    }
   ],
   "source": [
    "from ai_core_sdk.ai_core_v2_client import AICoreV2Client\n",
    "from ai_core_sdk.models import Status\n",
    "\n",
    "# Initializations\n",
    "resource_group = \"default\"\n",
    "name = \"aiw-cc-demo\"\n",
    "client = AICoreV2Client(base_url=credentials.get(\"base_url\"),\n",
    "                        auth_url=credentials.get(\"auth_url\"),\n",
    "                        client_id=credentials.get(\"client_id\"),\n",
    "                        client_secret=credentials.get(\"client_secret\"),\n",
    "                        resource_group=resource_group)\n",
    "\n",
    "# Check if resource group is available\n",
    "resource_group = client.resource_groups.get(resource_group)\n",
    "print(f\"The {resource_group.resource_group_id} resource group is {resource_group.status}\")"
   ]
  },
  {
   "cell_type": "markdown",
   "metadata": {},
   "source": [
    "### Step 2: Create repository and application to sync WF templates"
   ]
  },
  {
   "cell_type": "code",
   "execution_count": 9,
   "metadata": {},
   "outputs": [
    {
     "name": "stdout",
     "output_type": "stream",
     "text": [
      "Message: Repository has been on-boarded.\n",
      "Id: aiw-cc-demo, Message: Application has been successfully created.\n"
     ]
    }
   ],
   "source": [
    "# Onboard repository\n",
    "repository = client.repositories.create(name,\n",
    "                                        credentials.get(\"repo_url\"),\n",
    "                                        credentials.get(\"git_user\"),\n",
    "                                        credentials.get(\"git_pass\")\n",
    "                                        )\n",
    "print(repository)\n",
    "\n",
    "# Create application\n",
    "application = client.applications.create(revision=\"main\",\n",
    "                                        path=credentials.get(\"app_path\"),\n",
    "                                        application_name=name,\n",
    "                                        repository_name=name\n",
    "                                        )\n",
    "print(application)\n"
   ]
  },
  {
   "cell_type": "markdown",
   "metadata": {},
   "source": [
    "### Step 3: Check if application has synced and scenario created"
   ]
  },
  {
   "cell_type": "code",
   "execution_count": 67,
   "metadata": {},
   "outputs": [
    {
     "name": "stdout",
     "output_type": "stream",
     "text": [
      "Healthy\n",
      "Scenario aiw-cc-demo exists\n",
      "Executable aiw-cc-demo v1.0.0 found\n"
     ]
    }
   ],
   "source": [
    "app_status = client.applications.get_status(name)\n",
    "print(app_status.health_status)\n",
    "\n",
    "# Get scenarios\n",
    "scenarios = client.scenario.query()\n",
    "demo_scenario_exists = name in [s.name for s in scenarios.resources]\n",
    "print(f\"Scenario {name} exists\") if demo_scenario_exists else print(f\"Scenario {name} not yet available\")\n",
    "\n",
    "# Get executables\n",
    "executables = client.executable.query(name)\n",
    "for e in executables.resources:\n",
    "    print(f\"Executable {e.id} v{e.version_id} found\")\n"
   ]
  },
  {
   "cell_type": "code",
   "execution_count": 74,
   "metadata": {},
   "outputs": [
    {
     "name": "stdout",
     "output_type": "stream",
     "text": [
      "Id: dfa551dc-6ce9-4d6f-b069-d261e743e338, Message: Configuration created\n"
     ]
    }
   ],
   "source": [
    "\n",
    "# Create execution configuration\n",
    "config = client.configuration.create(name=name, scenario_id=name, executable_id=name, parameter_bindings={})\n",
    "print(config)\n",
    "config_id = config.id"
   ]
  },
  {
   "cell_type": "code",
   "execution_count": 75,
   "metadata": {},
   "outputs": [
    {
     "name": "stdout",
     "output_type": "stream",
     "text": [
      "For executable aiw-cc-demo - config_id: cd2a0502-c406-490a-b469-5f1320b9086f\n"
     ]
    }
   ],
   "source": [
    "# List config\n",
    "configs = client.configuration.query(name, [name])\n",
    "config_ids = {c.name: c.id for c in configs.resources}\n",
    "print(f\"For executable {name} - config_id: {config_ids[name]}\")\n",
    "config_id = config_ids[name]"
   ]
  },
  {
   "cell_type": "markdown",
   "metadata": {},
   "source": [
    "### Pul Image Secrets"
   ]
  },
  {
   "cell_type": "code",
   "execution_count": 70,
   "metadata": {},
   "outputs": [
    {
     "name": "stdout",
     "output_type": "stream",
     "text": [
      "{'message': 'Secret exists'}\n"
     ]
    }
   ],
   "source": [
    "response = client.rest_client.post(\n",
    "    path=\"/admin/dockerRegistrySecrets\",\n",
    "    body={\n",
    "        \"name\": \"cp-test-docker-registry\",\n",
    "        \"data\": credentials.get(\"docker_secret\")\n",
    "    }\n",
    ")\n",
    "print(response)"
   ]
  },
  {
   "cell_type": "markdown",
   "metadata": {},
   "source": [
    "### Step 4: Start Execution"
   ]
  },
  {
   "cell_type": "code",
   "execution_count": 88,
   "metadata": {},
   "outputs": [
    {
     "name": "stdout",
     "output_type": "stream",
     "text": [
      "Id: e69dc86a212e7192, Message: Execution scheduled\n"
     ]
    }
   ],
   "source": [
    "execution = client.execution.create(config_id, resource_group.resource_group_id)\n",
    "print(execution)\n"
   ]
  },
  {
   "cell_type": "code",
   "execution_count": 86,
   "metadata": {},
   "outputs": [
    {
     "name": "stdout",
     "output_type": "stream",
     "text": [
      "Execution id: eff614b53db04b91 - Status.UNKNOWN\n",
      "Execution id: eff614b53db04b91 - Status.UNKNOWN\n",
      "Execution id: eff614b53db04b91 - Status.UNKNOWN\n",
      "Execution id: eff614b53db04b91 - Status.UNKNOWN\n",
      "Execution id: eff614b53db04b91 - Status.UNKNOWN\n",
      "Execution id: eff614b53db04b91 - Status.UNKNOWN\n",
      "Execution id: eff614b53db04b91 - Status.UNKNOWN\n",
      "Execution id: eff614b53db04b91 - Status.UNKNOWN\n",
      "Execution id: eff614b53db04b91 - Status.UNKNOWN\n",
      "Execution id: eff614b53db04b91 - Status.UNKNOWN\n",
      "Execution id: eff614b53db04b91 - Status.RUNNING\n"
     ]
    }
   ],
   "source": [
    "\n",
    "\n",
    "\n",
    "for i in range(30):\n",
    "    e = client.execution.get(execution.id)\n",
    "    print(f\"{e} - {e.status}\")\n",
    "    if e.status != Status.UNKNOWN:\n",
    "        break\n",
    "    sleep(2)\n"
   ]
  },
  {
   "cell_type": "code",
   "execution_count": 89,
   "metadata": {},
   "outputs": [
    {
     "name": "stdout",
     "output_type": "stream",
     "text": [
      "Log response messages: 2022-11-04T12:49:51.440561519Z stderr F time=\"2022-11-04T12:49:51.440Z\" level=info msg=\"Starting Workflow Executor\" version=v3.4.0, 2022-11-04T12:49:51.444034411Z stderr F time=\"2022-11-04T12:49:51.443Z\" level=info msg=\"Using executor retry strategy\" Duration=1s Factor=1.6 Jitter=0.5 Steps=5, 2022-11-04T12:49:51.444084126Z stderr F time=\"2022-11-04T12:49:51.444Z\" level=info msg=\"Executor initialized\" deadline=\"0001-01-01 00:00:00 +0000 UTC\" includeScriptOutput=false namespace=rg-b6f59f0a-cd927cab podName=e69dc86a212e7192 template=\"{\\\"name\\\":\\\"connect\\\",\\\"inputs\\\":{},\\\"outputs\\\":{},\\\"metadata\\\":{\\\"labels\\\":{\\\"ai.sap.com/component\\\":\\\"training\\\",\\\"ai.sap.com/resourcePlan\\\":\\\"starter\\\",\\\"ai.sap.com/tenantId\\\":\\\"b27e0789-b0c9-4bbc-9960-317f8af27ce5\\\",\\\"executables.ai.sap.com/id\\\":\\\"aiw-cc-demo\\\",\\\"executions.ai.sap.com/id\\\":\\\"e69dc86a212e7192\\\",\\\"internal.ai.sap.com/realSubaccountId\\\":\\\"b27e0789-b0c9-4bbc-9960-317f8af27ce5\\\",\\\"internal.ai.sap.com/subAccount\\\":\\\"b27e0789-b0c9-4bbc-9960-317f8af27ce5\\\",\\\"scenarios.ai.sap.com/id\\\":\\\"aiw-cc-demo\\\",\\\"tenant_id_md5\\\":\\\"ca3b166f0e73e5a1f7706a5f85cd069b\\\",\\\"username\\\":\\\"b27e0789-b0c9-4bbc-9960-317f8af27ce5\\\"}},\\\"container\\\":{\\\"name\\\":\\\"\\\",\\\"image\\\":\\\"aiwdemos.common.repositories.cloud.sap/aiw-cc-demo:0.1\\\",\\\"command\\\":[\\\"/bin/sh\\\",\\\"-c\\\"],\\\"args\\\":[\\\"python3 main.py\\\"],\\\"env\\\":[{\\\"name\\\":\\\"CP_TOKEN_SERVICE_URL\\\",\\\"valueFrom\\\":{\\\"secretKeyRef\\\":{\\\"name\\\":\\\"cp-service-key\\\",\\\"key\\\":\\\"token_service_url\\\"}}},{\\\"name\\\":\\\"CP_CLIENT_ID\\\",\\\"valueFrom\\\":{\\\"secretKeyRef\\\":{\\\"name\\\":\\\"cp-service-key\\\",\\\"key\\\":\\\"clientid\\\"}}},{\\\"name\\\":\\\"CP_CLIENT_SECRET\\\",\\\"valueFrom\\\":{\\\"secretKeyRef\\\":{\\\"name\\\":\\\"cp-service-key\\\",\\\"key\\\":\\\"clientsecret\\\"}}},{\\\"name\\\":\\\"AICORE_EXECUTION_ID\\\",\\\"value\\\":\\\"e69dc86a212e7192\\\"},{\\\"name\\\":\\\"AICORE_TRACKING_ENDPOINT\\\",\\\"value\\\":\\\"http://ml-tracking-service.ml-tracking.svc.cluster.local\\\"}],\\\"resources\\\":{}}}\" version=\"&Version{Version:v3.4.0,BuildDate:2022-09-19T03:47:58Z,GitCommit:047952afd539d06cae2fd6ba0b608b19c1194bba,GitTag:v3.4.0,GitTreeState:clean,GoVersion:go1.18.6,Compiler:gc,Platform:linux/amd64,}\", 2022-11-04T12:49:51.507881144Z stderr F time=\"2022-11-04T12:49:51.507Z\" level=info msg=\"Start loading input artifacts...\", 2022-11-04T12:49:51.50801337Z stderr F time=\"2022-11-04T12:49:51.507Z\" level=info msg=\"Alloc=6092 TotalAlloc=12085 Sys=18898 NumGC=4 Goroutines=2\", 2022-11-04T12:49:56.045036564Z stdout F Attempting to establish connection for client sb-clone5f7a62b6df7043ad88521bd9a1d45c61!b8227|connectivity!b137, 2022-11-04T12:49:56.045072964Z stdout F , 2022-11-04T12:49:56.045076623Z stdout F ### Testing Connection ###, 2022-11-04T12:49:56.045079448Z stdout F Connection Established, 2022-11-04T12:49:56.145231938Z stderr F time=\"2022-11-04T12:49:56.145Z\" level=info msg=\"sub-process exited\" argo=true error=\"<nil>\"\n"
     ]
    }
   ],
   "source": [
    "\n",
    "logs = client.execution.query_logs(execution_id=execution.id)\n",
    "print(logs)"
   ]
  },
  {
   "cell_type": "markdown",
   "metadata": {},
   "source": [
    "### Cleanup"
   ]
  },
  {
   "cell_type": "code",
   "execution_count": 11,
   "metadata": {},
   "outputs": [],
   "source": [
    "executions = client.execution.query(scenario_id=name)\n",
    "execution_ids = [e.id for e in executions.resources]\n",
    "for id in execution_ids:\n",
    "    resp = client.execution.delete(id)\n",
    "    print(resp)"
   ]
  },
  {
   "cell_type": "code",
   "execution_count": null,
   "metadata": {},
   "outputs": [],
   "source": [
    "response = client.repositories.delete(name)\n",
    "print(response)\n",
    "\n",
    "response = client.applications.delete(name)\n",
    "print(application)"
   ]
  }
 ],
 "metadata": {
  "kernelspec": {
   "display_name": "Python 3 (ipykernel)",
   "language": "python",
   "name": "python3"
  },
  "language_info": {
   "codemirror_mode": {
    "name": "ipython",
    "version": 3
   },
   "file_extension": ".py",
   "mimetype": "text/x-python",
   "name": "python",
   "nbconvert_exporter": "python",
   "pygments_lexer": "ipython3",
   "version": "3.8.9"
  },
  "vscode": {
   "interpreter": {
    "hash": "aee8b7b246df8f9039afb4144a1f6fd8d2ca17a180786b69acc140d282b71a49"
   }
  }
 },
 "nbformat": 4,
 "nbformat_minor": 2
}
