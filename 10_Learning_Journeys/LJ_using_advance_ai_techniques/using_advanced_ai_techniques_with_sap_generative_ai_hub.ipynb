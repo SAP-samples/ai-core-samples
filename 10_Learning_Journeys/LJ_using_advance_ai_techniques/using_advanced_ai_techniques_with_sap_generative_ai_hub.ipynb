{
 "cells": [
  {
   "cell_type": "markdown",
   "id": "1586a21125465ef9",
   "metadata": {},
   "source": [
    "# Learning Journey AIG03\n",
    "## Leverage Document Grounding in Orchestration Service for RAG-based Content Generation"
   ]
  },
  {
   "cell_type": "markdown",
   "id": "fe31aa9cca6fa00c",
   "metadata": {},
   "source": [
    "In this learning journey, you will learn how to leverage the Document Grounding module in the Orchestration Service to generate content using the Retrieval-Augmented Generation (RAG) approach.\n",
    "The Document Grounding module helps in grounding the input questions to relevant documents.\n",
    "The grounding process involves retrieving relevant documents from a knowledge base and using them to high-quality generate responses.\n",
    "The knowledge base can be a collection of documents in a sharepoint folder, an elastic search engine, or data repository which contains vectors.\n",
    "\n",
    "In this learning journey, you will perform the following steps:\n",
    "- Create the knowledge base with the relevant documents.\n",
    "- Configure the Document Grounding module in the Orchestration Service.\n",
    "- Generate content based on the knowledge base using the RAG approach.\n"
   ]
  },
  {
   "cell_type": "markdown",
   "id": "e1ac4ebb04b4d795",
   "metadata": {},
   "source": [
    "## Prerequisites\n",
    "Install the Generative AI Hub SDK using the following command:"
   ]
  },
  {
   "metadata": {},
   "cell_type": "code",
   "source": "%pip install generative-ai-hub-sdk",
   "id": "a4213b94dc1a5813",
   "outputs": [],
   "execution_count": null
  },
  {
   "cell_type": "markdown",
   "id": "9028883617764b1e",
   "metadata": {},
   "source": [
    "How to set the credentials for the Generative AI Hub SDK:\n",
    "see the AICore documentation for available options. [Note: maybe show or recommend an option here like local config file or environment variables]\n",
    "\n"
   ]
  },
  {
   "cell_type": "markdown",
   "id": "bc07f1e08c8f2cf",
   "metadata": {},
   "source": [
    "#### Todo: Provide credentials for Sid.\n"
   ]
  },
  {
   "cell_type": "markdown",
   "id": "e369ced4edfcddd0",
   "metadata": {},
   "source": [
    "#### Step 1: Create a Vector Knowledge Base\n",
    "   - Upload a set of documents which will automatically be vectorized and added to the knowledge base."
   ]
  },
  {
   "cell_type": "markdown",
   "id": "435207f7dc460342",
   "metadata": {},
   "source": [
    "Thera are 2 options to create the Knowledge Base:\n",
    "- Upload the documents to a sharepoint folder and run Pipeline API to vectorize the documents. (This option includes more detailed steps, which we have not yet performed. We still miss some information here.)\n",
    "- Upload the documents via AI Data Management (https://help.sap.com/docs/sap-ai-core/generative-ai-hub/create-resource-group-for-ai-data-management?locale=en-US)\n",
    "\n",
    "The AI Core Help describes in section Data API how to upload Documents\n",
    "https://help.sap.com/docs/sap-ai-core/generative-ai-hub/vector-api?locale=en-US\n",
    "\n",
    "For 1st version of the Learning Journey we should just reference the APIs and describe the sequence. We assume the user can create the Vector store herself.\n",
    "\n",
    "In 2nd version of the Learning Journey we add the sharepoint option. Maybe there is better documentation available for both options until then, which we can reference."
   ]
  },
  {
   "cell_type": "markdown",
   "id": "7e0ed3438a395e0d",
   "metadata": {},
   "source": [
    "#### Step 2: Configure the Document Grounding Module\n",
    "   - Define the configuration for the Document Grounding module in the Orchestration Service."
   ]
  },
  {
   "cell_type": "markdown",
   "id": "3c82ecda612ac1bc",
   "metadata": {},
   "source": [
    "### Add the url to the orchestration service here\n",
    "Todo: guide the user to get the url from the AI Core service / AI Launchpad"
   ]
  },
  {
   "metadata": {
    "ExecuteTime": {
     "end_time": "2025-02-10T15:03:02.870080Z",
     "start_time": "2025-02-10T15:03:02.864542Z"
    }
   },
   "cell_type": "code",
   "source": [
    "orchestration_service_url = \"https://api.ai.intprod-eu12.eu-central-1.aws.ml.hana.ondemand.com/v2/inference/deployments/dedccdc403fb2b8a\"\n",
    "#\"https://api.ai.prodeuonly.eu-central-1.aws.ml.hana.ondemand.com/v2/inference/deployments/df6aaf7f157a488e\"\n",
    "#\"https://api.ai.intprod-eu12.eu-central-1.aws.ml.hana.ondemand.com/v2/inference/deployments/dedccdc403fb2b8a\"\n",
    "# 'https://api.ai.internalprod.eu-central-1.aws.ml.hana.ondemand.com/v2/inference/deployments/d4394c82de511a6a'\n"
   ],
   "id": "cae7ddb2f84f2994",
   "outputs": [],
   "execution_count": 1
  },
  {
   "metadata": {
    "ExecuteTime": {
     "end_time": "2025-02-10T15:03:18.439036Z",
     "start_time": "2025-02-10T15:03:16.606069Z"
    }
   },
   "cell_type": "code",
   "source": [
    "# Import libraries\n",
    "from gen_ai_hub.proxy import get_proxy_client\n",
    "from gen_ai_hub.orchestration.models.config import OrchestrationConfig\n",
    "from gen_ai_hub.orchestration.models.document_grounding import (GroundingModule, DocumentGrounding, GroundingFilterSearch,\n",
    "                                                                DataRepositoryType, DocumentGroundingFilter)\n",
    "from gen_ai_hub.orchestration.models.llm import LLM\n",
    "from gen_ai_hub.orchestration.models.message import SystemMessage, UserMessage\n",
    "from gen_ai_hub.orchestration.models.template import Template, TemplateValue\n",
    "from gen_ai_hub.orchestration.service import OrchestrationService"
   ],
   "id": "59c9049ba6f6ca2d",
   "outputs": [],
   "execution_count": 3
  },
  {
   "metadata": {
    "ExecuteTime": {
     "end_time": "2025-02-10T15:03:19.607661Z",
     "start_time": "2025-02-10T15:03:19.602362Z"
    }
   },
   "cell_type": "code",
   "source": [
    "# Set up the Orchestration Service\n",
    "aicore_client = get_proxy_client().ai_core_client\n",
    "orchestration_service = OrchestrationService(api_url=orchestration_service_url)\n",
    "llm = LLM(\n",
    "    name=\"gpt-4o\",\n",
    "    parameters={\n",
    "        'temperature': 0.0,\n",
    "    }\n",
    ")\n",
    "template = Template(\n",
    "            messages=[\n",
    "                SystemMessage(\"\"\"Facility Solutions Company provides services to luxury residential complexes, apartments,\n",
    "                individual homes, and commercial properties such as office buildings, retail spaces, industrial facilities, and educational institutions.\n",
    "                Customers are encouraged to reach out with maintenance requests, service deficiencies, follow-ups, or any issues they need by email.\n",
    "                \"\"\"),\n",
    "                UserMessage(\"\"\"You are a helpful assistant for any queries for answering questions.\n",
    "                Answer the request by providing relevant answers that fit to the request.\n",
    "                Request: {{ ?user_query }}\n",
    "                Context:{{ ?grounding_response }}\n",
    "                \"\"\"),\n",
    "            ]\n",
    "        )"
   ],
   "id": "a00e1690f602cb8b",
   "outputs": [],
   "execution_count": 4
  },
  {
   "metadata": {
    "ExecuteTime": {
     "end_time": "2025-02-10T15:07:58.562272Z",
     "start_time": "2025-02-10T15:07:58.559010Z"
    }
   },
   "cell_type": "code",
   "source": [
    "# Set up Document Grounding\n",
    "filters = [DocumentGroundingFilter(id=\"vector\",\n",
    "                                   data_repositories=[\"3068256c-5f92-4079-8667-6caf0037fd01\"],  #\"92014546-44a7-4770-af7f-ba6628aae09f\"],\n",
    "                                   search_config=GroundingFilterSearch(max_chunk_count=15),\n",
    "                                   data_repository_type=DataRepositoryType.VECTOR.value\n",
    "                                   )\n",
    "]\n",
    "\n",
    "grounding_config = GroundingModule(\n",
    "            type=\"document_grounding_service\",\n",
    "            config=DocumentGrounding(input_params=[\"user_query\"], output_param=\"grounding_response\", filters=filters)\n",
    "        )\n",
    "\n",
    "config = OrchestrationConfig(\n",
    "    template=template,\n",
    "    llm=llm,\n",
    "    grounding=grounding_config\n",
    ")"
   ],
   "id": "429c5dd8c0e13475",
   "outputs": [],
   "execution_count": 16
  },
  {
   "metadata": {},
   "cell_type": "markdown",
   "source": [
    " #### Step 3: Generate context-relevant answer for a user query\n",
    "   - Run the Orchestration Service with the Configuration from the previous step."
   ],
   "id": "21b996611eadcb38"
  },
  {
   "metadata": {
    "ExecuteTime": {
     "end_time": "2025-02-10T15:08:39.353396Z",
     "start_time": "2025-02-10T15:08:12.605148Z"
    }
   },
   "cell_type": "code",
   "source": [
    "response = orchestration_service.run(config=config,\n",
    "                            template_values=[\n",
    "                                TemplateValue(\"user_query\", \"List the issues that are reported by customers.\"),\n",
    "                            ])\n",
    "print(response.orchestration_result.choices[0].message.content)"
   ],
   "id": "b98e040f0afdaef9",
   "outputs": [
    {
     "name": "stdout",
     "output_type": "stream",
     "text": [
      "Based on the provided context, here is a list of issues reported by customers:\n",
      "\n",
      "1. **HVAC System Noise** - Minor noise issue after repair at Lakeview Corporate Offices.\n",
      "2. **Landscaping Service Issues** - Improperly trimmed shrubs and debris left behind at Crestview Gardens Apartments.\n",
      "3. **Window Cleaning Oversight** - Missed windows in the east wing of Riverfront Business Complex.\n",
      "4. **AC Malfunction** - Malfunctioning air conditioning unit at Sunridge Mall.\n",
      "5. **Janitorial Service Oversight** - Some classrooms skipped during cleaning at Brookdale High School.\n",
      "6. **Elevator Malfunction** - Malfunctioning elevator in Building B at Oakwood Corporate Center.\n",
      "7. **Heating System Malfunction** - Urgent heating system issue at Greenview Residences.\n",
      "8. **Electrical Issues** - Flickering lighting in the showroom at Midtown Motors.\n",
      "9. **Plumbing Leak** - Persistent leak and water pressure issue in the kitchen area at Skyview Towers.\n",
      "10. **Water Damage** - Water damage on the ceiling of Unit 4B at Parchment Creek Apartments.\n",
      "11. **Roofing Repair Status** - Inquiry about the status of roofing repair at Lakeshore Industrial Park.\n",
      "12. **Pest Control Request** - Increase in ants around Building D at Willow Creek Estates.\n",
      "13. **Cleaning Service Oversight** - Conference room missed during cleaning at the main office on Elm Street.\n",
      "\n",
      "These issues range from maintenance and repair needs to service oversights and requests for additional services.\n"
     ]
    }
   ],
   "execution_count": 18
  },
  {
   "metadata": {},
   "cell_type": "code",
   "source": "",
   "id": "d6a98757a81d90a5",
   "outputs": [],
   "execution_count": null
  },
  {
   "metadata": {
    "ExecuteTime": {
     "end_time": "2025-02-10T15:08:48.718564Z",
     "start_time": "2025-02-10T15:08:48.715450Z"
    }
   },
   "cell_type": "code",
   "source": "print(response.module_results.grounding.data['grounding_result'])\n",
   "id": "6806a890a2448ea6",
   "outputs": [
    {
     "name": "stdout",
     "output_type": "stream",
     "text": [
      "Subject: Feedback on HVAC Repair\n",
      "\n",
      "Hello,\n",
      "\n",
      "I wanted to thank your team for the prompt repair of our HVAC system at Lakeview Corporate Offices. However, there’s been a minor noise issue since. Is it possible to have a technician look into this?\n",
      "\n",
      "Warm regards,\n",
      "Robert Kim```Subject: Complaint About Recent Landscaping Service\n",
      "\n",
      "Dear Facility Solutions Team,\n",
      "\n",
      "I’m writing to report some issues with the recent landscaping service at Crestview Gardens Apartments. The shrubs were not trimmed properly, and debris was left behind. Can someone come to address this soon?\n",
      "\n",
      "Sincerely,\n",
      "James Anderson```Subject: Complaint: Window Cleaning Service Oversight\n",
      "\n",
      "Dear Facility Solutions,\n",
      "\n",
      "I wanted to bring to your attention that the windows in the east wing of the Riverfront Business Complex were missed during the last cleaning service. This has been recurring, and I would appreciate it if we could resolve this soon.\n",
      "\n",
      "Regards,\n",
      "Mark Phillips```Subject: Urgent Request for AC Repair\n",
      "\n",
      "Facility Solutions Team,\n",
      "\n",
      "The air conditioning unit at Sunridge Mall is malfunctioning, causing discomfort to shoppers and tenants during peak hours. Please could a technician visit us at the earliest possible convenience?\n",
      "\n",
      "Appreciatively,\n",
      "Tony Larson```Subject: Feedback Request on Janitorial Service\n",
      "\n",
      "Hi,\n",
      "\n",
      "Following the recent janitorial service at Brookdale High School, we’ve noticed a significant improvement in cleanliness. However, some classrooms were skipped last week, and we’d appreciate a review to ensure thoroughness in future visits.\n",
      "\n",
      "Warm regards,\n",
      "Lisa Chambers```Subject: Follow-Up Needed on Office Maintenance Request\n",
      "\n",
      "Hello,\n",
      "\n",
      "I’m following up on the maintenance request I submitted about the malfunctioning elevator in Building B at Oakwood Corporate Center. Any update on when this will be resolved?\n",
      "\n",
      "Thanks,\n",
      "Raj Patel```Subject: Urgent Heating System Malfunction\n",
      "\n",
      "Hello,\n",
      "\n",
      "I'm writing to report an urgent issue with the heating system in my apartment at Greenview Residences. With temperatures falling, it’s becoming quite uncomfortable. Could someone be sent over today to address this?\n",
      "\n",
      "Thank you,\n",
      "Emily Carter```Subject: Urgent Need for Electrical Repair\n",
      "\n",
      "Hi Facility Solutions Team,\n",
      "\n",
      "The lighting in our showroom at Midtown Motors has been flickering, affecting our daily operations. This requires urgent attention. Could an electrician be scheduled for today or tomorrow morning?\n",
      "\n",
      "Appreciatively,\n",
      "Jessica Tran```Subject: Inquiry About Emergency Maintenance Service\n",
      "\n",
      "Hello,\n",
      "\n",
      "I manage the Central Heights office building, and we’re considering your company for emergency maintenance support. Could you provide more information about response times and coverage for after-hours incidents?\n",
      "\n",
      "Best,\n",
      "Thomas Whitaker```Subject: Request for Plumbing Maintenance\n",
      "\n",
      "Hello Facility Solutions Team,\n",
      "\n",
      "I'm writing to report a persistent leak in the residents' kitchen area at Skyview Towers. The drip from the faucet is becoming more pronounced, and water pressure seems affected as well. Could we have someone take a look at this sometime this week?\n",
      "\n",
      "Thank you for your prompt attention to this matter.\n",
      "\n",
      "Best,\n",
      "Diana Thompson```Subject: Immediate Assistance Required for Water Damage\n",
      "\n",
      "Hi,\n",
      "\n",
      "I've discovered water damage on the ceiling of Unit 4B at Parchment Creek Apartments, presumably due to a plumbing issue in the unit above. This needs immediate attention to prevent further damage. Can you please prioritize this inquiry?\n",
      "\n",
      "Regards,\n",
      "Kevin Alvarez```Subject: Need Update on Roofing Repair Status\n",
      "\n",
      "Hello,\n",
      "\n",
      "Some time ago, a roofing repair was scheduled for our facility at Lakeshore Industrial Park, following a previous storm. Can you provide an update on progress and estimated completion?\n",
      "\n",
      "Best,\n",
      "Sam Rodgers```Subject: Request for Pest Control Service\n",
      "\n",
      "Hi Facility Solutions Team,\n",
      "\n",
      "I’m reaching out to request pest control services for our apartment complex, Willow Creek Estates. We've noticed an increase in ants around Building D, particularly in the communal kitchen areas. Could this be scheduled for next week?\n",
      "\n",
      "Thank you,\n",
      "Laura Reynolds```Subject: Feedback on Last Week's Cleaning Service\n",
      "\n",
      "Hi Facility Solutions Team,\n",
      "\n",
      "I want to express my appreciation for the cleaning service last week at our main office on Elm Street. Andre did an excellent job, but I noticed the conference room was missed. Can this be added to the next scheduled cleaning?\n",
      "\n",
      "Best regards,\n",
      "Michael Nguyen```Subject: Inquiry About Custom Maintenance Packages\n",
      "\n",
      "Hi,\n",
      "\n",
      "We are exploring custom maintenance packages for our retail space in Downtown Plaza. Could we schedule a meeting to discuss options and pricing?\n",
      "\n",
      "Thanks,\n",
      "Sophia Martinez\n"
     ]
    }
   ],
   "execution_count": 19
  },
  {
   "metadata": {},
   "cell_type": "code",
   "outputs": [],
   "execution_count": null,
   "source": "",
   "id": "b90878b7dcfac2f9"
  }
 ],
 "metadata": {
  "kernelspec": {
   "display_name": ".venv",
   "language": "python",
   "name": "python3"
  },
  "language_info": {
   "codemirror_mode": {
    "name": "ipython",
    "version": 3
   },
   "file_extension": ".py",
   "mimetype": "text/x-python",
   "name": "python",
   "nbconvert_exporter": "python",
   "pygments_lexer": "ipython3",
   "version": "3.10.8"
  }
 },
 "nbformat": 4,
 "nbformat_minor": 5
}
